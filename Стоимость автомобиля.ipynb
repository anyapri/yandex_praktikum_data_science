{
 "cells": [
  {
   "cell_type": "code",
   "execution_count": 1,
   "metadata": {},
   "outputs": [],
   "source": [
    "import pandas as pd\n",
    "import numpy as np\n",
    "\n",
    "import seaborn as sns\n",
    "import matplotlib.pyplot as plt\n",
    "\n",
    "from sklearn.preprocessing import LabelEncoder\n",
    "from sklearn.model_selection import train_test_split\n",
    "from sklearn.metrics import mean_squared_error\n",
    "from sklearn.linear_model import LinearRegression, Lasso, Ridge\n",
    "from catboost import CatBoostRegressor\n",
    "from lightgbm import LGBMRegressor\n",
    "\n",
    "\n",
    "import warnings\n",
    "warnings.filterwarnings('ignore')"
   ]
  },
  {
   "cell_type": "code",
   "execution_count": 2,
   "metadata": {},
   "outputs": [],
   "source": [
    "df = pd.read_csv('autos.csv')\n",
    "df_copy = df.copy()"
   ]
  },
  {
   "cell_type": "code",
   "execution_count": 3,
   "metadata": {},
   "outputs": [],
   "source": [
    "df_copy.dropna(inplace=True)"
   ]
  },
  {
   "cell_type": "code",
   "execution_count": 4,
   "metadata": {},
   "outputs": [
    {
     "data": {
      "text/html": [
       "<div>\n",
       "<style scoped>\n",
       "    .dataframe tbody tr th:only-of-type {\n",
       "        vertical-align: middle;\n",
       "    }\n",
       "\n",
       "    .dataframe tbody tr th {\n",
       "        vertical-align: top;\n",
       "    }\n",
       "\n",
       "    .dataframe thead th {\n",
       "        text-align: right;\n",
       "    }\n",
       "</style>\n",
       "<table border=\"1\" class=\"dataframe\">\n",
       "  <thead>\n",
       "    <tr style=\"text-align: right;\">\n",
       "      <th></th>\n",
       "      <th>DateCrawled</th>\n",
       "      <th>Price</th>\n",
       "      <th>VehicleType</th>\n",
       "      <th>RegistrationYear</th>\n",
       "      <th>Gearbox</th>\n",
       "      <th>Power</th>\n",
       "      <th>Model</th>\n",
       "      <th>Kilometer</th>\n",
       "      <th>RegistrationMonth</th>\n",
       "      <th>FuelType</th>\n",
       "      <th>Brand</th>\n",
       "      <th>NotRepaired</th>\n",
       "      <th>DateCreated</th>\n",
       "      <th>NumberOfPictures</th>\n",
       "      <th>PostalCode</th>\n",
       "      <th>LastSeen</th>\n",
       "    </tr>\n",
       "  </thead>\n",
       "  <tbody>\n",
       "    <tr>\n",
       "      <th>0</th>\n",
       "      <td>2016-03-24 11:52:17</td>\n",
       "      <td>480</td>\n",
       "      <td>NaN</td>\n",
       "      <td>1993</td>\n",
       "      <td>manual</td>\n",
       "      <td>0</td>\n",
       "      <td>golf</td>\n",
       "      <td>150000</td>\n",
       "      <td>0</td>\n",
       "      <td>petrol</td>\n",
       "      <td>volkswagen</td>\n",
       "      <td>NaN</td>\n",
       "      <td>2016-03-24 00:00:00</td>\n",
       "      <td>0</td>\n",
       "      <td>70435</td>\n",
       "      <td>2016-04-07 03:16:57</td>\n",
       "    </tr>\n",
       "    <tr>\n",
       "      <th>1</th>\n",
       "      <td>2016-03-24 10:58:45</td>\n",
       "      <td>18300</td>\n",
       "      <td>coupe</td>\n",
       "      <td>2011</td>\n",
       "      <td>manual</td>\n",
       "      <td>190</td>\n",
       "      <td>NaN</td>\n",
       "      <td>125000</td>\n",
       "      <td>5</td>\n",
       "      <td>gasoline</td>\n",
       "      <td>audi</td>\n",
       "      <td>yes</td>\n",
       "      <td>2016-03-24 00:00:00</td>\n",
       "      <td>0</td>\n",
       "      <td>66954</td>\n",
       "      <td>2016-04-07 01:46:50</td>\n",
       "    </tr>\n",
       "    <tr>\n",
       "      <th>2</th>\n",
       "      <td>2016-03-14 12:52:21</td>\n",
       "      <td>9800</td>\n",
       "      <td>suv</td>\n",
       "      <td>2004</td>\n",
       "      <td>auto</td>\n",
       "      <td>163</td>\n",
       "      <td>grand</td>\n",
       "      <td>125000</td>\n",
       "      <td>8</td>\n",
       "      <td>gasoline</td>\n",
       "      <td>jeep</td>\n",
       "      <td>NaN</td>\n",
       "      <td>2016-03-14 00:00:00</td>\n",
       "      <td>0</td>\n",
       "      <td>90480</td>\n",
       "      <td>2016-04-05 12:47:46</td>\n",
       "    </tr>\n",
       "    <tr>\n",
       "      <th>3</th>\n",
       "      <td>2016-03-17 16:54:04</td>\n",
       "      <td>1500</td>\n",
       "      <td>small</td>\n",
       "      <td>2001</td>\n",
       "      <td>manual</td>\n",
       "      <td>75</td>\n",
       "      <td>golf</td>\n",
       "      <td>150000</td>\n",
       "      <td>6</td>\n",
       "      <td>petrol</td>\n",
       "      <td>volkswagen</td>\n",
       "      <td>no</td>\n",
       "      <td>2016-03-17 00:00:00</td>\n",
       "      <td>0</td>\n",
       "      <td>91074</td>\n",
       "      <td>2016-03-17 17:40:17</td>\n",
       "    </tr>\n",
       "    <tr>\n",
       "      <th>4</th>\n",
       "      <td>2016-03-31 17:25:20</td>\n",
       "      <td>3600</td>\n",
       "      <td>small</td>\n",
       "      <td>2008</td>\n",
       "      <td>manual</td>\n",
       "      <td>69</td>\n",
       "      <td>fabia</td>\n",
       "      <td>90000</td>\n",
       "      <td>7</td>\n",
       "      <td>gasoline</td>\n",
       "      <td>skoda</td>\n",
       "      <td>no</td>\n",
       "      <td>2016-03-31 00:00:00</td>\n",
       "      <td>0</td>\n",
       "      <td>60437</td>\n",
       "      <td>2016-04-06 10:17:21</td>\n",
       "    </tr>\n",
       "  </tbody>\n",
       "</table>\n",
       "</div>"
      ],
      "text/plain": [
       "           DateCrawled  Price VehicleType  RegistrationYear Gearbox  Power  \\\n",
       "0  2016-03-24 11:52:17    480         NaN              1993  manual      0   \n",
       "1  2016-03-24 10:58:45  18300       coupe              2011  manual    190   \n",
       "2  2016-03-14 12:52:21   9800         suv              2004    auto    163   \n",
       "3  2016-03-17 16:54:04   1500       small              2001  manual     75   \n",
       "4  2016-03-31 17:25:20   3600       small              2008  manual     69   \n",
       "\n",
       "   Model  Kilometer  RegistrationMonth  FuelType       Brand NotRepaired  \\\n",
       "0   golf     150000                  0    petrol  volkswagen         NaN   \n",
       "1    NaN     125000                  5  gasoline        audi         yes   \n",
       "2  grand     125000                  8  gasoline        jeep         NaN   \n",
       "3   golf     150000                  6    petrol  volkswagen          no   \n",
       "4  fabia      90000                  7  gasoline       skoda          no   \n",
       "\n",
       "           DateCreated  NumberOfPictures  PostalCode             LastSeen  \n",
       "0  2016-03-24 00:00:00                 0       70435  2016-04-07 03:16:57  \n",
       "1  2016-03-24 00:00:00                 0       66954  2016-04-07 01:46:50  \n",
       "2  2016-03-14 00:00:00                 0       90480  2016-04-05 12:47:46  \n",
       "3  2016-03-17 00:00:00                 0       91074  2016-03-17 17:40:17  \n",
       "4  2016-03-31 00:00:00                 0       60437  2016-04-06 10:17:21  "
      ]
     },
     "execution_count": 4,
     "metadata": {},
     "output_type": "execute_result"
    }
   ],
   "source": [
    "df.head()"
   ]
  },
  {
   "cell_type": "markdown",
   "metadata": {},
   "source": [
    "#### Признаки   \n",
    "   \n",
    "- DateCrawled — дата скачивания анкеты из базы\n",
    "- VehicleType — тип автомобильного кузова\n",
    "- RegistrationYear — год регистрации автомобиля\n",
    "- Gearbox — тип коробки передач\n",
    "- Power — мощность (л. с.)\n",
    "- Model — модель автомобиля\n",
    "- Kilometer — пробег (км)\n",
    "- RegistrationMonth — месяц регистрации автомобиля\n",
    "- FuelType — тип топлива\n",
    "- Brand — марка автомобиля\n",
    "- NotRepaired — была машина в ремонте или нет\n",
    "- DateCreated — дата создания анкеты\n",
    "- NumberOfPictures — количество фотографий автомобиля\n",
    "- PostalCode — почтовый индекс владельца анкеты (пользователя)\n",
    "- LastSeen — дата последней активности пользователя\n",
    "\n",
    "#### Целевой признак    \n",
    "      \n",
    "- Price — цена (евро)"
   ]
  },
  {
   "cell_type": "code",
   "execution_count": 5,
   "metadata": {},
   "outputs": [
    {
     "name": "stdout",
     "output_type": "stream",
     "text": [
      "<class 'pandas.core.frame.DataFrame'>\n",
      "RangeIndex: 354369 entries, 0 to 354368\n",
      "Data columns (total 16 columns):\n",
      " #   Column             Non-Null Count   Dtype \n",
      "---  ------             --------------   ----- \n",
      " 0   DateCrawled        354369 non-null  object\n",
      " 1   Price              354369 non-null  int64 \n",
      " 2   VehicleType        316879 non-null  object\n",
      " 3   RegistrationYear   354369 non-null  int64 \n",
      " 4   Gearbox            334536 non-null  object\n",
      " 5   Power              354369 non-null  int64 \n",
      " 6   Model              334664 non-null  object\n",
      " 7   Kilometer          354369 non-null  int64 \n",
      " 8   RegistrationMonth  354369 non-null  int64 \n",
      " 9   FuelType           321474 non-null  object\n",
      " 10  Brand              354369 non-null  object\n",
      " 11  NotRepaired        283215 non-null  object\n",
      " 12  DateCreated        354369 non-null  object\n",
      " 13  NumberOfPictures   354369 non-null  int64 \n",
      " 14  PostalCode         354369 non-null  int64 \n",
      " 15  LastSeen           354369 non-null  object\n",
      "dtypes: int64(7), object(9)\n",
      "memory usage: 43.3+ MB\n"
     ]
    }
   ],
   "source": [
    "df.info()"
   ]
  },
  {
   "cell_type": "code",
   "execution_count": 6,
   "metadata": {},
   "outputs": [
    {
     "data": {
      "text/html": [
       "<div>\n",
       "<style scoped>\n",
       "    .dataframe tbody tr th:only-of-type {\n",
       "        vertical-align: middle;\n",
       "    }\n",
       "\n",
       "    .dataframe tbody tr th {\n",
       "        vertical-align: top;\n",
       "    }\n",
       "\n",
       "    .dataframe thead th {\n",
       "        text-align: right;\n",
       "    }\n",
       "</style>\n",
       "<table border=\"1\" class=\"dataframe\">\n",
       "  <thead>\n",
       "    <tr style=\"text-align: right;\">\n",
       "      <th></th>\n",
       "      <th>Price</th>\n",
       "      <th>RegistrationYear</th>\n",
       "      <th>Power</th>\n",
       "      <th>Kilometer</th>\n",
       "      <th>RegistrationMonth</th>\n",
       "      <th>NumberOfPictures</th>\n",
       "      <th>PostalCode</th>\n",
       "    </tr>\n",
       "  </thead>\n",
       "  <tbody>\n",
       "    <tr>\n",
       "      <th>count</th>\n",
       "      <td>354369.000000</td>\n",
       "      <td>354369.000000</td>\n",
       "      <td>354369.000000</td>\n",
       "      <td>354369.000000</td>\n",
       "      <td>354369.000000</td>\n",
       "      <td>354369.0</td>\n",
       "      <td>354369.000000</td>\n",
       "    </tr>\n",
       "    <tr>\n",
       "      <th>mean</th>\n",
       "      <td>4416.656776</td>\n",
       "      <td>2004.234448</td>\n",
       "      <td>110.094337</td>\n",
       "      <td>128211.172535</td>\n",
       "      <td>5.714645</td>\n",
       "      <td>0.0</td>\n",
       "      <td>50508.689087</td>\n",
       "    </tr>\n",
       "    <tr>\n",
       "      <th>std</th>\n",
       "      <td>4514.158514</td>\n",
       "      <td>90.227958</td>\n",
       "      <td>189.850405</td>\n",
       "      <td>37905.341530</td>\n",
       "      <td>3.726421</td>\n",
       "      <td>0.0</td>\n",
       "      <td>25783.096248</td>\n",
       "    </tr>\n",
       "    <tr>\n",
       "      <th>min</th>\n",
       "      <td>0.000000</td>\n",
       "      <td>1000.000000</td>\n",
       "      <td>0.000000</td>\n",
       "      <td>5000.000000</td>\n",
       "      <td>0.000000</td>\n",
       "      <td>0.0</td>\n",
       "      <td>1067.000000</td>\n",
       "    </tr>\n",
       "    <tr>\n",
       "      <th>25%</th>\n",
       "      <td>1050.000000</td>\n",
       "      <td>1999.000000</td>\n",
       "      <td>69.000000</td>\n",
       "      <td>125000.000000</td>\n",
       "      <td>3.000000</td>\n",
       "      <td>0.0</td>\n",
       "      <td>30165.000000</td>\n",
       "    </tr>\n",
       "    <tr>\n",
       "      <th>50%</th>\n",
       "      <td>2700.000000</td>\n",
       "      <td>2003.000000</td>\n",
       "      <td>105.000000</td>\n",
       "      <td>150000.000000</td>\n",
       "      <td>6.000000</td>\n",
       "      <td>0.0</td>\n",
       "      <td>49413.000000</td>\n",
       "    </tr>\n",
       "    <tr>\n",
       "      <th>75%</th>\n",
       "      <td>6400.000000</td>\n",
       "      <td>2008.000000</td>\n",
       "      <td>143.000000</td>\n",
       "      <td>150000.000000</td>\n",
       "      <td>9.000000</td>\n",
       "      <td>0.0</td>\n",
       "      <td>71083.000000</td>\n",
       "    </tr>\n",
       "    <tr>\n",
       "      <th>max</th>\n",
       "      <td>20000.000000</td>\n",
       "      <td>9999.000000</td>\n",
       "      <td>20000.000000</td>\n",
       "      <td>150000.000000</td>\n",
       "      <td>12.000000</td>\n",
       "      <td>0.0</td>\n",
       "      <td>99998.000000</td>\n",
       "    </tr>\n",
       "  </tbody>\n",
       "</table>\n",
       "</div>"
      ],
      "text/plain": [
       "               Price  RegistrationYear          Power      Kilometer  \\\n",
       "count  354369.000000     354369.000000  354369.000000  354369.000000   \n",
       "mean     4416.656776       2004.234448     110.094337  128211.172535   \n",
       "std      4514.158514         90.227958     189.850405   37905.341530   \n",
       "min         0.000000       1000.000000       0.000000    5000.000000   \n",
       "25%      1050.000000       1999.000000      69.000000  125000.000000   \n",
       "50%      2700.000000       2003.000000     105.000000  150000.000000   \n",
       "75%      6400.000000       2008.000000     143.000000  150000.000000   \n",
       "max     20000.000000       9999.000000   20000.000000  150000.000000   \n",
       "\n",
       "       RegistrationMonth  NumberOfPictures     PostalCode  \n",
       "count      354369.000000          354369.0  354369.000000  \n",
       "mean            5.714645               0.0   50508.689087  \n",
       "std             3.726421               0.0   25783.096248  \n",
       "min             0.000000               0.0    1067.000000  \n",
       "25%             3.000000               0.0   30165.000000  \n",
       "50%             6.000000               0.0   49413.000000  \n",
       "75%             9.000000               0.0   71083.000000  \n",
       "max            12.000000               0.0   99998.000000  "
      ]
     },
     "execution_count": 6,
     "metadata": {},
     "output_type": "execute_result"
    }
   ],
   "source": [
    "df.describe()"
   ]
  },
  {
   "cell_type": "markdown",
   "metadata": {},
   "source": [
    "> Датасет содержит 16 признаков, описывающих характеристики 354 369 автомобилей. Тип данный: int и object. Чтобы работать с данными лучше сделать следущие шаги:   \n",
    "1. Перевести признаки DateCrawled, DateCreated в формат даты;\n",
    "2. Проверить пропуски и дубликаты и избавиться от них;\n",
    "3. Проверить наличие выбросов и придумать стратегию для них;\n",
    "4. Удалить ненужные признаки: PostalCode, NumberOfPictures, LastSeen, RegistrationMonth;\n",
    "5. Удалить нереалистичные года в столбце RegistrationYear\n",
    "6. Удалить автомобили стоимостью 0 евро"
   ]
  },
  {
   "cell_type": "code",
   "execution_count": 7,
   "metadata": {},
   "outputs": [
    {
     "name": "stdout",
     "output_type": "stream",
     "text": [
      "Дубликатов: 4\n"
     ]
    }
   ],
   "source": [
    "print('Дубликатов:', df.duplicated().sum())\n",
    "df.drop_duplicates(inplace=True, ignore_index=True)"
   ]
  },
  {
   "cell_type": "code",
   "execution_count": 8,
   "metadata": {
    "scrolled": true
   },
   "outputs": [
    {
     "data": {
      "text/plain": [
       "DateCrawled              0\n",
       "Price                    0\n",
       "VehicleType          37490\n",
       "RegistrationYear         0\n",
       "Gearbox              19833\n",
       "Power                    0\n",
       "Model                19705\n",
       "Kilometer                0\n",
       "RegistrationMonth        0\n",
       "FuelType             32895\n",
       "Brand                    0\n",
       "NotRepaired          71154\n",
       "DateCreated              0\n",
       "NumberOfPictures         0\n",
       "PostalCode               0\n",
       "LastSeen                 0\n",
       "dtype: int64"
      ]
     },
     "execution_count": 8,
     "metadata": {},
     "output_type": "execute_result"
    }
   ],
   "source": [
    "# обработка пропусков\n",
    "df.isna().sum()"
   ]
  },
  {
   "cell_type": "code",
   "execution_count": 9,
   "metadata": {},
   "outputs": [
    {
     "data": {
      "image/png": "[encoded data removed]",
      "text/plain": [
       "<Figure size 1152x1008 with 4 Axes>"
      ]
     },
     "metadata": {
      "needs_background": "light"
     },
     "output_type": "display_data"
    }
   ],
   "source": [
    "numerical = ['Price', 'Kilometer', 'Power', 'RegistrationYear']\n",
    "fig, ax = plt.subplots(4,1, figsize=(16, 14))\n",
    "for variable, subplot in zip(numerical, ax):\n",
    "    sns.distplot(df[variable], ax=subplot)"
   ]
  },
  {
   "cell_type": "markdown",
   "metadata": {},
   "source": [
    "> По графику мощности видно, что пропуски заполнены нулями, их лучше заполнить более оптимальными значениями, например, найти те же самые модели и заполнить пропуски показателями мощности найденных моделей. Также много нулей среди цен на автомобили, эти данные будут мешать обучению и их лучше удалить. Тогда распределение показателей будет больше похоже на нормальное, будет меньше выбросов и аномалий и модели будет проще искать зависимость."
   ]
  },
  {
   "cell_type": "markdown",
   "metadata": {},
   "source": [
    "### Заполнение пропусков"
   ]
  },
  {
   "cell_type": "markdown",
   "metadata": {},
   "source": [
    "Для начала избавимся от выбросов по году и мощности, а также удалим экземпляры с ценой 0 евро."
   ]
  },
  {
   "cell_type": "code",
   "execution_count": 10,
   "metadata": {},
   "outputs": [],
   "source": [
    "df = df[(df.RegistrationYear > 1990) & (df.RegistrationYear < 2021)]\n",
    "df = df[df.Power < 500]\n",
    "df = df[df.Price > 0]"
   ]
  },
  {
   "cell_type": "markdown",
   "metadata": {},
   "source": [
    "Предположим, что если продавец не указал, восстановлена машина или нет, то она не восстановлена:"
   ]
  },
  {
   "cell_type": "code",
   "execution_count": 11,
   "metadata": {},
   "outputs": [],
   "source": [
    "df.NotRepaired.fillna('yes', inplace=True)"
   ]
  },
  {
   "cell_type": "code",
   "execution_count": 12,
   "metadata": {},
   "outputs": [],
   "source": [
    "df.Power = df.Power.replace(0, np.nan)\n",
    "power_year = df.groupby(\"RegistrationYear\")['Power'].agg(lambda x:x.value_counts().index[0]).to_dict()"
   ]
  },
  {
   "cell_type": "code",
   "execution_count": 13,
   "metadata": {
    "scrolled": true
   },
   "outputs": [],
   "source": [
    "def filler_power(row):\n",
    "    year = row['RegistrationYear']\n",
    "    power = row['Power']\n",
    "    if np.isnan(power):\n",
    "        return power_year[year]\n",
    "    else:\n",
    "        return power"
   ]
  },
  {
   "cell_type": "code",
   "execution_count": 14,
   "metadata": {},
   "outputs": [],
   "source": [
    "df.Power = df[['RegistrationYear', 'Power']].apply(filler_power, axis=1)"
   ]
  },
  {
   "cell_type": "raw",
   "metadata": {},
   "source": [
    "gearbox_brands = df_copy.groupby(\"Model\")['Gearbox'].agg(lambda x:x.value_counts().index[0]).to_dict()\n",
    "df['Gearbox'].fillna('NG', inplace=True)\n",
    "df['Model'].fillna('NG', inplace=True)\n",
    "def filler_veh_type(row):\n",
    "    model = row['Model']\n",
    "    Gearbox = row['Gearbox']\n",
    "    if Gearbox == 'NG' and model != 'NG':\n",
    "        return gearbox_brands[model]\n",
    "    elif Gearbox != 'NG':\n",
    "        return Gearbox\n",
    "    elif Gearbox == 'NG' and model == 'NG':\n",
    "        return None"
   ]
  },
  {
   "cell_type": "code",
   "execution_count": 15,
   "metadata": {},
   "outputs": [],
   "source": [
    "gearbox_brands = df.groupby(\"Brand\")['Gearbox'].agg(lambda x:x.value_counts().index[0]).to_dict()\n",
    "df.Gearbox.fillna(np.nan, inplace=True)\n",
    "def filler_gear(row):\n",
    "    brand = row['Brand']\n",
    "    gear = row['Gearbox']\n",
    "    if gear is np.nan:\n",
    "        return gearbox_brands[brand]\n",
    "    else:\n",
    "        return gear\n",
    "df.Gearbox = df[['Gearbox', 'Brand']].apply(filler_gear, axis=1)"
   ]
  },
  {
   "cell_type": "code",
   "execution_count": 16,
   "metadata": {},
   "outputs": [],
   "source": [
    "models_vehType = df_copy.groupby(\"Model\")['VehicleType'].agg(lambda x:x.value_counts().index[0]).to_dict()\n",
    "\n",
    "df['Model'].fillna('NG', inplace=True)\n",
    "def filler_veh_type(row):\n",
    "    model = row['Model']\n",
    "    veh_type = row['VehicleType']\n",
    "    if veh_type == 'NG' and model != 'NG':\n",
    "        return models_vehType[model]\n",
    "    elif veh_type != 'NG':\n",
    "        return veh_type\n",
    "    elif veh_type == 'NG' and model == 'NG':\n",
    "        return None"
   ]
  },
  {
   "cell_type": "code",
   "execution_count": 17,
   "metadata": {},
   "outputs": [],
   "source": [
    "df.VehicleType = df[['VehicleType', 'Model']].apply(filler_veh_type, axis=1)"
   ]
  },
  {
   "cell_type": "code",
   "execution_count": 18,
   "metadata": {},
   "outputs": [
    {
     "data": {
      "image/png": "[encoded data removed]",
      "text/plain": [
       "<Figure size 1152x1008 with 4 Axes>"
      ]
     },
     "metadata": {
      "needs_background": "light"
     },
     "output_type": "display_data"
    }
   ],
   "source": [
    "numerical = ['Price', 'Kilometer', 'Power', 'RegistrationYear']\n",
    "fig, ax = plt.subplots(4,1, figsize=(16, 14))\n",
    "for variable, subplot in zip(numerical, ax):\n",
    "    sns.distplot(df[variable], ax=subplot)"
   ]
  },
  {
   "cell_type": "markdown",
   "metadata": {},
   "source": [
    "#### Удаление ненужных признаков"
   ]
  },
  {
   "cell_type": "markdown",
   "metadata": {},
   "source": [
    "При первом прогоне Catboost веса признаков определились следующим образом:   \n",
    "   \n",
    "- VehicleType : 5.0\n",
    "- RegistrationYear : 39.0\n",
    "- Gearbox : 0.0\n",
    "- Power : 30.0\n",
    "- Model : 4.0\n",
    "- Kilometer : 8.0\n",
    "- FuelType : 2.0\n",
    "- Brand : 9.0\n",
    "- NotRepaired : 3.0\n",
    "- Year : 0.0\n",
    "- Month : 0.0\n",
    "- Day : 0.0\n",
    "\n",
    "Можно сделать вывод, что дата не важна совсем - её можно удалить. Параметр FuelType имеет слабый вес, поэтому лучше удалить столбец, чем удалять 30000 строк из-за пропусов по этому признаку. Коробка передач также не важна, поэтому этот столбец тоже можно удалить."
   ]
  },
  {
   "cell_type": "code",
   "execution_count": 19,
   "metadata": {},
   "outputs": [],
   "source": [
    "df.drop(['PostalCode', 'NumberOfPictures', 'LastSeen', 'RegistrationMonth', 'DateCreated', 'DateCrawled', 'FuelType'], axis=1, inplace=True)"
   ]
  },
  {
   "cell_type": "code",
   "execution_count": 20,
   "metadata": {},
   "outputs": [
    {
     "name": "stdout",
     "output_type": "stream",
     "text": [
      "Пропусков: 32172\n"
     ]
    }
   ],
   "source": [
    "print('Пропусков:', df.isna().sum().sum())"
   ]
  },
  {
   "cell_type": "code",
   "execution_count": 21,
   "metadata": {},
   "outputs": [],
   "source": [
    "df.dropna(inplace=True)"
   ]
  },
  {
   "cell_type": "code",
   "execution_count": 22,
   "metadata": {},
   "outputs": [
    {
     "name": "stdout",
     "output_type": "stream",
     "text": [
      "Пропусков: 0\n",
      "Дубликатов: 47320\n",
      "Осталось строк: 299516\n"
     ]
    }
   ],
   "source": [
    "print('Пропусков:', df.isna().sum().sum())\n",
    "print('Дубликатов:', df.duplicated().sum())\n",
    "print('Осталось строк:', df.shape[0])"
   ]
  },
  {
   "cell_type": "markdown",
   "metadata": {},
   "source": [
    "### CatBoost"
   ]
  },
  {
   "cell_type": "markdown",
   "metadata": {},
   "source": [
    "#### Кодирование признаков"
   ]
  },
  {
   "cell_type": "code",
   "execution_count": 23,
   "metadata": {},
   "outputs": [],
   "source": [
    "df.Model = df.Model.replace('other', 'other_model')\n",
    "categorial = df.select_dtypes('object').columns.to_list()\n",
    "\n",
    "for col in categorial:\n",
    "    dum = pd.get_dummies(df[col], drop_first=True)\n",
    "    df = pd.concat([df, dum], axis=1)\n",
    "    df.drop(col, axis=1, inplace=True)"
   ]
  },
  {
   "cell_type": "code",
   "execution_count": 24,
   "metadata": {},
   "outputs": [],
   "source": [
    "features = df.drop(['Price'], axis=1)\n",
    "target = df['Price']\n",
    "\n",
    "features_train, features_test, target_train, target_test = train_test_split(features, target, test_size=0.2, random_state=1)"
   ]
  },
  {
   "cell_type": "code",
   "execution_count": 25,
   "metadata": {},
   "outputs": [],
   "source": [
    "categorial = df.select_dtypes(include='object').columns.to_list() "
   ]
  },
  {
   "cell_type": "code",
   "execution_count": 26,
   "metadata": {
    "scrolled": true
   },
   "outputs": [
    {
     "name": "stdout",
     "output_type": "stream",
     "text": [
      "learning_rate: 0.1\n",
      "0:\tlearn: 4258.7844939\ttotal: 169ms\tremaining: 25.1s\n",
      "50:\tlearn: 1822.3467092\ttotal: 5.85s\tremaining: 11.4s\n",
      "100:\tlearn: 1721.0899261\ttotal: 11.6s\tremaining: 5.6s\n",
      "149:\tlearn: 1673.4554317\ttotal: 18.5s\tremaining: 0us\n",
      "learning_rate: 0.2\n",
      "0:\tlearn: 3949.3236342\ttotal: 85ms\tremaining: 12.7s\n",
      "50:\tlearn: 1722.9270051\ttotal: 4.81s\tremaining: 9.34s\n",
      "100:\tlearn: 1642.6892990\ttotal: 11.1s\tremaining: 5.4s\n",
      "149:\tlearn: 1599.0752142\ttotal: 15s\tremaining: 0us\n",
      "learning_rate: 0.3\n",
      "0:\tlearn: 3654.5463009\ttotal: 122ms\tremaining: 18.1s\n",
      "50:\tlearn: 1674.1150550\ttotal: 4.09s\tremaining: 7.94s\n",
      "100:\tlearn: 1596.4472709\ttotal: 8.1s\tremaining: 3.93s\n",
      "149:\tlearn: 1556.8182219\ttotal: 11.9s\tremaining: 0us\n",
      "learning_rate: 0.4\n",
      "0:\tlearn: 3378.2984366\ttotal: 101ms\tremaining: 15.1s\n",
      "50:\tlearn: 1650.4182123\ttotal: 5.98s\tremaining: 11.6s\n",
      "100:\tlearn: 1576.1417230\ttotal: 10.2s\tremaining: 4.95s\n",
      "149:\tlearn: 1535.8436640\ttotal: 13.9s\tremaining: 0us\n",
      "learning_rate: 0.5\n",
      "0:\tlearn: 3125.4970478\ttotal: 81.3ms\tremaining: 12.1s\n",
      "50:\tlearn: 1634.2230407\ttotal: 3.85s\tremaining: 7.48s\n",
      "100:\tlearn: 1557.9539405\ttotal: 7.68s\tremaining: 3.72s\n",
      "149:\tlearn: 1516.4836892\ttotal: 14.6s\tremaining: 0us\n",
      "learning_rate: 0.6\n",
      "0:\tlearn: 2902.2754376\ttotal: 142ms\tremaining: 21.1s\n",
      "50:\tlearn: 1619.9887011\ttotal: 6.84s\tremaining: 13.3s\n",
      "100:\tlearn: 1546.0391632\ttotal: 13.4s\tremaining: 6.49s\n",
      "149:\tlearn: 1505.0744188\ttotal: 18.7s\tremaining: 0us\n",
      "learning_rate: 0.7\n",
      "0:\tlearn: 2715.9370677\ttotal: 171ms\tremaining: 25.5s\n",
      "50:\tlearn: 1610.6931230\ttotal: 4.48s\tremaining: 8.7s\n",
      "100:\tlearn: 1539.0234529\ttotal: 8.39s\tremaining: 4.07s\n",
      "149:\tlearn: 1497.3187980\ttotal: 12.3s\tremaining: 0us\n",
      "learning_rate: 0.8\n",
      "0:\tlearn: 2574.5028389\ttotal: 79.3ms\tremaining: 11.8s\n",
      "50:\tlearn: 1606.3533302\ttotal: 3.82s\tremaining: 7.42s\n",
      "100:\tlearn: 1528.7161422\ttotal: 8.83s\tremaining: 4.28s\n",
      "149:\tlearn: 1488.3032676\ttotal: 14.7s\tremaining: 0us\n",
      "learning_rate: 0.9\n",
      "0:\tlearn: 2485.6499641\ttotal: 79.9ms\tremaining: 11.9s\n",
      "50:\tlearn: 1603.7544793\ttotal: 4.09s\tremaining: 7.94s\n",
      "100:\tlearn: 1527.9709235\ttotal: 7.96s\tremaining: 3.86s\n",
      "149:\tlearn: 1488.0271870\ttotal: 14.5s\tremaining: 0us\n",
      "Wall time: 3min 1s\n"
     ]
    }
   ],
   "source": [
    "best_rmse = 10000\n",
    "best_model = None\n",
    "learning_rate = map(lambda x: x/10, range(1, 10))\n",
    "for lr in learning_rate:\n",
    "    print('learning_rate:', lr)\n",
    "    model = CatBoostRegressor(iterations=150, cat_features=categorial, verbose=50, learning_rate=lr)\n",
    "    model.fit(features_train, target_train)\n",
    "    preds = model.predict(features_test)\n",
    "    rmse = (mean_squared_error(target_test, preds)) ** .5\n",
    "    if rmse < best_rmse:\n",
    "        best_model = model"
   ]
  },
  {
   "cell_type": "code",
   "execution_count": 64,
   "metadata": {},
   "outputs": [
    {
     "name": "stdout",
     "output_type": "stream",
     "text": [
      "0:\tlearn: 2485.6499641\ttotal: 99.3ms\tremaining: 14.8s\n",
      "50:\tlearn: 1603.7544793\ttotal: 6.27s\tremaining: 12.2s\n",
      "100:\tlearn: 1527.9709235\ttotal: 11.2s\tremaining: 5.42s\n",
      "149:\tlearn: 1488.0271870\ttotal: 15.2s\tremaining: 0us\n",
      "Wall time: 19.3 s\n"
     ]
    },
    {
     "data": {
      "text/plain": [
       "<catboost.core.CatBoostRegressor at 0x179c0659948>"
      ]
     },
     "execution_count": 64,
     "metadata": {},
     "output_type": "execute_result"
    }
   ],
   "source": [
    "%%time\n",
    "model = CatBoostRegressor(iterations=150, cat_features=categorial, verbose=50, learning_rate=0.9)\n",
    "model.fit(features_train, target_train)"
   ]
  },
  {
   "cell_type": "code",
   "execution_count": 65,
   "metadata": {
    "scrolled": true
   },
   "outputs": [
    {
     "name": "stdout",
     "output_type": "stream",
     "text": [
      "Wall time: 289 ms\n"
     ]
    }
   ],
   "source": [
    "%%time\n",
    "preds = model.predict(features_test)"
   ]
  },
  {
   "cell_type": "code",
   "execution_count": 66,
   "metadata": {},
   "outputs": [
    {
     "data": {
      "text/plain": [
       "1551.9031598021525"
      ]
     },
     "execution_count": 66,
     "metadata": {},
     "output_type": "execute_result"
    }
   ],
   "source": [
    "(mean_squared_error(target_test, preds)) ** .5"
   ]
  },
  {
   "cell_type": "markdown",
   "metadata": {},
   "source": [
    "### LightGBM"
   ]
  },
  {
   "cell_type": "code",
   "execution_count": 46,
   "metadata": {
    "scrolled": true
   },
   "outputs": [
    {
     "name": "stdout",
     "output_type": "stream",
     "text": [
      "[1]\tvalid_0's l1: 2513.72\tvalid_0's l2: 1.06494e+07\n",
      "Training until validation scores don't improve for 1000 rounds\n",
      "[2]\tvalid_0's l1: 1933.01\tvalid_0's l2: 6.70478e+06\n",
      "[3]\tvalid_0's l1: 1603.17\tvalid_0's l2: 5.00947e+06\n",
      "[4]\tvalid_0's l1: 1429.36\tvalid_0's l2: 4.20496e+06\n",
      "[5]\tvalid_0's l1: 1320.69\tvalid_0's l2: 3.76915e+06\n",
      "[6]\tvalid_0's l1: 1255.65\tvalid_0's l2: 3.51102e+06\n",
      "[7]\tvalid_0's l1: 1217.89\tvalid_0's l2: 3.3469e+06\n",
      "[8]\tvalid_0's l1: 1185.75\tvalid_0's l2: 3.23688e+06\n",
      "[9]\tvalid_0's l1: 1161.17\tvalid_0's l2: 3.14576e+06\n",
      "[10]\tvalid_0's l1: 1141.67\tvalid_0's l2: 3.06942e+06\n",
      "[11]\tvalid_0's l1: 1129.84\tvalid_0's l2: 3.02503e+06\n",
      "[12]\tvalid_0's l1: 1120.16\tvalid_0's l2: 2.98142e+06\n",
      "[13]\tvalid_0's l1: 1111.42\tvalid_0's l2: 2.94016e+06\n",
      "[14]\tvalid_0's l1: 1105.4\tvalid_0's l2: 2.91164e+06\n",
      "[15]\tvalid_0's l1: 1094.84\tvalid_0's l2: 2.87244e+06\n",
      "[16]\tvalid_0's l1: 1089.77\tvalid_0's l2: 2.8472e+06\n",
      "[17]\tvalid_0's l1: 1085.8\tvalid_0's l2: 2.82766e+06\n",
      "[18]\tvalid_0's l1: 1079.86\tvalid_0's l2: 2.80316e+06\n",
      "[19]\tvalid_0's l1: 1076.05\tvalid_0's l2: 2.78408e+06\n",
      "[20]\tvalid_0's l1: 1071.71\tvalid_0's l2: 2.76572e+06\n",
      "[21]\tvalid_0's l1: 1067.74\tvalid_0's l2: 2.74634e+06\n",
      "[22]\tvalid_0's l1: 1067.08\tvalid_0's l2: 2.7411e+06\n",
      "[23]\tvalid_0's l1: 1064.59\tvalid_0's l2: 2.72951e+06\n",
      "[24]\tvalid_0's l1: 1061.46\tvalid_0's l2: 2.7136e+06\n",
      "[25]\tvalid_0's l1: 1059.43\tvalid_0's l2: 2.70331e+06\n",
      "[26]\tvalid_0's l1: 1057.16\tvalid_0's l2: 2.69283e+06\n",
      "[27]\tvalid_0's l1: 1054.33\tvalid_0's l2: 2.68011e+06\n",
      "[28]\tvalid_0's l1: 1052.56\tvalid_0's l2: 2.67285e+06\n",
      "[29]\tvalid_0's l1: 1049.99\tvalid_0's l2: 2.66154e+06\n",
      "[30]\tvalid_0's l1: 1047.64\tvalid_0's l2: 2.6511e+06\n",
      "[31]\tvalid_0's l1: 1045.45\tvalid_0's l2: 2.64068e+06\n",
      "[32]\tvalid_0's l1: 1042.71\tvalid_0's l2: 2.62621e+06\n",
      "[33]\tvalid_0's l1: 1041.77\tvalid_0's l2: 2.62159e+06\n",
      "[34]\tvalid_0's l1: 1040.53\tvalid_0's l2: 2.61787e+06\n",
      "[35]\tvalid_0's l1: 1039.35\tvalid_0's l2: 2.61176e+06\n",
      "[36]\tvalid_0's l1: 1038.62\tvalid_0's l2: 2.60954e+06\n",
      "[37]\tvalid_0's l1: 1037.5\tvalid_0's l2: 2.60268e+06\n",
      "[38]\tvalid_0's l1: 1034.82\tvalid_0's l2: 2.59249e+06\n",
      "[39]\tvalid_0's l1: 1033.97\tvalid_0's l2: 2.58982e+06\n",
      "[40]\tvalid_0's l1: 1032.31\tvalid_0's l2: 2.58179e+06\n",
      "[41]\tvalid_0's l1: 1031.01\tvalid_0's l2: 2.5763e+06\n",
      "[42]\tvalid_0's l1: 1030.25\tvalid_0's l2: 2.57274e+06\n",
      "[43]\tvalid_0's l1: 1029.17\tvalid_0's l2: 2.56927e+06\n",
      "[44]\tvalid_0's l1: 1028.43\tvalid_0's l2: 2.56566e+06\n",
      "[45]\tvalid_0's l1: 1026.73\tvalid_0's l2: 2.55777e+06\n",
      "[46]\tvalid_0's l1: 1025.91\tvalid_0's l2: 2.55566e+06\n",
      "[47]\tvalid_0's l1: 1025.11\tvalid_0's l2: 2.5514e+06\n",
      "[48]\tvalid_0's l1: 1023.48\tvalid_0's l2: 2.54337e+06\n",
      "[49]\tvalid_0's l1: 1022\tvalid_0's l2: 2.53666e+06\n",
      "[50]\tvalid_0's l1: 1021.24\tvalid_0's l2: 2.53324e+06\n",
      "[51]\tvalid_0's l1: 1020.54\tvalid_0's l2: 2.53108e+06\n",
      "[52]\tvalid_0's l1: 1019.17\tvalid_0's l2: 2.52622e+06\n",
      "[53]\tvalid_0's l1: 1018.16\tvalid_0's l2: 2.52046e+06\n",
      "[54]\tvalid_0's l1: 1017.62\tvalid_0's l2: 2.51821e+06\n",
      "[55]\tvalid_0's l1: 1017.11\tvalid_0's l2: 2.51488e+06\n",
      "[56]\tvalid_0's l1: 1016.54\tvalid_0's l2: 2.51303e+06\n",
      "[57]\tvalid_0's l1: 1015.75\tvalid_0's l2: 2.50804e+06\n",
      "[58]\tvalid_0's l1: 1013.77\tvalid_0's l2: 2.50068e+06\n",
      "[59]\tvalid_0's l1: 1012.13\tvalid_0's l2: 2.49428e+06\n",
      "[60]\tvalid_0's l1: 1010.57\tvalid_0's l2: 2.48776e+06\n",
      "[61]\tvalid_0's l1: 1009.81\tvalid_0's l2: 2.48424e+06\n",
      "[62]\tvalid_0's l1: 1009.46\tvalid_0's l2: 2.48204e+06\n",
      "[63]\tvalid_0's l1: 1008.82\tvalid_0's l2: 2.47915e+06\n",
      "[64]\tvalid_0's l1: 1008.39\tvalid_0's l2: 2.47741e+06\n",
      "[65]\tvalid_0's l1: 1007.07\tvalid_0's l2: 2.47385e+06\n",
      "[66]\tvalid_0's l1: 1005.76\tvalid_0's l2: 2.46934e+06\n",
      "[67]\tvalid_0's l1: 1005.04\tvalid_0's l2: 2.46754e+06\n",
      "[68]\tvalid_0's l1: 1004.5\tvalid_0's l2: 2.46451e+06\n",
      "[69]\tvalid_0's l1: 1004.03\tvalid_0's l2: 2.46113e+06\n",
      "[70]\tvalid_0's l1: 1003.52\tvalid_0's l2: 2.45941e+06\n",
      "[71]\tvalid_0's l1: 1002.91\tvalid_0's l2: 2.45769e+06\n",
      "[72]\tvalid_0's l1: 1002.43\tvalid_0's l2: 2.45616e+06\n",
      "[73]\tvalid_0's l1: 1002.2\tvalid_0's l2: 2.45555e+06\n",
      "[74]\tvalid_0's l1: 1001.86\tvalid_0's l2: 2.45401e+06\n",
      "[75]\tvalid_0's l1: 1001.23\tvalid_0's l2: 2.45207e+06\n",
      "[76]\tvalid_0's l1: 1000.69\tvalid_0's l2: 2.45003e+06\n",
      "[77]\tvalid_0's l1: 1000.33\tvalid_0's l2: 2.44834e+06\n",
      "[78]\tvalid_0's l1: 1000.01\tvalid_0's l2: 2.44687e+06\n",
      "[79]\tvalid_0's l1: 999.172\tvalid_0's l2: 2.44306e+06\n",
      "[80]\tvalid_0's l1: 998.771\tvalid_0's l2: 2.44162e+06\n",
      "[81]\tvalid_0's l1: 998.573\tvalid_0's l2: 2.44157e+06\n",
      "[82]\tvalid_0's l1: 998.155\tvalid_0's l2: 2.44052e+06\n",
      "[83]\tvalid_0's l1: 997.524\tvalid_0's l2: 2.43836e+06\n",
      "[84]\tvalid_0's l1: 996.673\tvalid_0's l2: 2.43565e+06\n",
      "[85]\tvalid_0's l1: 995.639\tvalid_0's l2: 2.42962e+06\n",
      "[86]\tvalid_0's l1: 994.877\tvalid_0's l2: 2.42687e+06\n",
      "[87]\tvalid_0's l1: 994.511\tvalid_0's l2: 2.42586e+06\n",
      "[88]\tvalid_0's l1: 993.658\tvalid_0's l2: 2.42258e+06\n",
      "[89]\tvalid_0's l1: 993.38\tvalid_0's l2: 2.42192e+06\n",
      "[90]\tvalid_0's l1: 993.004\tvalid_0's l2: 2.4191e+06\n",
      "[91]\tvalid_0's l1: 992.25\tvalid_0's l2: 2.41691e+06\n",
      "[92]\tvalid_0's l1: 991.909\tvalid_0's l2: 2.41626e+06\n",
      "[93]\tvalid_0's l1: 991.534\tvalid_0's l2: 2.41537e+06\n",
      "[94]\tvalid_0's l1: 991.067\tvalid_0's l2: 2.41273e+06\n",
      "[95]\tvalid_0's l1: 990.69\tvalid_0's l2: 2.41101e+06\n",
      "[96]\tvalid_0's l1: 990.272\tvalid_0's l2: 2.40855e+06\n",
      "[97]\tvalid_0's l1: 989.948\tvalid_0's l2: 2.40748e+06\n",
      "[98]\tvalid_0's l1: 989.492\tvalid_0's l2: 2.40608e+06\n",
      "[99]\tvalid_0's l1: 989.235\tvalid_0's l2: 2.40512e+06\n",
      "[100]\tvalid_0's l1: 988.814\tvalid_0's l2: 2.40402e+06\n",
      "Did not meet early stopping. Best iteration is:\n",
      "[100]\tvalid_0's l1: 988.814\tvalid_0's l2: 2.40402e+06\n",
      "Wall time: 14 s\n"
     ]
    },
    {
     "data": {
      "text/plain": [
       "LGBMRegressor(boosting_type='gbdt', class_weight=None, colsample_bytree=1.0,\n",
       "              importance_type='split', learning_rate=0.4, max_depth=-1,\n",
       "              min_child_samples=20, min_child_weight=0.001, min_split_gain=0.0,\n",
       "              n_estimators=100, n_jobs=-1, num_leaves=31, objective=None,\n",
       "              random_state=None, reg_alpha=0.0, reg_lambda=0.0, silent=True,\n",
       "              subsample=1.0, subsample_for_bin=200000, subsample_freq=0)"
      ]
     },
     "execution_count": 46,
     "metadata": {},
     "output_type": "execute_result"
    }
   ],
   "source": [
    "%%time\n",
    "gbm = LGBMRegressor(learning_rate=0.4)\n",
    "gbm.fit(features_train, target_train, eval_set=[(features_test, target_test)],\n",
    "        eval_metric='l1',\n",
    "        early_stopping_rounds=1000)"
   ]
  },
  {
   "cell_type": "code",
   "execution_count": 67,
   "metadata": {
    "scrolled": true
   },
   "outputs": [
    {
     "name": "stdout",
     "output_type": "stream",
     "text": [
      "Wall time: 1.66 s\n"
     ]
    }
   ],
   "source": [
    "%%time\n",
    "preds = gbm.predict(features_test)"
   ]
  },
  {
   "cell_type": "code",
   "execution_count": 68,
   "metadata": {},
   "outputs": [
    {
     "data": {
      "text/plain": [
       "1550.4893072312987"
      ]
     },
     "execution_count": 68,
     "metadata": {},
     "output_type": "execute_result"
    }
   ],
   "source": [
    "(mean_squared_error(target_test, preds)) ** .5"
   ]
  },
  {
   "cell_type": "markdown",
   "metadata": {},
   "source": [
    "### Linear Regression"
   ]
  },
  {
   "cell_type": "code",
   "execution_count": 54,
   "metadata": {},
   "outputs": [
    {
     "name": "stdout",
     "output_type": "stream",
     "text": [
      "Wall time: 19.5 s\n"
     ]
    },
    {
     "data": {
      "text/plain": [
       "LinearRegression(copy_X=True, fit_intercept=True, n_jobs=None, normalize=True)"
      ]
     },
     "execution_count": 54,
     "metadata": {},
     "output_type": "execute_result"
    }
   ],
   "source": [
    "%%time\n",
    "lin_model = LinearRegression(normalize=True)\n",
    "lin_model.fit(features_train, target_train)"
   ]
  },
  {
   "cell_type": "code",
   "execution_count": 59,
   "metadata": {},
   "outputs": [
    {
     "name": "stdout",
     "output_type": "stream",
     "text": [
      "Wall time: 451 ms\n"
     ]
    }
   ],
   "source": [
    "%%time\n",
    "lin_preds = lin_model.predict(features_test)"
   ]
  },
  {
   "cell_type": "code",
   "execution_count": 60,
   "metadata": {},
   "outputs": [
    {
     "data": {
      "text/plain": [
       "2197.4211291761458"
      ]
     },
     "execution_count": 60,
     "metadata": {},
     "output_type": "execute_result"
    }
   ],
   "source": [
    "mean_squared_error(target_test, lin_preds) ** .5"
   ]
  },
  {
   "cell_type": "markdown",
   "metadata": {},
   "source": [
    "### L1 Регуляриазция"
   ]
  },
  {
   "cell_type": "code",
   "execution_count": 50,
   "metadata": {},
   "outputs": [
    {
     "name": "stdout",
     "output_type": "stream",
     "text": [
      "Wall time: 6.61 s\n"
     ]
    },
    {
     "data": {
      "text/plain": [
       "Lasso(alpha=1.0, copy_X=True, fit_intercept=True, max_iter=1000, normalize=True,\n",
       "      positive=False, precompute=False, random_state=None, selection='cyclic',\n",
       "      tol=0.0001, warm_start=False)"
      ]
     },
     "execution_count": 50,
     "metadata": {},
     "output_type": "execute_result"
    }
   ],
   "source": [
    "%%time\n",
    "lasso = Lasso(normalize=True)\n",
    "lasso.fit(features_train, target_train)"
   ]
  },
  {
   "cell_type": "code",
   "execution_count": 62,
   "metadata": {},
   "outputs": [
    {
     "name": "stdout",
     "output_type": "stream",
     "text": [
      "Wall time: 329 ms\n"
     ]
    }
   ],
   "source": [
    "%%time\n",
    "lasso_pred = lasso.predict(features_test)"
   ]
  },
  {
   "cell_type": "code",
   "execution_count": 63,
   "metadata": {},
   "outputs": [
    {
     "data": {
      "text/plain": [
       "2721.2964282338576"
      ]
     },
     "execution_count": 63,
     "metadata": {},
     "output_type": "execute_result"
    }
   ],
   "source": [
    "mean_squared_error(target_test, lasso_pred)**(.5)"
   ]
  },
  {
   "cell_type": "markdown",
   "metadata": {},
   "source": [
    "### L2 Регуляриазция"
   ]
  },
  {
   "cell_type": "code",
   "execution_count": 52,
   "metadata": {},
   "outputs": [
    {
     "name": "stdout",
     "output_type": "stream",
     "text": [
      "Wall time: 6.38 s\n"
     ]
    },
    {
     "data": {
      "text/plain": [
       "Ridge(alpha=1.0, copy_X=True, fit_intercept=True, max_iter=None, normalize=True,\n",
       "      random_state=None, solver='auto', tol=0.001)"
      ]
     },
     "execution_count": 52,
     "metadata": {},
     "output_type": "execute_result"
    }
   ],
   "source": [
    "%%time\n",
    "ridge = Ridge(normalize=True)\n",
    "ridge.fit(features_train, target_train)"
   ]
  },
  {
   "cell_type": "code",
   "execution_count": 53,
   "metadata": {},
   "outputs": [
    {
     "name": "stdout",
     "output_type": "stream",
     "text": [
      "Wall time: 344 ms\n"
     ]
    },
    {
     "data": {
      "text/plain": [
       "2666.4656834718758"
      ]
     },
     "execution_count": 53,
     "metadata": {},
     "output_type": "execute_result"
    }
   ],
   "source": [
    "%%time\n",
    "ridge_pred = ridge.predict(features_test)\n",
    "mean_squared_error(target_test, ridge_pred)**(.5)"
   ]
  },
  {
   "cell_type": "markdown",
   "metadata": {},
   "source": [
    "## Анализ моделей"
   ]
  },
  {
   "cell_type": "code",
   "execution_count": 72,
   "metadata": {},
   "outputs": [
    {
     "data": {
      "text/html": [
       "<div>\n",
       "<style scoped>\n",
       "    .dataframe tbody tr th:only-of-type {\n",
       "        vertical-align: middle;\n",
       "    }\n",
       "\n",
       "    .dataframe tbody tr th {\n",
       "        vertical-align: top;\n",
       "    }\n",
       "\n",
       "    .dataframe thead th {\n",
       "        text-align: right;\n",
       "    }\n",
       "</style>\n",
       "<table border=\"1\" class=\"dataframe\">\n",
       "  <thead>\n",
       "    <tr style=\"text-align: right;\">\n",
       "      <th></th>\n",
       "      <th>Fit time</th>\n",
       "      <th>Prediction time</th>\n",
       "      <th>RMSE</th>\n",
       "    </tr>\n",
       "    <tr>\n",
       "      <th>Model</th>\n",
       "      <th></th>\n",
       "      <th></th>\n",
       "      <th></th>\n",
       "    </tr>\n",
       "  </thead>\n",
       "  <tbody>\n",
       "    <tr>\n",
       "      <th>CatBoost</th>\n",
       "      <td>19.3 s</td>\n",
       "      <td>289 ms</td>\n",
       "      <td>1551</td>\n",
       "    </tr>\n",
       "    <tr>\n",
       "      <th>LightGBM</th>\n",
       "      <td>14 s</td>\n",
       "      <td>1.66 s</td>\n",
       "      <td>1550</td>\n",
       "    </tr>\n",
       "    <tr>\n",
       "      <th>Linear Regression</th>\n",
       "      <td>19.5 s</td>\n",
       "      <td>451 ms</td>\n",
       "      <td>2197</td>\n",
       "    </tr>\n",
       "    <tr>\n",
       "      <th>Lasso</th>\n",
       "      <td>6.61 s</td>\n",
       "      <td>329 ms</td>\n",
       "      <td>2727</td>\n",
       "    </tr>\n",
       "    <tr>\n",
       "      <th>Ridge</th>\n",
       "      <td>6.38 s</td>\n",
       "      <td>344 ms</td>\n",
       "      <td>2666</td>\n",
       "    </tr>\n",
       "  </tbody>\n",
       "</table>\n",
       "</div>"
      ],
      "text/plain": [
       "                  Fit time Prediction time  RMSE\n",
       "Model                                           \n",
       "CatBoost            19.3 s          289 ms  1551\n",
       "LightGBM              14 s          1.66 s  1550\n",
       "Linear Regression   19.5 s          451 ms  2197\n",
       "Lasso               6.61 s          329 ms  2727\n",
       "Ridge               6.38 s          344 ms  2666"
      ]
     },
     "execution_count": 72,
     "metadata": {},
     "output_type": "execute_result"
    }
   ],
   "source": [
    "values = pd.DataFrame({'Model':['CatBoost', 'LightGBM', 'Linear Regression', 'Lasso', 'Ridge'], \n",
    "                       'Fit time': ['19.3 s','14 s', '19.5 s', '6.61 s', '6.38 s'], \n",
    "                       'Prediction time': ['289 ms', '1.66 s', '451 ms', '329 ms', '344 ms'], \n",
    "                       'RMSE': [1551, 1550, 2197, 2727,2666]\n",
    "                      })\n",
    "\n",
    "values.set_index('Model')"
   ]
  },
  {
   "cell_type": "markdown",
   "metadata": {},
   "source": [
    "> Для прогнозирования цены использовалось 5 моделей машинного обучения: CatBoost, LightGBМ, Линейная регрессия + 2 вида регуляризации. Наилучшее качество показывают модели градиентного бустинга CatBoost и LightGBМ: их ошибка на тестовой выборке практически не отличается, однако LightGBМ обучается быстрее. Линейная регрессия слабее, при этом регуляризация не помогает повысить ее качетсво. Возможно регуляризация мало эффективна из-за большого количества данных: модель не переобучается, поэтому Лассо и гребневая регрессия бесполезны. "
   ]
  }
 ],
 "metadata": {
  "kernelspec": {
   "display_name": "Python 3",
   "language": "python",
   "name": "python3"
  },
  "language_info": {
   "codemirror_mode": {
    "name": "ipython",
    "version": 3
   },
   "file_extension": ".py",
   "mimetype": "text/x-python",
   "name": "python",
   "nbconvert_exporter": "python",
   "pygments_lexer": "ipython3",
   "version": "3.7.6"
  }
 },
 "nbformat": 4,
 "nbformat_minor": 4
}
