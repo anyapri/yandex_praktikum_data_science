{
 "cells": [
  {
   "cell_type": "markdown",
   "metadata": {},
   "source": [
    "# Отток клиентов"
   ]
  },
  {
   "cell_type": "markdown",
   "metadata": {},
   "source": [
    "Из «Бета-Банка» стали уходить клиенты. Каждый месяц. Немного, но заметно. Банковские маркетологи посчитали: сохранять текущих клиентов дешевле, чем привлекать новых.\n",
    "\n",
    "Нужно спрогнозировать, уйдёт клиент из банка в ближайшее время или нет. Вам предоставлены исторические данные о поведении клиентов и расторжении договоров с банком. \n",
    "\n",
    "Постройте модель с предельно большим значением *F1*-меры. Чтобы сдать проект успешно, нужно довести метрику до 0.59. Проверьте *F1*-меру на тестовой выборке самостоятельно.\n",
    "\n",
    "Дополнительно измеряйте *AUC-ROC*, сравнивайте её значение с *F1*-мерой.\n",
    "\n",
    "Источник данных: [https://www.kaggle.com/barelydedicated/bank-customer-churn-modeling](https://www.kaggle.com/barelydedicated/bank-customer-churn-modeling)"
   ]
  },
  {
   "cell_type": "markdown",
   "metadata": {},
   "source": [
    "### Содержание"
   ]
  },
  {
   "cell_type": "markdown",
   "metadata": {},
   "source": [
    "\n",
    "1. Подготовка данных    \n",
    "    \n",
    "    \n",
    "2. Модели без учета дисбаланса   \n",
    "   \n",
    " Logistic Regression   \n",
    " Decision Tree     \n",
    " Random Forest       \n",
    "           \n",
    "3. Борьба с дисбалансом        \n",
    "     \n",
    " Балансировка       \n",
    " Decision Tree    \n",
    " Random Forest      \n",
    "     \n",
    "4. Тестирование модели\n",
    "    \n"
   ]
  },
  {
   "cell_type": "markdown",
   "metadata": {},
   "source": [
    "# Шаг 0. Импорт модулей"
   ]
  },
  {
   "cell_type": "code",
   "execution_count": 1,
   "metadata": {},
   "outputs": [],
   "source": [
    "import warnings\n",
    "warnings.filterwarnings(\"ignore\")\n",
    "\n",
    "import pandas as pd\n",
    "\n",
    "import seaborn as sns\n",
    "import matplotlib.pyplot as plt\n",
    "\n",
    "from sklearn.model_selection import train_test_split, GridSearchCV\n",
    "from sklearn.tree import DecisionTreeClassifier\n",
    "from sklearn.ensemble import RandomForestClassifier\n",
    "from sklearn.linear_model import LogisticRegression\n",
    "\n",
    "from sklearn.utils import shuffle\n",
    "from sklearn.metrics import accuracy_score, precision_score, recall_score, f1_score, roc_auc_score, roc_curve, confusion_matrix\n",
    "from sklearn.preprocessing import StandardScaler\n",
    "import numpy as np\n",
    "import random"
   ]
  },
  {
   "cell_type": "markdown",
   "metadata": {},
   "source": [
    "<a id='section1'></a>\n",
    "# 1. Подготовка данных"
   ]
  },
  {
   "cell_type": "code",
   "execution_count": 2,
   "metadata": {},
   "outputs": [],
   "source": [
    "data = pd.read_csv(\"Churn_Modelling.csv\")"
   ]
  },
  {
   "cell_type": "code",
   "execution_count": 3,
   "metadata": {
    "scrolled": true
   },
   "outputs": [
    {
     "data": {
      "text/html": [
       "<div>\n",
       "<style scoped>\n",
       "    .dataframe tbody tr th:only-of-type {\n",
       "        vertical-align: middle;\n",
       "    }\n",
       "\n",
       "    .dataframe tbody tr th {\n",
       "        vertical-align: top;\n",
       "    }\n",
       "\n",
       "    .dataframe thead th {\n",
       "        text-align: right;\n",
       "    }\n",
       "</style>\n",
       "<table border=\"1\" class=\"dataframe\">\n",
       "  <thead>\n",
       "    <tr style=\"text-align: right;\">\n",
       "      <th></th>\n",
       "      <th>RowNumber</th>\n",
       "      <th>CustomerId</th>\n",
       "      <th>Surname</th>\n",
       "      <th>CreditScore</th>\n",
       "      <th>Geography</th>\n",
       "      <th>Gender</th>\n",
       "      <th>Age</th>\n",
       "      <th>Tenure</th>\n",
       "      <th>Balance</th>\n",
       "      <th>NumOfProducts</th>\n",
       "      <th>HasCrCard</th>\n",
       "      <th>IsActiveMember</th>\n",
       "      <th>EstimatedSalary</th>\n",
       "      <th>Exited</th>\n",
       "    </tr>\n",
       "  </thead>\n",
       "  <tbody>\n",
       "    <tr>\n",
       "      <th>0</th>\n",
       "      <td>1</td>\n",
       "      <td>15634602</td>\n",
       "      <td>Hargrave</td>\n",
       "      <td>619</td>\n",
       "      <td>France</td>\n",
       "      <td>Female</td>\n",
       "      <td>42</td>\n",
       "      <td>2</td>\n",
       "      <td>0.00</td>\n",
       "      <td>1</td>\n",
       "      <td>1</td>\n",
       "      <td>1</td>\n",
       "      <td>101348.88</td>\n",
       "      <td>1</td>\n",
       "    </tr>\n",
       "    <tr>\n",
       "      <th>1</th>\n",
       "      <td>2</td>\n",
       "      <td>15647311</td>\n",
       "      <td>Hill</td>\n",
       "      <td>608</td>\n",
       "      <td>Spain</td>\n",
       "      <td>Female</td>\n",
       "      <td>41</td>\n",
       "      <td>1</td>\n",
       "      <td>83807.86</td>\n",
       "      <td>1</td>\n",
       "      <td>0</td>\n",
       "      <td>1</td>\n",
       "      <td>112542.58</td>\n",
       "      <td>0</td>\n",
       "    </tr>\n",
       "    <tr>\n",
       "      <th>2</th>\n",
       "      <td>3</td>\n",
       "      <td>15619304</td>\n",
       "      <td>Onio</td>\n",
       "      <td>502</td>\n",
       "      <td>France</td>\n",
       "      <td>Female</td>\n",
       "      <td>42</td>\n",
       "      <td>8</td>\n",
       "      <td>159660.80</td>\n",
       "      <td>3</td>\n",
       "      <td>1</td>\n",
       "      <td>0</td>\n",
       "      <td>113931.57</td>\n",
       "      <td>1</td>\n",
       "    </tr>\n",
       "  </tbody>\n",
       "</table>\n",
       "</div>"
      ],
      "text/plain": [
       "   RowNumber  CustomerId   Surname  CreditScore Geography  Gender  Age  \\\n",
       "0          1    15634602  Hargrave          619    France  Female   42   \n",
       "1          2    15647311      Hill          608     Spain  Female   41   \n",
       "2          3    15619304      Onio          502    France  Female   42   \n",
       "\n",
       "   Tenure    Balance  NumOfProducts  HasCrCard  IsActiveMember  \\\n",
       "0       2       0.00              1          1               1   \n",
       "1       1   83807.86              1          0               1   \n",
       "2       8  159660.80              3          1               0   \n",
       "\n",
       "   EstimatedSalary  Exited  \n",
       "0        101348.88       1  \n",
       "1        112542.58       0  \n",
       "2        113931.57       1  "
      ]
     },
     "execution_count": 3,
     "metadata": {},
     "output_type": "execute_result"
    }
   ],
   "source": [
    "data.head(3)"
   ]
  },
  {
   "cell_type": "code",
   "execution_count": 4,
   "metadata": {
    "scrolled": false
   },
   "outputs": [
    {
     "data": {
      "text/html": [
       "<div>\n",
       "<style scoped>\n",
       "    .dataframe tbody tr th:only-of-type {\n",
       "        vertical-align: middle;\n",
       "    }\n",
       "\n",
       "    .dataframe tbody tr th {\n",
       "        vertical-align: top;\n",
       "    }\n",
       "\n",
       "    .dataframe thead th {\n",
       "        text-align: right;\n",
       "    }\n",
       "</style>\n",
       "<table border=\"1\" class=\"dataframe\">\n",
       "  <thead>\n",
       "    <tr style=\"text-align: right;\">\n",
       "      <th></th>\n",
       "      <th>RowNumber</th>\n",
       "      <th>CustomerId</th>\n",
       "      <th>CreditScore</th>\n",
       "      <th>Age</th>\n",
       "      <th>Tenure</th>\n",
       "      <th>Balance</th>\n",
       "      <th>NumOfProducts</th>\n",
       "      <th>HasCrCard</th>\n",
       "      <th>IsActiveMember</th>\n",
       "      <th>EstimatedSalary</th>\n",
       "      <th>Exited</th>\n",
       "    </tr>\n",
       "  </thead>\n",
       "  <tbody>\n",
       "    <tr>\n",
       "      <th>count</th>\n",
       "      <td>10000.00000</td>\n",
       "      <td>1.000000e+04</td>\n",
       "      <td>10000.000000</td>\n",
       "      <td>10000.000000</td>\n",
       "      <td>10000.000000</td>\n",
       "      <td>10000.000000</td>\n",
       "      <td>10000.000000</td>\n",
       "      <td>10000.00000</td>\n",
       "      <td>10000.000000</td>\n",
       "      <td>10000.000000</td>\n",
       "      <td>10000.000000</td>\n",
       "    </tr>\n",
       "    <tr>\n",
       "      <th>mean</th>\n",
       "      <td>5000.50000</td>\n",
       "      <td>1.569094e+07</td>\n",
       "      <td>650.528800</td>\n",
       "      <td>38.921800</td>\n",
       "      <td>5.012800</td>\n",
       "      <td>76485.889288</td>\n",
       "      <td>1.530200</td>\n",
       "      <td>0.70550</td>\n",
       "      <td>0.515100</td>\n",
       "      <td>100090.239881</td>\n",
       "      <td>0.203700</td>\n",
       "    </tr>\n",
       "    <tr>\n",
       "      <th>std</th>\n",
       "      <td>2886.89568</td>\n",
       "      <td>7.193619e+04</td>\n",
       "      <td>96.653299</td>\n",
       "      <td>10.487806</td>\n",
       "      <td>2.892174</td>\n",
       "      <td>62397.405202</td>\n",
       "      <td>0.581654</td>\n",
       "      <td>0.45584</td>\n",
       "      <td>0.499797</td>\n",
       "      <td>57510.492818</td>\n",
       "      <td>0.402769</td>\n",
       "    </tr>\n",
       "    <tr>\n",
       "      <th>min</th>\n",
       "      <td>1.00000</td>\n",
       "      <td>1.556570e+07</td>\n",
       "      <td>350.000000</td>\n",
       "      <td>18.000000</td>\n",
       "      <td>0.000000</td>\n",
       "      <td>0.000000</td>\n",
       "      <td>1.000000</td>\n",
       "      <td>0.00000</td>\n",
       "      <td>0.000000</td>\n",
       "      <td>11.580000</td>\n",
       "      <td>0.000000</td>\n",
       "    </tr>\n",
       "    <tr>\n",
       "      <th>25%</th>\n",
       "      <td>2500.75000</td>\n",
       "      <td>1.562853e+07</td>\n",
       "      <td>584.000000</td>\n",
       "      <td>32.000000</td>\n",
       "      <td>3.000000</td>\n",
       "      <td>0.000000</td>\n",
       "      <td>1.000000</td>\n",
       "      <td>0.00000</td>\n",
       "      <td>0.000000</td>\n",
       "      <td>51002.110000</td>\n",
       "      <td>0.000000</td>\n",
       "    </tr>\n",
       "    <tr>\n",
       "      <th>50%</th>\n",
       "      <td>5000.50000</td>\n",
       "      <td>1.569074e+07</td>\n",
       "      <td>652.000000</td>\n",
       "      <td>37.000000</td>\n",
       "      <td>5.000000</td>\n",
       "      <td>97198.540000</td>\n",
       "      <td>1.000000</td>\n",
       "      <td>1.00000</td>\n",
       "      <td>1.000000</td>\n",
       "      <td>100193.915000</td>\n",
       "      <td>0.000000</td>\n",
       "    </tr>\n",
       "    <tr>\n",
       "      <th>75%</th>\n",
       "      <td>7500.25000</td>\n",
       "      <td>1.575323e+07</td>\n",
       "      <td>718.000000</td>\n",
       "      <td>44.000000</td>\n",
       "      <td>7.000000</td>\n",
       "      <td>127644.240000</td>\n",
       "      <td>2.000000</td>\n",
       "      <td>1.00000</td>\n",
       "      <td>1.000000</td>\n",
       "      <td>149388.247500</td>\n",
       "      <td>0.000000</td>\n",
       "    </tr>\n",
       "    <tr>\n",
       "      <th>max</th>\n",
       "      <td>10000.00000</td>\n",
       "      <td>1.581569e+07</td>\n",
       "      <td>850.000000</td>\n",
       "      <td>92.000000</td>\n",
       "      <td>10.000000</td>\n",
       "      <td>250898.090000</td>\n",
       "      <td>4.000000</td>\n",
       "      <td>1.00000</td>\n",
       "      <td>1.000000</td>\n",
       "      <td>199992.480000</td>\n",
       "      <td>1.000000</td>\n",
       "    </tr>\n",
       "  </tbody>\n",
       "</table>\n",
       "</div>"
      ],
      "text/plain": [
       "         RowNumber    CustomerId   CreditScore           Age        Tenure  \\\n",
       "count  10000.00000  1.000000e+04  10000.000000  10000.000000  10000.000000   \n",
       "mean    5000.50000  1.569094e+07    650.528800     38.921800      5.012800   \n",
       "std     2886.89568  7.193619e+04     96.653299     10.487806      2.892174   \n",
       "min        1.00000  1.556570e+07    350.000000     18.000000      0.000000   \n",
       "25%     2500.75000  1.562853e+07    584.000000     32.000000      3.000000   \n",
       "50%     5000.50000  1.569074e+07    652.000000     37.000000      5.000000   \n",
       "75%     7500.25000  1.575323e+07    718.000000     44.000000      7.000000   \n",
       "max    10000.00000  1.581569e+07    850.000000     92.000000     10.000000   \n",
       "\n",
       "             Balance  NumOfProducts    HasCrCard  IsActiveMember  \\\n",
       "count   10000.000000   10000.000000  10000.00000    10000.000000   \n",
       "mean    76485.889288       1.530200      0.70550        0.515100   \n",
       "std     62397.405202       0.581654      0.45584        0.499797   \n",
       "min         0.000000       1.000000      0.00000        0.000000   \n",
       "25%         0.000000       1.000000      0.00000        0.000000   \n",
       "50%     97198.540000       1.000000      1.00000        1.000000   \n",
       "75%    127644.240000       2.000000      1.00000        1.000000   \n",
       "max    250898.090000       4.000000      1.00000        1.000000   \n",
       "\n",
       "       EstimatedSalary        Exited  \n",
       "count     10000.000000  10000.000000  \n",
       "mean     100090.239881      0.203700  \n",
       "std       57510.492818      0.402769  \n",
       "min          11.580000      0.000000  \n",
       "25%       51002.110000      0.000000  \n",
       "50%      100193.915000      0.000000  \n",
       "75%      149388.247500      0.000000  \n",
       "max      199992.480000      1.000000  "
      ]
     },
     "execution_count": 4,
     "metadata": {},
     "output_type": "execute_result"
    }
   ],
   "source": [
    "data.describe()"
   ]
  },
  {
   "cell_type": "code",
   "execution_count": 5,
   "metadata": {},
   "outputs": [
    {
     "data": {
      "text/plain": [
       "(10000, 14)"
      ]
     },
     "execution_count": 5,
     "metadata": {},
     "output_type": "execute_result"
    }
   ],
   "source": [
    "data.shape"
   ]
  },
  {
   "cell_type": "markdown",
   "metadata": {},
   "source": [
    "#### Признаки\n",
    "- RowNumber — индекс строки в данных\n",
    "- CustomerId — уникальный идентификатор клиента\n",
    "- Surname — фамилия\n",
    "- CreditScore — кредитный рейтинг\n",
    "- Geography — страна проживания\n",
    "- Gender — пол\n",
    "- Age — возраст\n",
    "- Tenure — количество недвижимости у клиента\n",
    "- Balance — баланс на счёте\n",
    "- NumOfProducts — количество продуктов банка, используемых клиентом\n",
    "- HasCrCard — наличие кредитной карты\n",
    "- IsActiveMember — активность клиента\n",
    "- EstimatedSalary — предполагаемая зарплата\n",
    "\n",
    "#### Целевой признак\n",
    "- Exited — факт ухода клиента"
   ]
  },
  {
   "cell_type": "markdown",
   "metadata": {},
   "source": [
    "#### Пропуски и дубликаты"
   ]
  },
  {
   "cell_type": "code",
   "execution_count": 6,
   "metadata": {},
   "outputs": [
    {
     "data": {
      "text/plain": [
       "RowNumber          0\n",
       "CustomerId         0\n",
       "Surname            0\n",
       "CreditScore        0\n",
       "Geography          0\n",
       "Gender             0\n",
       "Age                0\n",
       "Tenure             0\n",
       "Balance            0\n",
       "NumOfProducts      0\n",
       "HasCrCard          0\n",
       "IsActiveMember     0\n",
       "EstimatedSalary    0\n",
       "Exited             0\n",
       "dtype: int64"
      ]
     },
     "execution_count": 6,
     "metadata": {},
     "output_type": "execute_result"
    }
   ],
   "source": [
    "data.isna().sum()"
   ]
  },
  {
   "cell_type": "markdown",
   "metadata": {},
   "source": [
    "> В проекте будет решаться задача классификации: по информации о 10 тысяч клиентов нужно предсказать уйдет клиент из банка или останется. С данными уже можно работать: в них нет ни одного пропуска и дубликата."
   ]
  },
  {
   "cell_type": "markdown",
   "metadata": {},
   "source": [
    "<a id='section2'></a>\n",
    "# 2. Исследование задачи"
   ]
  },
  {
   "cell_type": "code",
   "execution_count": 7,
   "metadata": {},
   "outputs": [],
   "source": [
    "exited = data[data['Exited'] == 1] # разделим клиентов на ушедших и оставшихся\n",
    "remain = data[data['Exited'] == 0]"
   ]
  },
  {
   "cell_type": "markdown",
   "metadata": {},
   "source": [
    "#### Портрет ушедшего клента"
   ]
  },
  {
   "cell_type": "code",
   "execution_count": 8,
   "metadata": {},
   "outputs": [
    {
     "data": {
      "image/png": "[encoded data removed]",
      "text/plain": [
       "<Figure size 1152x720 with 4 Axes>"
      ]
     },
     "metadata": {
      "needs_background": "light"
     },
     "output_type": "display_data"
    }
   ],
   "source": [
    "fig, axes = plt.subplots(2, 2, figsize=(16,10))\n",
    "\n",
    "sns.distplot(data['Age'], ax = axes[0,0], rug=True, color='g')\n",
    "axes[0,0].set_title('Возраст клиентов')\n",
    "sns.countplot(x = 'Gender', ax = axes[0,1], data = data)\n",
    "axes[0,1].set_title('Пол клиентов')\n",
    "sns.distplot(exited['Age'], ax = axes[1,0], rug=True, color='g')\n",
    "axes[1,0].set_title('Возраст ушедших клиентов')\n",
    "sns.countplot(x = 'Gender', ax = axes[1,1], data = exited)\n",
    "axes[1,1].set_title('Пол ушедших клиентов')\n",
    "plt.show()"
   ]
  },
  {
   "cell_type": "code",
   "execution_count": 9,
   "metadata": {},
   "outputs": [
    {
     "data": {
      "image/png": "[encoded data removed]",
      "text/plain": [
       "<Figure size 1152x360 with 2 Axes>"
      ]
     },
     "metadata": {
      "needs_background": "light"
     },
     "output_type": "display_data"
    }
   ],
   "source": [
    "fig, axes = plt.subplots(1, 2, figsize=(16, 5))\n",
    "\n",
    "sns.countplot(ax = axes[0], x='Geography', data = data)\n",
    "axes[0].set_title(\"Страна клиента\")\n",
    "sns.countplot(ax = axes[1], x='Geography', data = exited)\n",
    "axes[1].set_title(\"Отток\")\n",
    "plt.show()"
   ]
  },
  {
   "cell_type": "markdown",
   "metadata": {},
   "source": [
    "> За рассмотренный период около 20% клиентов покинули банк, из них наибольшее количество клинетов ушло из Франции и Германии (по 800). При этом клиентов из Германии в банке было в два раза меньше, чем клиентов из Франции. Ушедщих немецких клиентов - 32%. Также банк чаще всего покидали женщины, при том что их среди общего числа клинетов также было меньше. Среди ушедших клиентов гораздо чаще встречаются люди старше среднего возраста клиентов. "
   ]
  },
  {
   "cell_type": "markdown",
   "metadata": {},
   "source": [
    "### Подготовка признаков"
   ]
  },
  {
   "cell_type": "markdown",
   "metadata": {},
   "source": [
    "Для обучения модели нужно заменить категориальные признакие (пол и страна) на количественные. Так как для обучения будут использоваться не только модели деревьев, но и логистическая регрессия, воспользуемся универсальным кодированием: One Hot Encoding. А также удалим неважные для прогнозирвоания признаки, такие как фамилия клиента, его ID и номер строки."
   ]
  },
  {
   "cell_type": "code",
   "execution_count": 10,
   "metadata": {},
   "outputs": [],
   "source": [
    "data = data.drop(['RowNumber', 'CustomerId', 'Surname'], axis=1) # удалим признаки, не влияющие на исход\n",
    "gender = pd.get_dummies(data['Gender'], drop_first=True)        # кодирование пола\n",
    "geography = pd.get_dummies(data['Geography'], drop_first=True)  # кодирование стран\n",
    "data = pd.concat([data, gender], axis=1)\n",
    "data = pd.concat([data, geography], axis=1)\n",
    "data = data.drop(['Gender', 'Geography'], axis=1)"
   ]
  },
  {
   "cell_type": "markdown",
   "metadata": {},
   "source": [
    "> Все категориальные признаки мы заменили количесвтенными с помощью прямого кодирования (One Hot Encoding). Для признаков Gender и Geography были созданы столбцы со значениями 0/1 и 0/1/2. "
   ]
  },
  {
   "cell_type": "markdown",
   "metadata": {},
   "source": [
    "### Обучение моделей"
   ]
  },
  {
   "cell_type": "markdown",
   "metadata": {},
   "source": [
    "На данных обучим три модели:\n",
    "- Логистическая регрессия;\n",
    "- Дерево решений;\n",
    "- Случайный лес;   \n",
    "\n",
    "Выделим в данных признаки и объекты, а также разделим выборки на обучающую, валидационную и тестовую:"
   ]
  },
  {
   "cell_type": "code",
   "execution_count": 11,
   "metadata": {},
   "outputs": [],
   "source": [
    "features = data.drop('Exited', axis=1)\n",
    "target = data['Exited']\n",
    "features_train, features_test, target_train, target_test = train_test_split(features, target, test_size=0.2, random_state=12345)\n",
    "features_train, features_valid, target_train, target_valid = train_test_split(features_train, target_train, test_size=0.2, random_state=12345)"
   ]
  },
  {
   "cell_type": "markdown",
   "metadata": {},
   "source": [
    "Функция для подсчета метрик модели:"
   ]
  },
  {
   "cell_type": "code",
   "execution_count": 12,
   "metadata": {},
   "outputs": [],
   "source": [
    "def model_score(model):\n",
    "    preds = model.predict(features_valid)\n",
    "    acc = accuracy_score(target_valid, preds)\n",
    "    model_score.f1 = f1_score(target_valid, preds)\n",
    "    recall = recall_score(target_valid, preds)\n",
    "    precision = precision_score(target_valid, preds)\n",
    "    roc_auc = roc_auc_score(target_valid, preds)\n",
    "    f1 = f1_score(target_valid, preds)\n",
    "    print('Правильность: {}'.format(acc))\n",
    "    print('F1: {}'.format(f1))\n",
    "    print('Полнота: {}'.format(recall))\n",
    "    print('Точность: {}'.format(precision))\n",
    "    print('ROC-AUC: {}'.format(roc_auc))\n",
    "    return acc, f1, recall, precision, roc_auc"
   ]
  },
  {
   "cell_type": "markdown",
   "metadata": {},
   "source": [
    "#### Logistic Regression"
   ]
  },
  {
   "cell_type": "markdown",
   "metadata": {},
   "source": [
    "Для того чтобы обучить модель логистической регресси, масштабируем признаки методом StandardScaler:"
   ]
  },
  {
   "cell_type": "code",
   "execution_count": 13,
   "metadata": {},
   "outputs": [],
   "source": [
    "scaler = StandardScaler()\n",
    "features_train_scaled = scaler.fit_transform(features_train)\n",
    "features_valid_scaled = scaler.transform(features_valid)"
   ]
  },
  {
   "cell_type": "code",
   "execution_count": 14,
   "metadata": {},
   "outputs": [
    {
     "name": "stdout",
     "output_type": "stream",
     "text": [
      "Правильность: 0.19\n",
      "F1: 0.31861198738170343\n",
      "Полнота: 1.0\n",
      "Точность: 0.1894934333958724\n",
      "ROC-AUC: 0.5003855050115651\n"
     ]
    }
   ],
   "source": [
    "model = LogisticRegression(random_state=12345)\n",
    "model.fit(features_train_scaled, target_train)\n",
    "preds = model.predict(features_valid_scaled)\n",
    "model_score(model);"
   ]
  },
  {
   "cell_type": "markdown",
   "metadata": {},
   "source": [
    "#### Decision Tree"
   ]
  },
  {
   "cell_type": "code",
   "execution_count": 15,
   "metadata": {},
   "outputs": [],
   "source": [
    "def depth_search(features_train, target_train, features_valid, target_valid): #функция для поиска оптимальной глубины дерева\n",
    "    best_model = None\n",
    "    best_f1 = 0\n",
    "    for depth in range(1,50):\n",
    "        model = DecisionTreeClassifier(random_state=12345, max_depth=depth)\n",
    "        model.fit(features_train, target_train)\n",
    "        preds_tree = model.predict(features_valid)\n",
    "        f1 = f1_score(target_valid, preds_tree)\n",
    "        if f1 > best_f1:\n",
    "            best_f1 = f1\n",
    "            best_model = model\n",
    "    depth_search.preds_tree = best_model.predict(features_valid)\n",
    "    print('Число уровней: {}'.format(best_model.max_depth))\n",
    "    return model_score(best_model), best_model.max_depth"
   ]
  },
  {
   "cell_type": "code",
   "execution_count": 16,
   "metadata": {},
   "outputs": [
    {
     "name": "stdout",
     "output_type": "stream",
     "text": [
      "Число уровней: 5\n",
      "Правильность: 0.858125\n",
      "F1: 0.5642994241842609\n",
      "Полнота: 0.48514851485148514\n",
      "Точность: 0.6743119266055045\n",
      "ROC-AUC: 0.7152034016046168\n"
     ]
    }
   ],
   "source": [
    "depth_search(features_train, target_train, features_valid, target_valid);"
   ]
  },
  {
   "cell_type": "markdown",
   "metadata": {},
   "source": [
    "#### Random Forest"
   ]
  },
  {
   "cell_type": "code",
   "execution_count": 17,
   "metadata": {},
   "outputs": [
    {
     "name": "stdout",
     "output_type": "stream",
     "text": [
      "Глубина дерева: 6 Число деревьев: 62\n"
     ]
    }
   ],
   "source": [
    "best_model = None\n",
    "best_acc = 0\n",
    "\n",
    "for est in range(1,70):\n",
    "    model = RandomForestClassifier(random_state = 12345, max_depth=6, n_estimators=est)\n",
    "    model.fit(features_train, target_train)\n",
    "    acc = model.score(features_valid, target_valid)\n",
    "    if acc > best_acc:\n",
    "        best_acc = acc\n",
    "        best_model = model\n",
    "    \n",
    "print('Глубина дерева:', best_model.max_depth, 'Число деревьев:', best_model.n_estimators)"
   ]
  },
  {
   "cell_type": "code",
   "execution_count": 18,
   "metadata": {},
   "outputs": [
    {
     "name": "stdout",
     "output_type": "stream",
     "text": [
      "Правильность: 0.865625\n",
      "F1: 0.5792563600782779\n",
      "Полнота: 0.4884488448844885\n",
      "Точность: 0.7115384615384616\n",
      "ROC-AUC: 0.7210941217483352\n",
      "Глубина дерева: 15 Число деревьев: 9\n"
     ]
    }
   ],
   "source": [
    "best_model = None\n",
    "best_f1 = 0\n",
    "\n",
    "for depth in range(1,50):\n",
    "    model = RandomForestClassifier(random_state = 12345, max_depth=depth, n_estimators=9)\n",
    "    model.fit(features_train, target_train)\n",
    "    preds = model.predict(features_valid)\n",
    "    f1 = f1_score(target_valid, preds)\n",
    "    if f1 > best_f1:\n",
    "        best_f1 = f1\n",
    "        best_model = model\n",
    "\n",
    "preds_forest = best_model.predict(features_valid)\n",
    "model_score(best_model);\n",
    "print('Глубина дерева:', best_model.max_depth, 'Число деревьев:', best_model.n_estimators)\n",
    "model_simple = best_model"
   ]
  },
  {
   "cell_type": "code",
   "execution_count": 19,
   "metadata": {},
   "outputs": [
    {
     "data": {
      "image/png": "[encoded data removed]",
      "text/plain": [
       "<Figure size 1152x432 with 4 Axes>"
      ]
     },
     "metadata": {
      "needs_background": "light"
     },
     "output_type": "display_data"
    }
   ],
   "source": [
    "fig, axes = plt.subplots(1, 2, figsize = (16,6))\n",
    "\n",
    "ConfusionMatrixTree = confusion_matrix(target_valid, depth_search.preds_tree)\n",
    "sns.heatmap(ConfusionMatrixTree, ax = axes[0], annot=True, fmt='d')\n",
    "axes[0].set(xlabel='Предсказания', ylabel=\"Ответы\")\n",
    "axes[0].set_title('Матрица ошибок дерева решений')\n",
    "ConfusionMatrixForest = confusion_matrix(target_valid, preds_forest)\n",
    "sns.heatmap(ConfusionMatrixForest, ax = axes[1], annot=True, fmt='d')\n",
    "axes[1].set(xlabel='Предсказания', ylabel=\"Ответы\")\n",
    "axes[1].set_title('Матрица ошибок случайного леса')\n",
    "\n",
    "plt.show()"
   ]
  },
  {
   "cell_type": "markdown",
   "metadata": {},
   "source": [
    "Обе модели можно назвать оптимистичными: чаще всего они ошибаются, когда предсказывают, что человек останется. Дерево решений угадывает только 49% ушедших клиентов, а модель случайного леса - 50%."
   ]
  },
  {
   "cell_type": "code",
   "execution_count": 20,
   "metadata": {},
   "outputs": [
    {
     "data": {
      "text/html": [
       "<div>\n",
       "<style scoped>\n",
       "    .dataframe tbody tr th:only-of-type {\n",
       "        vertical-align: middle;\n",
       "    }\n",
       "\n",
       "    .dataframe tbody tr th {\n",
       "        vertical-align: top;\n",
       "    }\n",
       "\n",
       "    .dataframe thead th {\n",
       "        text-align: right;\n",
       "    }\n",
       "</style>\n",
       "<table border=\"1\" class=\"dataframe\">\n",
       "  <thead>\n",
       "    <tr style=\"text-align: right;\">\n",
       "      <th></th>\n",
       "      <th>Accuracy</th>\n",
       "      <th>F1</th>\n",
       "      <th>AUC</th>\n",
       "    </tr>\n",
       "    <tr>\n",
       "      <th>Model</th>\n",
       "      <th></th>\n",
       "      <th></th>\n",
       "      <th></th>\n",
       "    </tr>\n",
       "  </thead>\n",
       "  <tbody>\n",
       "    <tr>\n",
       "      <th>Logistic Regression</th>\n",
       "      <td>0.19</td>\n",
       "      <td>0.31</td>\n",
       "      <td>0.50</td>\n",
       "    </tr>\n",
       "    <tr>\n",
       "      <th>Decision Tree</th>\n",
       "      <td>0.85</td>\n",
       "      <td>0.56</td>\n",
       "      <td>0.71</td>\n",
       "    </tr>\n",
       "    <tr>\n",
       "      <th>Random Forest</th>\n",
       "      <td>0.86</td>\n",
       "      <td>0.58</td>\n",
       "      <td>0.72</td>\n",
       "    </tr>\n",
       "  </tbody>\n",
       "</table>\n",
       "</div>"
      ],
      "text/plain": [
       "                     Accuracy    F1   AUC\n",
       "Model                                    \n",
       "Logistic Regression      0.19  0.31  0.50\n",
       "Decision Tree            0.85  0.56  0.71\n",
       "Random Forest            0.86  0.58  0.72"
      ]
     },
     "execution_count": 20,
     "metadata": {},
     "output_type": "execute_result"
    }
   ],
   "source": [
    "columns = ['Model', 'Accuracy', 'F1', 'AUC']\n",
    "score = {\n",
    "    'Model' : ['Logistic Regression', 'Decision Tree', 'Random Forest'], \n",
    "    'Accuracy': [0.19, 0.85, 0.86],\n",
    "    'F1': [0.31, 0.56, 0.58],\n",
    "    'AUC': [0.5, 0.71, 0.72]\n",
    "}\n",
    "metrics = pd.DataFrame(score, columns = columns).set_index('Model')\n",
    "metrics"
   ]
  },
  {
   "cell_type": "markdown",
   "metadata": {},
   "source": [
    "> `Логистическая регрессия`: показатель f1 очень низок, следовательно, модель редко предсказывает исход о том, что клиент уйдет. Низкая правильность говорит, что модель редко предсказывает исход праивльно в любом случае.  \n",
    "`Дерево решений`: все показатели (правильность, точность и полнота) гораздо выше, чем у результатов модели логистической регрессии. F1 метрика выше 0,5.    \n",
    "`Случайный лес`: Правильность и метрика f1 выше, чем у дерева решений - скорее всего, данная модель даст лучшие показатели после балансировки выборок."
   ]
  },
  {
   "cell_type": "markdown",
   "metadata": {},
   "source": [
    "<a id='section3'></a>\n",
    "# 3. Борьба с дисбалансом"
   ]
  },
  {
   "cell_type": "code",
   "execution_count": 21,
   "metadata": {},
   "outputs": [
    {
     "data": {
      "image/png": "[encoded data removed]",
      "text/plain": [
       "<Figure size 432x288 with 1 Axes>"
      ]
     },
     "metadata": {
      "needs_background": "light"
     },
     "output_type": "display_data"
    },
    {
     "name": "stdout",
     "output_type": "stream",
     "text": [
      "Доля класса 0: 0.7963\n",
      "Доля класса 1: 0.2037\n"
     ]
    }
   ],
   "source": [
    "sns.countplot(x='Exited', data=data).set_title('Размер классов')\n",
    "plt.show() \n",
    "\n",
    "print(\"Доля класса 0:\", len(remain)/len(data))\n",
    "print(\"Доля класса 1:\", len(exited)/len(data))"
   ]
  },
  {
   "cell_type": "markdown",
   "metadata": {},
   "source": [
    "> В данных не соблюдается баланс классов: информации об ушедших клиентов гораздо меньше, чем об оставшихся. Для того чтобы модель смогла замечать недовольных клиентов, нужно изменить данные: или уменьшить число оставшихся клиентов, или дублировать количество ушедших."
   ]
  },
  {
   "cell_type": "code",
   "execution_count": 22,
   "metadata": {
    "scrolled": true
   },
   "outputs": [],
   "source": [
    "def upsample(features, target, repeat):\n",
    "    features_zeros = features[target == 0]\n",
    "    features_ones = features[target == 1]\n",
    "    target_zeros = target[target == 0]\n",
    "    target_ones = target[target == 1]\n",
    "\n",
    "    features_upsampled = pd.concat([features_zeros] + [features_ones] * repeat)\n",
    "    target_upsampled = pd.concat([target_zeros] + [target_ones] * repeat)\n",
    "    \n",
    "    features_upsampled, target_upsampled = shuffle(\n",
    "        features_upsampled, target_upsampled, random_state=12345)\n",
    "    \n",
    "    return features_upsampled, target_upsampled"
   ]
  },
  {
   "cell_type": "code",
   "execution_count": 23,
   "metadata": {},
   "outputs": [],
   "source": [
    "def downsample(features, target, fraction):\n",
    "    features_zeros = features[target == 0]\n",
    "    features_ones = features[target == 1]\n",
    "    target_zeros = target[target == 0]\n",
    "    target_ones = target[target == 1]\n",
    "\n",
    "    features_downsampled = pd.concat(\n",
    "        [features_zeros.sample(frac=fraction, random_state=12345)] + [features_ones])\n",
    "    target_downsampled = pd.concat(\n",
    "        [target_zeros.sample(frac=fraction, random_state=12345)] + [target_ones])\n",
    "    \n",
    "    features_downsampled, target_downsampled = shuffle(\n",
    "        features_downsampled, target_downsampled, random_state=12345)\n",
    "    \n",
    "    return features_downsampled, target_downsampled"
   ]
  },
  {
   "cell_type": "markdown",
   "metadata": {},
   "source": [
    "### Decision Tree "
   ]
  },
  {
   "cell_type": "markdown",
   "metadata": {},
   "source": [
    "#### Upsampling"
   ]
  },
  {
   "cell_type": "code",
   "execution_count": 24,
   "metadata": {},
   "outputs": [
    {
     "name": "stdout",
     "output_type": "stream",
     "text": [
      "Правильность: 0.8125\n",
      "F1: 0.5738636363636364\n",
      "Полнота: 0.6666666666666666\n",
      "Точность: 0.5037406483790524\n",
      "ROC-AUC: 0.7566178360318684\n",
      "Глубина дерева = 8, Repeat: 3.00 \n"
     ]
    }
   ],
   "source": [
    "best_f1 = 0\n",
    "best_model = None\n",
    "best_repeat = 1\n",
    "for repeat in range(2, 8):\n",
    "    features_upsampled, target_upsampled = upsample(features_train, target_train, repeat)\n",
    "    for depth in range(1,36):\n",
    "        model = DecisionTreeClassifier(random_state=12345, max_depth=depth)\n",
    "        model.fit(features_upsampled, target_upsampled)\n",
    "        preds = model.predict(features_valid)\n",
    "        f1 = f1_score(target_valid, preds)\n",
    "        if f1 > best_f1:\n",
    "            best_f1 = f1\n",
    "            best_model = model\n",
    "            best_repeat = repeat\n",
    "\n",
    "model_score(best_model);          \n",
    "print('Глубина дерева = {}, Repeat: {:.2f} '.format(best_model.max_depth, best_repeat))"
   ]
  },
  {
   "cell_type": "markdown",
   "metadata": {},
   "source": [
    "#### Downsampling"
   ]
  },
  {
   "cell_type": "code",
   "execution_count": 25,
   "metadata": {},
   "outputs": [
    {
     "name": "stdout",
     "output_type": "stream",
     "text": [
      "Правильность: 0.845625\n",
      "F1: 0.5820642978003384\n",
      "Полнота: 0.5676567656765676\n",
      "Точность: 0.5972222222222222\n",
      "ROC-AUC: 0.7391098014967263\n",
      "Глубина дерева = 5, Fraction: 0.56 \n"
     ]
    }
   ],
   "source": [
    "best_f1 = 0\n",
    "best_model = None\n",
    "best_fraction = 0.3\n",
    "for fraction in np.arange(0.3, 0.7, 0.02):\n",
    "    features_downsampled, target_downsampled = downsample(features_train, target_train, fraction)\n",
    "    for depth in range(1,36):\n",
    "        model = DecisionTreeClassifier(random_state=12345, max_depth=depth)\n",
    "        model.fit(features_downsampled, target_downsampled)\n",
    "        preds = model.predict(features_valid)\n",
    "        f1 = f1_score(target_valid, preds)\n",
    "        if f1 > best_f1:\n",
    "            best_f1 = f1\n",
    "            best_model = model\n",
    "            best_fraction = fraction\n",
    "\n",
    "model_score(best_model);          \n",
    "print('Глубина дерева = {}, Fraction: {:.2f} '.format(best_model.max_depth, best_fraction))"
   ]
  },
  {
   "cell_type": "markdown",
   "metadata": {},
   "source": [
    "### Random Forest "
   ]
  },
  {
   "cell_type": "markdown",
   "metadata": {},
   "source": [
    "#### Upsampling"
   ]
  },
  {
   "cell_type": "code",
   "execution_count": 26,
   "metadata": {},
   "outputs": [
    {
     "name": "stdout",
     "output_type": "stream",
     "text": [
      "Глубина дерева: 9 Число деревьев: 12\n",
      "Repeat: 2\n"
     ]
    }
   ],
   "source": [
    "best_model = None\n",
    "best_f1 = 0\n",
    "for repeat in range(2,8):\n",
    "    features_upsampled, target_upsampled = upsample(features_train, target_train, repeat)\n",
    "    for est in range(1,15):\n",
    "        for depth in range(1,10):\n",
    "            model = RandomForestClassifier(random_state = 12345, max_depth=depth, n_estimators=est)\n",
    "            model.fit(features_upsampled, target_upsampled)\n",
    "            preds = model.predict(features_valid)\n",
    "            f1 = f1_score(target_valid, preds)\n",
    "            if f1 > best_f1:\n",
    "                best_f1 = f1\n",
    "                best_model = model\n",
    "                best_repeat = repeat\n",
    "\n",
    "print('Глубина дерева:', best_model.max_depth, 'Число деревьев:', best_model.n_estimators)\n",
    "print('Repeat:', best_repeat)"
   ]
  },
  {
   "cell_type": "code",
   "execution_count": 27,
   "metadata": {},
   "outputs": [
    {
     "name": "stdout",
     "output_type": "stream",
     "text": [
      "Правильность: 0.870625\n",
      "F1: 0.6243194192377496\n",
      "Полнота: 0.5676567656765676\n",
      "Точность: 0.6935483870967742\n",
      "ROC-AUC: 0.7545300019593324\n"
     ]
    }
   ],
   "source": [
    "features_upsampled, target_upsampled = upsample(features_train, target_train, 2)\n",
    "best_model = None\n",
    "best_f1 = 0\n",
    "for est in range(2,35):\n",
    "        for depth in range(5,30):\n",
    "            model = RandomForestClassifier(random_state = 12345, max_depth=depth, n_estimators=est)\n",
    "            model.fit(features_upsampled, target_upsampled)\n",
    "            preds = model.predict(features_valid)\n",
    "            f1 = f1_score(target_valid, preds)\n",
    "            if f1 > best_f1:\n",
    "                best_f1 = f1\n",
    "                best_model = model\n",
    "preds_forest_up = best_model.predict(features_valid)\n",
    "model_score(best_model);\n",
    "model_up = best_model"
   ]
  },
  {
   "cell_type": "markdown",
   "metadata": {},
   "source": [
    "#### Downsampling"
   ]
  },
  {
   "cell_type": "markdown",
   "metadata": {},
   "source": [
    "Найдем лучшую долю для нулевого класса, используя в цикле небольшие значения для параметров глубины дерева и количества деревьев:"
   ]
  },
  {
   "cell_type": "code",
   "execution_count": 28,
   "metadata": {},
   "outputs": [
    {
     "name": "stdout",
     "output_type": "stream",
     "text": [
      "F1 мера: 0.5971731448763251\n",
      "Доля класса 0: 0.6000000000000001\n"
     ]
    }
   ],
   "source": [
    "best_model = None\n",
    "best_f1 = 0\n",
    "for fraction in np.arange(0.2, 0.86, 0.2):\n",
    "    features_downsampled, target_downsampled = downsample(features_train, target_train, fraction)\n",
    "    for depth in range(2, 10):\n",
    "        for est in range(1,10):\n",
    "            model = RandomForestClassifier(random_state = 12345, max_depth=depth, n_estimators=est)\n",
    "            model.fit(features_downsampled, target_downsampled)\n",
    "            preds = model.predict(features_valid)\n",
    "            f1 = f1_score(target_valid, preds)\n",
    "            if f1 > best_f1:\n",
    "                best_f1 = f1\n",
    "                best_model = model\n",
    "                fraction_best = fraction\n",
    "        \n",
    "        \n",
    "preds_forest_down = best_model.predict(features_valid)\n",
    "f1 = f1_score(target_valid, preds_forest_down)\n",
    "print('F1 мера:', f1)\n",
    "print('Доля класса 0:', fraction_best)"
   ]
  },
  {
   "cell_type": "code",
   "execution_count": 29,
   "metadata": {},
   "outputs": [
    {
     "name": "stdout",
     "output_type": "stream",
     "text": [
      "Правильность: 0.836875\n",
      "F1: 0.6098654708520179\n",
      "Полнота: 0.6732673267326733\n",
      "Точность: 0.5573770491803278\n",
      "ROC-AUC: 0.7741818514927823\n",
      "Глубина дерева: 14 Число деревьев: 28\n"
     ]
    }
   ],
   "source": [
    "features_downsampled, target_downsampled = downsample(features_train, target_train, 0.4)\n",
    "best_model = None\n",
    "best_f1 = 0\n",
    "for depth in range(2, 20):\n",
    "    for est in range(15,36):\n",
    "        model = RandomForestClassifier(random_state = 12345, max_depth=depth, n_estimators=est)\n",
    "        model.fit(features_downsampled, target_downsampled)\n",
    "        preds = model.predict(features_valid)\n",
    "        f1 = f1_score(target_valid, preds)\n",
    "        if f1 > best_f1:\n",
    "            best_f1 = f1\n",
    "            best_model = model\n",
    "            fraction_best = fraction\n",
    "            \n",
    "preds_forest_down = best_model.predict(features_valid)            \n",
    "model_score(best_model);        \n",
    "print('Глубина дерева:', best_model.max_depth, 'Число деревьев:', best_model.n_estimators)\n",
    "model_down = best_model"
   ]
  },
  {
   "cell_type": "code",
   "execution_count": 30,
   "metadata": {},
   "outputs": [
    {
     "data": {
      "image/png": "[encoded data removed]",
      "text/plain": [
       "<Figure size 1152x432 with 4 Axes>"
      ]
     },
     "metadata": {
      "needs_background": "light"
     },
     "output_type": "display_data"
    }
   ],
   "source": [
    "fig, axes = plt.subplots(1, 2, figsize = (16,6))\n",
    "\n",
    "ConfusionMatrixTree = confusion_matrix(target_valid,  preds_forest_down)\n",
    "sns.heatmap(ConfusionMatrixTree, ax = axes[0], annot=True, fmt='d')\n",
    "axes[0].set(xlabel='Предсказания', ylabel=\"Ответы\")\n",
    "axes[0].set_title('Матрица ошибок при уменьшении выборки')\n",
    "ConfusionMatrixForest = confusion_matrix(target_valid, preds_forest_up)\n",
    "sns.heatmap(ConfusionMatrixForest, ax = axes[1], annot=True, fmt='d')\n",
    "axes[1].set(xlabel='Предсказания', ylabel=\"Ответы\")\n",
    "axes[1].set_title('Матрица ошибок при увеличении выборки')\n",
    "\n",
    "plt.show()"
   ]
  },
  {
   "cell_type": "markdown",
   "metadata": {},
   "source": [
    "Балансировка выборок различными методами дает примерно одинаковый результат в предсказании ушедших клиентов, их метрика F1  равна 0,61 в обоих случаях. Однако на матрице ошибок видно, что в случае уменьшения выборки класса 0 классификатор все же ошибается реже."
   ]
  },
  {
   "cell_type": "code",
   "execution_count": 31,
   "metadata": {
    "scrolled": true
   },
   "outputs": [
    {
     "data": {
      "text/html": [
       "<div>\n",
       "<style scoped>\n",
       "    .dataframe tbody tr th:only-of-type {\n",
       "        vertical-align: middle;\n",
       "    }\n",
       "\n",
       "    .dataframe tbody tr th {\n",
       "        vertical-align: top;\n",
       "    }\n",
       "\n",
       "    .dataframe thead th {\n",
       "        text-align: right;\n",
       "    }\n",
       "</style>\n",
       "<table border=\"1\" class=\"dataframe\">\n",
       "  <thead>\n",
       "    <tr style=\"text-align: right;\">\n",
       "      <th></th>\n",
       "      <th>Accuracy</th>\n",
       "      <th>F1</th>\n",
       "      <th>AUC</th>\n",
       "    </tr>\n",
       "    <tr>\n",
       "      <th>Model</th>\n",
       "      <th></th>\n",
       "      <th></th>\n",
       "      <th></th>\n",
       "    </tr>\n",
       "  </thead>\n",
       "  <tbody>\n",
       "    <tr>\n",
       "      <th>Decision Tree Upsampled</th>\n",
       "      <td>0.83</td>\n",
       "      <td>0.57</td>\n",
       "      <td>0.73</td>\n",
       "    </tr>\n",
       "    <tr>\n",
       "      <th>Random Forest Upsampled</th>\n",
       "      <td>0.86</td>\n",
       "      <td>0.61</td>\n",
       "      <td>0.75</td>\n",
       "    </tr>\n",
       "    <tr>\n",
       "      <th>Decision Tree Downsampled</th>\n",
       "      <td>0.84</td>\n",
       "      <td>0.58</td>\n",
       "      <td>0.73</td>\n",
       "    </tr>\n",
       "    <tr>\n",
       "      <th>Random Forest Downsampled</th>\n",
       "      <td>0.86</td>\n",
       "      <td>0.61</td>\n",
       "      <td>0.75</td>\n",
       "    </tr>\n",
       "  </tbody>\n",
       "</table>\n",
       "</div>"
      ],
      "text/plain": [
       "                           Accuracy    F1   AUC\n",
       "Model                                          \n",
       "Decision Tree Upsampled        0.83  0.57  0.73\n",
       "Random Forest Upsampled        0.86  0.61  0.75\n",
       "Decision Tree Downsampled      0.84  0.58  0.73\n",
       "Random Forest Downsampled      0.86  0.61  0.75"
      ]
     },
     "execution_count": 31,
     "metadata": {},
     "output_type": "execute_result"
    }
   ],
   "source": [
    "columns = ['Model', 'Accuracy', 'F1', 'AUC']\n",
    "score = {\n",
    "    'Model' : ['Decision Tree Upsampled', 'Random Forest Upsampled', 'Decision Tree Downsampled', 'Random Forest Downsampled'],\n",
    "    'Accuracy': [0.83, 0.86, 0.84, 0.86],\n",
    "    'F1': [0.57, 0.61, 0.58, 0.61],\n",
    "    'AUC': [0.73, 0.75, 0.73, 0.75]\n",
    "}\n",
    "metrics = pd.DataFrame(score, columns = columns).set_index('Model')\n",
    "metrics"
   ]
  },
  {
   "cell_type": "markdown",
   "metadata": {},
   "source": [
    "### AUC-ROC"
   ]
  },
  {
   "cell_type": "markdown",
   "metadata": {},
   "source": [
    "Визуализируем результат работы алгоритма случайного леса с помощью кривой ошибок:"
   ]
  },
  {
   "cell_type": "code",
   "execution_count": 32,
   "metadata": {},
   "outputs": [
    {
     "data": {
      "image/png": "[encoded data removed]",
      "text/plain": [
       "<Figure size 432x288 with 1 Axes>"
      ]
     },
     "metadata": {
      "needs_background": "light"
     },
     "output_type": "display_data"
    }
   ],
   "source": [
    "probabilities_valid_up = model_up.predict_proba(features_valid)\n",
    "probabilities_one_valid_up = probabilities_valid_up[:, 1]\n",
    "\n",
    "probabilities_valid_down = model_down.predict_proba(features_valid)\n",
    "probabilities_one_valid_down = probabilities_valid_down[:, 1]\n",
    "\n",
    "fpr1, tpr1, thresholds = roc_curve(target_valid, probabilities_one_valid_up) \n",
    "fpr2, tpr2, thresholds = roc_curve(target_valid, probabilities_one_valid_down)\n",
    "plt.figure()\n",
    "\n",
    "plt.plot(fpr1, tpr1)\n",
    "plt.plot(fpr2, tpr2)\n",
    "# ROC-кривая случайной модели\n",
    "plt.plot([0, 1], [0, 1], linestyle='--')\n",
    "plt.xlim([0.0, 1.0])\n",
    "plt.ylim([0.0, 1.0])\n",
    "\n",
    "plt.legend(['UP', 'DOWN'])\n",
    "plt.xlabel('False Positive Rate')\n",
    "plt.ylabel('True Positive Rate')\n",
    "plt.title('ROC-кривая')\n",
    "\n",
    "plt.show()"
   ]
  },
  {
   "cell_type": "markdown",
   "metadata": {},
   "source": [
    "Метрика AUC лучше, чем у случайной модели. Оптимальное пороговое значение для кривых будет равно приблизительно 0,75 (0,75 для True Positive и 0.2 для False Positive)."
   ]
  },
  {
   "cell_type": "markdown",
   "metadata": {},
   "source": [
    "<a id='section4'></a>\n",
    "# 4. Тестирование модели"
   ]
  },
  {
   "cell_type": "code",
   "execution_count": 33,
   "metadata": {},
   "outputs": [
    {
     "name": "stdout",
     "output_type": "stream",
     "text": [
      "Правильность: 0.8435\n",
      "F1: 0.6389850057670127\n",
      "Полнота: 0.6487119437939111\n",
      "Точность: 0.6295454545454545\n",
      "ROC-AUC: 0.7725441473578583\n"
     ]
    }
   ],
   "source": [
    "features_downsampled, target_downsampled = downsample(features_train, target_train, 0.4)\n",
    "model = RandomForestClassifier(random_state=12345, max_depth=7, n_estimators=24)\n",
    "model.fit(features_downsampled, target_downsampled)\n",
    "preds = model.predict(features_test)\n",
    "print('Правильность: {}'.format(accuracy_score(target_test, preds)))\n",
    "print('F1: {}'.format(f1_score(target_test, preds)))\n",
    "print('Полнота: {}'.format(recall_score(target_test, preds)))\n",
    "print('Точность: {}'.format(precision_score(target_test, preds)))\n",
    "print('ROC-AUC: {}'.format(roc_auc_score(target_test, preds)))"
   ]
  },
  {
   "cell_type": "code",
   "execution_count": 34,
   "metadata": {},
   "outputs": [
    {
     "data": {
      "image/png": "[encoded data removed]",
      "text/plain": [
       "<Figure size 720x432 with 2 Axes>"
      ]
     },
     "metadata": {
      "needs_background": "light"
     },
     "output_type": "display_data"
    }
   ],
   "source": [
    "plt.figure(figsize=(10,6))\n",
    "ConfusionMatrixForestDown = confusion_matrix(target_test, preds)\n",
    "matrix = sns.heatmap(ConfusionMatrixForestDown, annot=True, fmt='d')\n",
    "matrix.set(xlabel='Предсказания', ylabel=\"Ответы\")\n",
    "matrix.set_title('Матрица ошибок случайного леса DOWN')\n",
    "plt.show()"
   ]
  },
  {
   "cell_type": "markdown",
   "metadata": {},
   "source": [
    "В проекте создавался классификатор для распознования недовольных клиентов банка. Для прогнозирования были применены три модели: логистическая регрессия, дерево решений и случайный лес. Так как данные были несбалансированны, существовала проблема выделения меньшего класса. На несбалансированных данных лучше всего работала модель случайного леса. После балансировки её метрика F1 увеличилась с 0.589 до 0.61. На тестовой выборке данная модель показывает f1 0.636. Для балансировки в данном случае использовалось уменьшение большей выборки на 60%."
   ]
  }
 ],
 "metadata": {
  "kernelspec": {
   "display_name": "Python 3",
   "language": "python",
   "name": "python3"
  },
  "language_info": {
   "codemirror_mode": {
    "name": "ipython",
    "version": 3
   },
   "file_extension": ".py",
   "mimetype": "text/x-python",
   "name": "python",
   "nbconvert_exporter": "python",
   "pygments_lexer": "ipython3",
   "version": "3.7.6"
  }
 },
 "nbformat": 4,
 "nbformat_minor": 2
}
