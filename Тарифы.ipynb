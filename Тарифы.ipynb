{
 "cells": [
  {
   "cell_type": "markdown",
   "metadata": {},
   "source": [
    "# Определение перспективного тарифа для телеком компании"
   ]
  },
  {
   "cell_type": "markdown",
   "metadata": {},
   "source": [
    "В компании «Мегалайн» — федеральном операторе сотовой связи, клиентам предлагают два тарифных плана: «Смарт» и «Ультра». Чтобы скорректировать рекламный бюджет, коммерческий департамент хочет понять, какой тариф приносит больше денег.\n",
    "Нам предстоит сделать предварительный анализ тарифов на небольшой выборке клиентов. В распоряжении данные 500 пользователей «Мегалайна»: кто они, откуда, каким тарифом пользуются, сколько звонков и сообщений каждый отправил за 2018 год. Нужно проанализировать поведение клиентов и сделать вывод — какой тариф лучше."
   ]
  },
  {
   "cell_type": "markdown",
   "metadata": {},
   "source": [
    "### Содержание"
   ]
  },
  {
   "cell_type": "markdown",
   "metadata": {},
   "source": [
    "<div style=\"border:solid black 2px; padding: 10px\">    \n",
    "    \n",
    "### [Шаг 1. Знакомство с данными](#section1)  \n",
    "\n",
    "### [Шаг 2. Подготовка данных](#section2)  \n",
    "  - 2.1 Таблица пользователей  \n",
    "  - 2.2 Таблица звонков\n",
    "  - 2.3 Таблица сообщений\n",
    "  - 2.3 Таблица интернета\n",
    "    \n",
    "### [Шаг 3. Анализ тарифов](#section3)  \n",
    " \n",
    "### [Шаг 4. Проверка гипотез](#section4)  \n",
    " - 4.1 Средняя выручка пользователей тарифов «Ультра» и «Смарт» различается\n",
    " - 4.2 Средняя выручка пользователей из Москвы отличается от выручки пользователей из других регионов\n",
    "\n",
    "### [Шаг 5. Общий вывод](#section5)  \n",
    "</div>"
   ]
  },
  {
   "cell_type": "code",
   "execution_count": 1,
   "metadata": {},
   "outputs": [],
   "source": [
    "import pandas as pd\n",
    "import numpy as np\n",
    "from scipy import stats as st\n",
    "import matplotlib.pyplot as plt"
   ]
  },
  {
   "cell_type": "code",
   "execution_count": 2,
   "metadata": {},
   "outputs": [],
   "source": [
    "calls = pd.read_csv('calls.csv')\n",
    "internet = pd.read_csv('internet.csv')\n",
    "messages = pd.read_csv('messages.csv')\n",
    "tariffs = pd.read_csv('tariffs.csv')\n",
    "users = pd.read_csv('users.csv')"
   ]
  },
  {
   "cell_type": "code",
   "execution_count": 3,
   "metadata": {},
   "outputs": [],
   "source": [
    "import warnings\n",
    "warnings.filterwarnings('ignore')"
   ]
  },
  {
   "cell_type": "markdown",
   "metadata": {},
   "source": [
    "<a id='section1'></a>"
   ]
  },
  {
   "cell_type": "markdown",
   "metadata": {},
   "source": [
    "### Описание тарифов"
   ]
  },
  {
   "cell_type": "markdown",
   "metadata": {},
   "source": [
    "#### Тариф «Смарт»"
   ]
  },
  {
   "cell_type": "markdown",
   "metadata": {},
   "source": [
    "1.\tЕжемесячная плата: 550 рублей\n",
    "2.\tВключено 500 минут разговора, 50 сообщений и 15 Гб интернет-трафика\n",
    "3.\tСтоимость услуг сверх тарифного пакета:\n",
    "4.  минута разговора: 3 рубля\n",
    "5.\tсообщение: 3 рубля\n",
    "6.\t1 Гб интернет-трафика: 200 рублей"
   ]
  },
  {
   "cell_type": "markdown",
   "metadata": {},
   "source": [
    "#### Тариф «Ультра»"
   ]
  },
  {
   "cell_type": "markdown",
   "metadata": {},
   "source": [
    "1.\tЕжемесячная плата: 1950 рублей\n",
    "2.\tВключено 3000 минут разговора, 1000 сообщений и 30 Гб интернет-трафика\n",
    "3.\tСтоимость услуг сверх тарифного пакета:\n",
    "5.\tминута разговора: 1 рубль\n",
    "6.\tсообщение: 1 рубль\n",
    "7.\t1 Гб интернет-трафика: 150 рублей"
   ]
  },
  {
   "cell_type": "markdown",
   "metadata": {},
   "source": [
    "____"
   ]
  },
  {
   "cell_type": "markdown",
   "metadata": {},
   "source": [
    "<a id='section2'></a>"
   ]
  },
  {
   "cell_type": "markdown",
   "metadata": {},
   "source": [
    "### Подготовка данных"
   ]
  },
  {
   "cell_type": "markdown",
   "metadata": {},
   "source": [
    "####  Таблица `users` (информация о пользователях):"
   ]
  },
  {
   "cell_type": "markdown",
   "metadata": {},
   "source": [
    "- user_id — уникальный идентификатор пользователя\n",
    "- first_name — имя пользователя\n",
    "- last_name — фамилия пользователя\n",
    "- age — возраст пользователя (годы)\n",
    "- reg_date — дата подключения тарифа (день, месяц, год)\n",
    "- churn_date — дата прекращения пользования тарифом (если значение пропущено, то тариф ещё действовал на момент выгрузки данных)\n",
    "- city — город проживания пользователя\n",
    "- tariff — название тарифного плана"
   ]
  },
  {
   "cell_type": "code",
   "execution_count": 4,
   "metadata": {},
   "outputs": [
    {
     "data": {
      "text/html": [
       "<div>\n",
       "<style scoped>\n",
       "    .dataframe tbody tr th:only-of-type {\n",
       "        vertical-align: middle;\n",
       "    }\n",
       "\n",
       "    .dataframe tbody tr th {\n",
       "        vertical-align: top;\n",
       "    }\n",
       "\n",
       "    .dataframe thead th {\n",
       "        text-align: right;\n",
       "    }\n",
       "</style>\n",
       "<table border=\"1\" class=\"dataframe\">\n",
       "  <thead>\n",
       "    <tr style=\"text-align: right;\">\n",
       "      <th></th>\n",
       "      <th>user_id</th>\n",
       "      <th>age</th>\n",
       "      <th>churn_date</th>\n",
       "      <th>city</th>\n",
       "      <th>first_name</th>\n",
       "      <th>last_name</th>\n",
       "      <th>reg_date</th>\n",
       "      <th>tariff</th>\n",
       "    </tr>\n",
       "  </thead>\n",
       "  <tbody>\n",
       "    <tr>\n",
       "      <th>0</th>\n",
       "      <td>1000</td>\n",
       "      <td>52</td>\n",
       "      <td>NaN</td>\n",
       "      <td>Краснодар</td>\n",
       "      <td>Рафаил</td>\n",
       "      <td>Верещагин</td>\n",
       "      <td>2018-05-25</td>\n",
       "      <td>ultra</td>\n",
       "    </tr>\n",
       "    <tr>\n",
       "      <th>1</th>\n",
       "      <td>1001</td>\n",
       "      <td>41</td>\n",
       "      <td>NaN</td>\n",
       "      <td>Москва</td>\n",
       "      <td>Иван</td>\n",
       "      <td>Ежов</td>\n",
       "      <td>2018-11-01</td>\n",
       "      <td>smart</td>\n",
       "    </tr>\n",
       "    <tr>\n",
       "      <th>2</th>\n",
       "      <td>1002</td>\n",
       "      <td>59</td>\n",
       "      <td>NaN</td>\n",
       "      <td>Стерлитамак</td>\n",
       "      <td>Евгений</td>\n",
       "      <td>Абрамович</td>\n",
       "      <td>2018-06-17</td>\n",
       "      <td>smart</td>\n",
       "    </tr>\n",
       "    <tr>\n",
       "      <th>3</th>\n",
       "      <td>1003</td>\n",
       "      <td>23</td>\n",
       "      <td>NaN</td>\n",
       "      <td>Москва</td>\n",
       "      <td>Белла</td>\n",
       "      <td>Белякова</td>\n",
       "      <td>2018-08-17</td>\n",
       "      <td>ultra</td>\n",
       "    </tr>\n",
       "    <tr>\n",
       "      <th>4</th>\n",
       "      <td>1004</td>\n",
       "      <td>68</td>\n",
       "      <td>NaN</td>\n",
       "      <td>Новокузнецк</td>\n",
       "      <td>Татьяна</td>\n",
       "      <td>Авдеенко</td>\n",
       "      <td>2018-05-14</td>\n",
       "      <td>ultra</td>\n",
       "    </tr>\n",
       "  </tbody>\n",
       "</table>\n",
       "</div>"
      ],
      "text/plain": [
       "   user_id  age churn_date         city first_name  last_name    reg_date  \\\n",
       "0     1000   52        NaN    Краснодар     Рафаил  Верещагин  2018-05-25   \n",
       "1     1001   41        NaN       Москва       Иван       Ежов  2018-11-01   \n",
       "2     1002   59        NaN  Стерлитамак    Евгений  Абрамович  2018-06-17   \n",
       "3     1003   23        NaN       Москва      Белла   Белякова  2018-08-17   \n",
       "4     1004   68        NaN  Новокузнецк    Татьяна   Авдеенко  2018-05-14   \n",
       "\n",
       "  tariff  \n",
       "0  ultra  \n",
       "1  smart  \n",
       "2  smart  \n",
       "3  ultra  \n",
       "4  ultra  "
      ]
     },
     "execution_count": 4,
     "metadata": {},
     "output_type": "execute_result"
    }
   ],
   "source": [
    "users.head()"
   ]
  },
  {
   "cell_type": "code",
   "execution_count": 5,
   "metadata": {},
   "outputs": [
    {
     "data": {
      "text/plain": [
       "user_id         0\n",
       "age             0\n",
       "churn_date    462\n",
       "city            0\n",
       "first_name      0\n",
       "last_name       0\n",
       "reg_date        0\n",
       "tariff          0\n",
       "dtype: int64"
      ]
     },
     "execution_count": 5,
     "metadata": {},
     "output_type": "execute_result"
    }
   ],
   "source": [
    "users.isna().sum()"
   ]
  },
  {
   "cell_type": "markdown",
   "metadata": {},
   "source": [
    "В таблице нет пропущенных значений, за исключением колонки churn_date, означающей дату окончания тарифа. Так как пропуски в ней говорят о том, что тариф действует на момент выгрузки, не будем обозначать это как недостаток данных."
   ]
  },
  {
   "cell_type": "code",
   "execution_count": 6,
   "metadata": {},
   "outputs": [
    {
     "data": {
      "text/plain": [
       "0"
      ]
     },
     "execution_count": 6,
     "metadata": {},
     "output_type": "execute_result"
    }
   ],
   "source": [
    "users.duplicated().sum()"
   ]
  },
  {
   "cell_type": "markdown",
   "metadata": {},
   "source": [
    "Дубликатов также нет."
   ]
  },
  {
   "cell_type": "code",
   "execution_count": 7,
   "metadata": {},
   "outputs": [
    {
     "name": "stdout",
     "output_type": "stream",
     "text": [
      "<class 'pandas.core.frame.DataFrame'>\n",
      "RangeIndex: 500 entries, 0 to 499\n",
      "Data columns (total 8 columns):\n",
      " #   Column      Non-Null Count  Dtype \n",
      "---  ------      --------------  ----- \n",
      " 0   user_id     500 non-null    int64 \n",
      " 1   age         500 non-null    int64 \n",
      " 2   churn_date  38 non-null     object\n",
      " 3   city        500 non-null    object\n",
      " 4   first_name  500 non-null    object\n",
      " 5   last_name   500 non-null    object\n",
      " 6   reg_date    500 non-null    object\n",
      " 7   tariff      500 non-null    object\n",
      "dtypes: int64(2), object(6)\n",
      "memory usage: 31.4+ KB\n"
     ]
    }
   ],
   "source": [
    "users.info()"
   ]
  },
  {
   "cell_type": "markdown",
   "metadata": {},
   "source": [
    "Столбцы reg_date и churn_date записаны как Object, сменим тип данных на datetime."
   ]
  },
  {
   "cell_type": "code",
   "execution_count": 8,
   "metadata": {},
   "outputs": [],
   "source": [
    "users['reg_date'] = pd.to_datetime(users['reg_date'], format = '%Y-%m-%d')\n",
    "users['churn_date'] = pd.to_datetime(users['churn_date'], format='%Y-%m-%d')"
   ]
  },
  {
   "cell_type": "markdown",
   "metadata": {},
   "source": [
    "Проверим датасет на логические ошибки с помощью функции describe:"
   ]
  },
  {
   "cell_type": "code",
   "execution_count": 9,
   "metadata": {
    "scrolled": true
   },
   "outputs": [
    {
     "data": {
      "text/html": [
       "<div>\n",
       "<style scoped>\n",
       "    .dataframe tbody tr th:only-of-type {\n",
       "        vertical-align: middle;\n",
       "    }\n",
       "\n",
       "    .dataframe tbody tr th {\n",
       "        vertical-align: top;\n",
       "    }\n",
       "\n",
       "    .dataframe thead th {\n",
       "        text-align: right;\n",
       "    }\n",
       "</style>\n",
       "<table border=\"1\" class=\"dataframe\">\n",
       "  <thead>\n",
       "    <tr style=\"text-align: right;\">\n",
       "      <th></th>\n",
       "      <th>user_id</th>\n",
       "      <th>age</th>\n",
       "    </tr>\n",
       "  </thead>\n",
       "  <tbody>\n",
       "    <tr>\n",
       "      <th>count</th>\n",
       "      <td>500.000000</td>\n",
       "      <td>500.00000</td>\n",
       "    </tr>\n",
       "    <tr>\n",
       "      <th>mean</th>\n",
       "      <td>1249.500000</td>\n",
       "      <td>46.58800</td>\n",
       "    </tr>\n",
       "    <tr>\n",
       "      <th>std</th>\n",
       "      <td>144.481833</td>\n",
       "      <td>16.66763</td>\n",
       "    </tr>\n",
       "    <tr>\n",
       "      <th>min</th>\n",
       "      <td>1000.000000</td>\n",
       "      <td>18.00000</td>\n",
       "    </tr>\n",
       "    <tr>\n",
       "      <th>25%</th>\n",
       "      <td>1124.750000</td>\n",
       "      <td>32.00000</td>\n",
       "    </tr>\n",
       "    <tr>\n",
       "      <th>50%</th>\n",
       "      <td>1249.500000</td>\n",
       "      <td>46.00000</td>\n",
       "    </tr>\n",
       "    <tr>\n",
       "      <th>75%</th>\n",
       "      <td>1374.250000</td>\n",
       "      <td>62.00000</td>\n",
       "    </tr>\n",
       "    <tr>\n",
       "      <th>max</th>\n",
       "      <td>1499.000000</td>\n",
       "      <td>75.00000</td>\n",
       "    </tr>\n",
       "  </tbody>\n",
       "</table>\n",
       "</div>"
      ],
      "text/plain": [
       "           user_id        age\n",
       "count   500.000000  500.00000\n",
       "mean   1249.500000   46.58800\n",
       "std     144.481833   16.66763\n",
       "min    1000.000000   18.00000\n",
       "25%    1124.750000   32.00000\n",
       "50%    1249.500000   46.00000\n",
       "75%    1374.250000   62.00000\n",
       "max    1499.000000   75.00000"
      ]
     },
     "execution_count": 9,
     "metadata": {},
     "output_type": "execute_result"
    }
   ],
   "source": [
    "users.describe()"
   ]
  },
  {
   "cell_type": "markdown",
   "metadata": {},
   "source": [
    "Ошибок в этом наборе нет: дана информация о 500 пользователях в возрастной группе от 18 до 75 лет."
   ]
  },
  {
   "cell_type": "markdown",
   "metadata": {},
   "source": [
    "#### Таблица `calls` (информация о звонках):"
   ]
  },
  {
   "cell_type": "markdown",
   "metadata": {},
   "source": [
    "- id — уникальный номер звонка\n",
    "- call_date — дата звонка\n",
    "- duration — длительность звонка в минутах\n",
    "- user_id — идентификатор пользователя, сделавшего звонок"
   ]
  },
  {
   "cell_type": "code",
   "execution_count": 10,
   "metadata": {},
   "outputs": [
    {
     "data": {
      "text/html": [
       "<div>\n",
       "<style scoped>\n",
       "    .dataframe tbody tr th:only-of-type {\n",
       "        vertical-align: middle;\n",
       "    }\n",
       "\n",
       "    .dataframe tbody tr th {\n",
       "        vertical-align: top;\n",
       "    }\n",
       "\n",
       "    .dataframe thead th {\n",
       "        text-align: right;\n",
       "    }\n",
       "</style>\n",
       "<table border=\"1\" class=\"dataframe\">\n",
       "  <thead>\n",
       "    <tr style=\"text-align: right;\">\n",
       "      <th></th>\n",
       "      <th>id</th>\n",
       "      <th>call_date</th>\n",
       "      <th>duration</th>\n",
       "      <th>user_id</th>\n",
       "    </tr>\n",
       "  </thead>\n",
       "  <tbody>\n",
       "    <tr>\n",
       "      <th>0</th>\n",
       "      <td>1000_0</td>\n",
       "      <td>2018-07-25</td>\n",
       "      <td>0.00</td>\n",
       "      <td>1000</td>\n",
       "    </tr>\n",
       "    <tr>\n",
       "      <th>1</th>\n",
       "      <td>1000_1</td>\n",
       "      <td>2018-08-17</td>\n",
       "      <td>0.00</td>\n",
       "      <td>1000</td>\n",
       "    </tr>\n",
       "    <tr>\n",
       "      <th>2</th>\n",
       "      <td>1000_2</td>\n",
       "      <td>2018-06-11</td>\n",
       "      <td>2.85</td>\n",
       "      <td>1000</td>\n",
       "    </tr>\n",
       "    <tr>\n",
       "      <th>3</th>\n",
       "      <td>1000_3</td>\n",
       "      <td>2018-09-21</td>\n",
       "      <td>13.80</td>\n",
       "      <td>1000</td>\n",
       "    </tr>\n",
       "    <tr>\n",
       "      <th>4</th>\n",
       "      <td>1000_4</td>\n",
       "      <td>2018-12-15</td>\n",
       "      <td>5.18</td>\n",
       "      <td>1000</td>\n",
       "    </tr>\n",
       "  </tbody>\n",
       "</table>\n",
       "</div>"
      ],
      "text/plain": [
       "       id   call_date  duration  user_id\n",
       "0  1000_0  2018-07-25      0.00     1000\n",
       "1  1000_1  2018-08-17      0.00     1000\n",
       "2  1000_2  2018-06-11      2.85     1000\n",
       "3  1000_3  2018-09-21     13.80     1000\n",
       "4  1000_4  2018-12-15      5.18     1000"
      ]
     },
     "execution_count": 10,
     "metadata": {},
     "output_type": "execute_result"
    }
   ],
   "source": [
    "calls.head()"
   ]
  },
  {
   "cell_type": "code",
   "execution_count": 11,
   "metadata": {},
   "outputs": [
    {
     "name": "stdout",
     "output_type": "stream",
     "text": [
      "<class 'pandas.core.frame.DataFrame'>\n",
      "RangeIndex: 202607 entries, 0 to 202606\n",
      "Data columns (total 4 columns):\n",
      " #   Column     Non-Null Count   Dtype  \n",
      "---  ------     --------------   -----  \n",
      " 0   id         202607 non-null  object \n",
      " 1   call_date  202607 non-null  object \n",
      " 2   duration   202607 non-null  float64\n",
      " 3   user_id    202607 non-null  int64  \n",
      "dtypes: float64(1), int64(1), object(2)\n",
      "memory usage: 6.2+ MB\n"
     ]
    }
   ],
   "source": [
    "calls.info()"
   ]
  },
  {
   "cell_type": "code",
   "execution_count": 12,
   "metadata": {},
   "outputs": [
    {
     "data": {
      "text/plain": [
       "0"
      ]
     },
     "execution_count": 12,
     "metadata": {},
     "output_type": "execute_result"
    }
   ],
   "source": [
    "calls.duplicated().sum()"
   ]
  },
  {
   "cell_type": "markdown",
   "metadata": {},
   "source": [
    "В таблице нет пропусков и дубликатов, нужно только заменить тип данных столбца call_date на datetime."
   ]
  },
  {
   "cell_type": "code",
   "execution_count": 13,
   "metadata": {},
   "outputs": [],
   "source": [
    "calls['call_date'] = pd.to_datetime(calls['call_date'], format = '%Y-%m-%d')"
   ]
  },
  {
   "cell_type": "markdown",
   "metadata": {},
   "source": [
    "Телеком компания всегда округляет вверх значения минут и мегабайтов. Если пользователь проговорил всего 1 секунду, в тарифе засчитывается целая минута. Поэтому окргулим все занчения продолжительности звонка в датасете вверх."
   ]
  },
  {
   "cell_type": "code",
   "execution_count": 14,
   "metadata": {},
   "outputs": [],
   "source": [
    "calls.duration = np.ceil(calls.duration).astype(int)"
   ]
  },
  {
   "cell_type": "code",
   "execution_count": 15,
   "metadata": {},
   "outputs": [
    {
     "data": {
      "text/html": [
       "<div>\n",
       "<style scoped>\n",
       "    .dataframe tbody tr th:only-of-type {\n",
       "        vertical-align: middle;\n",
       "    }\n",
       "\n",
       "    .dataframe tbody tr th {\n",
       "        vertical-align: top;\n",
       "    }\n",
       "\n",
       "    .dataframe thead th {\n",
       "        text-align: right;\n",
       "    }\n",
       "</style>\n",
       "<table border=\"1\" class=\"dataframe\">\n",
       "  <thead>\n",
       "    <tr style=\"text-align: right;\">\n",
       "      <th></th>\n",
       "      <th>duration</th>\n",
       "      <th>user_id</th>\n",
       "    </tr>\n",
       "  </thead>\n",
       "  <tbody>\n",
       "    <tr>\n",
       "      <th>count</th>\n",
       "      <td>202607.000000</td>\n",
       "      <td>202607.000000</td>\n",
       "    </tr>\n",
       "    <tr>\n",
       "      <th>mean</th>\n",
       "      <td>7.158198</td>\n",
       "      <td>1253.940619</td>\n",
       "    </tr>\n",
       "    <tr>\n",
       "      <th>std</th>\n",
       "      <td>5.959173</td>\n",
       "      <td>144.722751</td>\n",
       "    </tr>\n",
       "    <tr>\n",
       "      <th>min</th>\n",
       "      <td>0.000000</td>\n",
       "      <td>1000.000000</td>\n",
       "    </tr>\n",
       "    <tr>\n",
       "      <th>25%</th>\n",
       "      <td>2.000000</td>\n",
       "      <td>1126.000000</td>\n",
       "    </tr>\n",
       "    <tr>\n",
       "      <th>50%</th>\n",
       "      <td>6.000000</td>\n",
       "      <td>1260.000000</td>\n",
       "    </tr>\n",
       "    <tr>\n",
       "      <th>75%</th>\n",
       "      <td>11.000000</td>\n",
       "      <td>1379.000000</td>\n",
       "    </tr>\n",
       "    <tr>\n",
       "      <th>max</th>\n",
       "      <td>38.000000</td>\n",
       "      <td>1499.000000</td>\n",
       "    </tr>\n",
       "  </tbody>\n",
       "</table>\n",
       "</div>"
      ],
      "text/plain": [
       "            duration        user_id\n",
       "count  202607.000000  202607.000000\n",
       "mean        7.158198    1253.940619\n",
       "std         5.959173     144.722751\n",
       "min         0.000000    1000.000000\n",
       "25%         2.000000    1126.000000\n",
       "50%         6.000000    1260.000000\n",
       "75%        11.000000    1379.000000\n",
       "max        38.000000    1499.000000"
      ]
     },
     "execution_count": 15,
     "metadata": {},
     "output_type": "execute_result"
    }
   ],
   "source": [
    "calls.describe()"
   ]
  },
  {
   "cell_type": "markdown",
   "metadata": {},
   "source": [
    "В таблице есть нулевые значения длительности звонков, скорее всего это отмененные/пропущенные звонки. Проверим сколько их и удалим."
   ]
  },
  {
   "cell_type": "code",
   "execution_count": 16,
   "metadata": {},
   "outputs": [
    {
     "data": {
      "text/plain": [
       "id           39613\n",
       "call_date    39613\n",
       "duration     39613\n",
       "user_id      39613\n",
       "dtype: int64"
      ]
     },
     "execution_count": 16,
     "metadata": {},
     "output_type": "execute_result"
    }
   ],
   "source": [
    "calls[calls['duration'] == 0].count()"
   ]
  },
  {
   "cell_type": "code",
   "execution_count": 17,
   "metadata": {},
   "outputs": [],
   "source": [
    "calls.drop(calls[calls.duration == 0].index, inplace=True)"
   ]
  },
  {
   "cell_type": "code",
   "execution_count": 18,
   "metadata": {},
   "outputs": [
    {
     "data": {
      "image/png": "[encoded data removed]",
      "text/plain": [
       "<Figure size 432x288 with 1 Axes>"
      ]
     },
     "metadata": {
      "needs_background": "light"
     },
     "output_type": "display_data"
    }
   ],
   "source": [
    "calls.boxplot('duration')\n",
    "plt.title('Разброс значений длинетльности звонков')\n",
    "plt.ylabel('Минуты')\n",
    "plt.show()"
   ]
  },
  {
   "cell_type": "markdown",
   "metadata": {},
   "source": [
    "> Большинство звонков находится в диапазоне от 5 до 12 минут с медианой в 8 минут. Звонки превышающие 23 минуты считаются выбросами, но мы не будем их удалять так, как они нормальны и нужны для анализа."
   ]
  },
  {
   "cell_type": "markdown",
   "metadata": {},
   "source": [
    "#### Таблица `messages` (информация о сообщениях):"
   ]
  },
  {
   "cell_type": "markdown",
   "metadata": {},
   "source": [
    "- id — уникальный номер сообщения\n",
    "- message_date — дата сообщения\n",
    "- user_id — идентификатор пользователя, отправившего сообщение"
   ]
  },
  {
   "cell_type": "code",
   "execution_count": 19,
   "metadata": {},
   "outputs": [
    {
     "name": "stdout",
     "output_type": "stream",
     "text": [
      "<class 'pandas.core.frame.DataFrame'>\n",
      "RangeIndex: 123036 entries, 0 to 123035\n",
      "Data columns (total 3 columns):\n",
      " #   Column        Non-Null Count   Dtype \n",
      "---  ------        --------------   ----- \n",
      " 0   id            123036 non-null  object\n",
      " 1   message_date  123036 non-null  object\n",
      " 2   user_id       123036 non-null  int64 \n",
      "dtypes: int64(1), object(2)\n",
      "memory usage: 2.8+ MB\n"
     ]
    }
   ],
   "source": [
    "messages.info()"
   ]
  },
  {
   "cell_type": "code",
   "execution_count": 20,
   "metadata": {},
   "outputs": [
    {
     "data": {
      "text/plain": [
       "0"
      ]
     },
     "execution_count": 20,
     "metadata": {},
     "output_type": "execute_result"
    }
   ],
   "source": [
    "messages.duplicated().sum()"
   ]
  },
  {
   "cell_type": "markdown",
   "metadata": {},
   "source": [
    "Нет пропусков и дубликатов, замени тип данных столбца message_date."
   ]
  },
  {
   "cell_type": "code",
   "execution_count": 21,
   "metadata": {},
   "outputs": [],
   "source": [
    "messages['message_date'] = pd.to_datetime(messages['message_date'], format='%Y-%m-%d')"
   ]
  },
  {
   "cell_type": "code",
   "execution_count": 22,
   "metadata": {},
   "outputs": [
    {
     "name": "stdout",
     "output_type": "stream",
     "text": [
      "<class 'pandas.core.frame.DataFrame'>\n",
      "RangeIndex: 123036 entries, 0 to 123035\n",
      "Data columns (total 3 columns):\n",
      " #   Column        Non-Null Count   Dtype         \n",
      "---  ------        --------------   -----         \n",
      " 0   id            123036 non-null  object        \n",
      " 1   message_date  123036 non-null  datetime64[ns]\n",
      " 2   user_id       123036 non-null  int64         \n",
      "dtypes: datetime64[ns](1), int64(1), object(1)\n",
      "memory usage: 2.8+ MB\n"
     ]
    }
   ],
   "source": [
    "messages.info()"
   ]
  },
  {
   "cell_type": "markdown",
   "metadata": {},
   "source": [
    "#### Таблица `internet` (информация об интернет-сессиях):"
   ]
  },
  {
   "cell_type": "markdown",
   "metadata": {},
   "source": [
    "- id — уникальный номер сессии\n",
    "- mb_used — объём потраченного за сессию интернет-трафика (в мегабайтах)\n",
    "- session_date — дата интернет-сессии\n",
    "- user_id — идентификатор пользователя"
   ]
  },
  {
   "cell_type": "code",
   "execution_count": 23,
   "metadata": {},
   "outputs": [
    {
     "name": "stdout",
     "output_type": "stream",
     "text": [
      "<class 'pandas.core.frame.DataFrame'>\n",
      "RangeIndex: 149396 entries, 0 to 149395\n",
      "Data columns (total 5 columns):\n",
      " #   Column        Non-Null Count   Dtype  \n",
      "---  ------        --------------   -----  \n",
      " 0   Unnamed: 0    149396 non-null  int64  \n",
      " 1   id            149396 non-null  object \n",
      " 2   mb_used       149396 non-null  float64\n",
      " 3   session_date  149396 non-null  object \n",
      " 4   user_id       149396 non-null  int64  \n",
      "dtypes: float64(1), int64(2), object(2)\n",
      "memory usage: 5.7+ MB\n"
     ]
    },
    {
     "data": {
      "text/plain": [
       "0"
      ]
     },
     "execution_count": 23,
     "metadata": {},
     "output_type": "execute_result"
    }
   ],
   "source": [
    "internet.info()\n",
    "internet.duplicated().sum()"
   ]
  },
  {
   "cell_type": "markdown",
   "metadata": {},
   "source": [
    "Снова нет пропусков и дубликатов, и опять неподходящий тип данных."
   ]
  },
  {
   "cell_type": "code",
   "execution_count": 24,
   "metadata": {},
   "outputs": [],
   "source": [
    "internet['session_date'] = pd.to_datetime(internet['session_date'])"
   ]
  },
  {
   "cell_type": "code",
   "execution_count": 25,
   "metadata": {},
   "outputs": [],
   "source": [
    "internet.mb_used = np.ceil(internet.mb_used).astype(int)"
   ]
  },
  {
   "cell_type": "code",
   "execution_count": 26,
   "metadata": {},
   "outputs": [
    {
     "data": {
      "text/html": [
       "<div>\n",
       "<style scoped>\n",
       "    .dataframe tbody tr th:only-of-type {\n",
       "        vertical-align: middle;\n",
       "    }\n",
       "\n",
       "    .dataframe tbody tr th {\n",
       "        vertical-align: top;\n",
       "    }\n",
       "\n",
       "    .dataframe thead th {\n",
       "        text-align: right;\n",
       "    }\n",
       "</style>\n",
       "<table border=\"1\" class=\"dataframe\">\n",
       "  <thead>\n",
       "    <tr style=\"text-align: right;\">\n",
       "      <th></th>\n",
       "      <th>Unnamed: 0</th>\n",
       "      <th>mb_used</th>\n",
       "      <th>user_id</th>\n",
       "    </tr>\n",
       "  </thead>\n",
       "  <tbody>\n",
       "    <tr>\n",
       "      <th>count</th>\n",
       "      <td>149396.000000</td>\n",
       "      <td>149396.000000</td>\n",
       "      <td>149396.000000</td>\n",
       "    </tr>\n",
       "    <tr>\n",
       "      <th>mean</th>\n",
       "      <td>74697.500000</td>\n",
       "      <td>370.622098</td>\n",
       "      <td>1252.099842</td>\n",
       "    </tr>\n",
       "    <tr>\n",
       "      <th>std</th>\n",
       "      <td>43127.054745</td>\n",
       "      <td>278.387019</td>\n",
       "      <td>144.050823</td>\n",
       "    </tr>\n",
       "    <tr>\n",
       "      <th>min</th>\n",
       "      <td>0.000000</td>\n",
       "      <td>0.000000</td>\n",
       "      <td>1000.000000</td>\n",
       "    </tr>\n",
       "    <tr>\n",
       "      <th>25%</th>\n",
       "      <td>37348.750000</td>\n",
       "      <td>139.000000</td>\n",
       "      <td>1130.000000</td>\n",
       "    </tr>\n",
       "    <tr>\n",
       "      <th>50%</th>\n",
       "      <td>74697.500000</td>\n",
       "      <td>349.000000</td>\n",
       "      <td>1251.000000</td>\n",
       "    </tr>\n",
       "    <tr>\n",
       "      <th>75%</th>\n",
       "      <td>112046.250000</td>\n",
       "      <td>560.000000</td>\n",
       "      <td>1380.000000</td>\n",
       "    </tr>\n",
       "    <tr>\n",
       "      <th>max</th>\n",
       "      <td>149395.000000</td>\n",
       "      <td>1725.000000</td>\n",
       "      <td>1499.000000</td>\n",
       "    </tr>\n",
       "  </tbody>\n",
       "</table>\n",
       "</div>"
      ],
      "text/plain": [
       "          Unnamed: 0        mb_used        user_id\n",
       "count  149396.000000  149396.000000  149396.000000\n",
       "mean    74697.500000     370.622098    1252.099842\n",
       "std     43127.054745     278.387019     144.050823\n",
       "min         0.000000       0.000000    1000.000000\n",
       "25%     37348.750000     139.000000    1130.000000\n",
       "50%     74697.500000     349.000000    1251.000000\n",
       "75%    112046.250000     560.000000    1380.000000\n",
       "max    149395.000000    1725.000000    1499.000000"
      ]
     },
     "execution_count": 26,
     "metadata": {},
     "output_type": "execute_result"
    }
   ],
   "source": [
    "internet.describe()"
   ]
  },
  {
   "cell_type": "markdown",
   "metadata": {},
   "source": [
    "Странных значений нет, можно переходить к следующему датасету."
   ]
  },
  {
   "cell_type": "markdown",
   "metadata": {},
   "source": [
    "#### Таблица `tariffs` (информация о тарифах):"
   ]
  },
  {
   "cell_type": "markdown",
   "metadata": {},
   "source": [
    "- tariff_name — название тарифа\n",
    "- rub_monthly_fee — ежемесячная абонентская плата в рублях\n",
    "- minutes_included — количество минут разговора в месяц, включённых в абонентскую плату\n",
    "- messages_included — количество сообщений в месяц, включённых в абонентскую плату\n",
    "- mb_per_month_included — объём интернет-трафика, включённого в абонентскую плату (в мегабайтах)\n",
    "- rub_per_minute — стоимость минуты разговора сверх тарифного пакета (например, если в тарифе 100 минут разговора в месяц, то со 101 минуты будет взиматься плата)\n",
    "- rub_per_message — стоимость отправки сообщения сверх тарифного пакета\n",
    "- rub_per_gb — стоимость дополнительного гигабайта интернет-трафика сверх тарифного пакета (1 гигабайт = 1024 мегабайта)"
   ]
  },
  {
   "cell_type": "code",
   "execution_count": 27,
   "metadata": {},
   "outputs": [
    {
     "data": {
      "text/html": [
       "<div>\n",
       "<style scoped>\n",
       "    .dataframe tbody tr th:only-of-type {\n",
       "        vertical-align: middle;\n",
       "    }\n",
       "\n",
       "    .dataframe tbody tr th {\n",
       "        vertical-align: top;\n",
       "    }\n",
       "\n",
       "    .dataframe thead th {\n",
       "        text-align: right;\n",
       "    }\n",
       "</style>\n",
       "<table border=\"1\" class=\"dataframe\">\n",
       "  <thead>\n",
       "    <tr style=\"text-align: right;\">\n",
       "      <th></th>\n",
       "      <th>messages_included</th>\n",
       "      <th>mb_per_month_included</th>\n",
       "      <th>minutes_included</th>\n",
       "      <th>rub_monthly_fee</th>\n",
       "      <th>rub_per_gb</th>\n",
       "      <th>rub_per_message</th>\n",
       "      <th>rub_per_minute</th>\n",
       "      <th>tariff_name</th>\n",
       "    </tr>\n",
       "  </thead>\n",
       "  <tbody>\n",
       "    <tr>\n",
       "      <th>0</th>\n",
       "      <td>50</td>\n",
       "      <td>15360</td>\n",
       "      <td>500</td>\n",
       "      <td>550</td>\n",
       "      <td>200</td>\n",
       "      <td>3</td>\n",
       "      <td>3</td>\n",
       "      <td>smart</td>\n",
       "    </tr>\n",
       "    <tr>\n",
       "      <th>1</th>\n",
       "      <td>1000</td>\n",
       "      <td>30720</td>\n",
       "      <td>3000</td>\n",
       "      <td>1950</td>\n",
       "      <td>150</td>\n",
       "      <td>1</td>\n",
       "      <td>1</td>\n",
       "      <td>ultra</td>\n",
       "    </tr>\n",
       "  </tbody>\n",
       "</table>\n",
       "</div>"
      ],
      "text/plain": [
       "   messages_included  mb_per_month_included  minutes_included  \\\n",
       "0                 50                  15360               500   \n",
       "1               1000                  30720              3000   \n",
       "\n",
       "   rub_monthly_fee  rub_per_gb  rub_per_message  rub_per_minute tariff_name  \n",
       "0              550         200                3               3       smart  \n",
       "1             1950         150                1               1       ultra  "
      ]
     },
     "execution_count": 27,
     "metadata": {},
     "output_type": "execute_result"
    }
   ],
   "source": [
    "tariffs"
   ]
  },
  {
   "cell_type": "markdown",
   "metadata": {},
   "source": [
    "Простой датасет без пропусков и дубликатов, содержащей информацию о двух тарифах."
   ]
  },
  {
   "cell_type": "markdown",
   "metadata": {},
   "source": [
    "### Добавляем данные"
   ]
  },
  {
   "cell_type": "markdown",
   "metadata": {},
   "source": [
    "Посчитаем для каждого пользователя:\n",
    "- количество сделанных звонков и израсходованных минут разговора по месяцам;\n",
    "- количество отправленных сообщений по месяцам;\n",
    "- объем израсходованного интернет-трафика по месяцам;\n",
    "- помесячную выручку с каждого пользователя (вычесть бесплатный лимит из суммарного количества звонков, сообщений и интернет-трафика; остаток умножить на значение из тарифного плана; прибавить абонентскую плату, соответствующую тарифному плану).\n"
   ]
  },
  {
   "cell_type": "markdown",
   "metadata": {},
   "source": [
    "#### Количество звонков и их продолжительность"
   ]
  },
  {
   "cell_type": "code",
   "execution_count": 28,
   "metadata": {},
   "outputs": [],
   "source": [
    "months = [\"Jan\", \"Feb\", \"Mar\", \"Apr\", \"May\", \"Jun\", \"Jul\",\"Aug\", \"Sep\", \"Oct\", \"Nov\", \"Dec\"] \n",
    "calls['month'] = calls['call_date'].dt.strftime('%b')"
   ]
  },
  {
   "cell_type": "code",
   "execution_count": 29,
   "metadata": {},
   "outputs": [
    {
     "data": {
      "text/html": [
       "<div>\n",
       "<style scoped>\n",
       "    .dataframe tbody tr th:only-of-type {\n",
       "        vertical-align: middle;\n",
       "    }\n",
       "\n",
       "    .dataframe tbody tr th {\n",
       "        vertical-align: top;\n",
       "    }\n",
       "\n",
       "    .dataframe thead th {\n",
       "        text-align: right;\n",
       "    }\n",
       "</style>\n",
       "<table border=\"1\" class=\"dataframe\">\n",
       "  <thead>\n",
       "    <tr style=\"text-align: right;\">\n",
       "      <th></th>\n",
       "      <th>user_id</th>\n",
       "      <th>calls_count_Jan</th>\n",
       "      <th>calls_count_Feb</th>\n",
       "      <th>calls_count_Mar</th>\n",
       "      <th>calls_count_Apr</th>\n",
       "      <th>calls_count_May</th>\n",
       "      <th>calls_count_Jun</th>\n",
       "      <th>calls_count_Jul</th>\n",
       "      <th>calls_count_Aug</th>\n",
       "      <th>calls_count_Sep</th>\n",
       "      <th>calls_count_Oct</th>\n",
       "      <th>calls_count_Nov</th>\n",
       "      <th>calls_count_Dec</th>\n",
       "    </tr>\n",
       "  </thead>\n",
       "  <tbody>\n",
       "    <tr>\n",
       "      <th>0</th>\n",
       "      <td>1000</td>\n",
       "      <td>NaN</td>\n",
       "      <td>42.0</td>\n",
       "      <td>38.0</td>\n",
       "      <td>NaN</td>\n",
       "      <td>NaN</td>\n",
       "      <td>41.0</td>\n",
       "      <td>28.0</td>\n",
       "      <td>NaN</td>\n",
       "      <td>17.0</td>\n",
       "      <td>37.0</td>\n",
       "      <td>44.0</td>\n",
       "      <td>46.0</td>\n",
       "    </tr>\n",
       "    <tr>\n",
       "      <th>1</th>\n",
       "      <td>1001</td>\n",
       "      <td>NaN</td>\n",
       "      <td>NaN</td>\n",
       "      <td>47.0</td>\n",
       "      <td>NaN</td>\n",
       "      <td>NaN</td>\n",
       "      <td>NaN</td>\n",
       "      <td>NaN</td>\n",
       "      <td>NaN</td>\n",
       "      <td>NaN</td>\n",
       "      <td>45.0</td>\n",
       "      <td>NaN</td>\n",
       "      <td>NaN</td>\n",
       "    </tr>\n",
       "    <tr>\n",
       "      <th>2</th>\n",
       "      <td>1002</td>\n",
       "      <td>NaN</td>\n",
       "      <td>37.0</td>\n",
       "      <td>27.0</td>\n",
       "      <td>NaN</td>\n",
       "      <td>NaN</td>\n",
       "      <td>21.0</td>\n",
       "      <td>14.0</td>\n",
       "      <td>NaN</td>\n",
       "      <td>NaN</td>\n",
       "      <td>25.0</td>\n",
       "      <td>24.0</td>\n",
       "      <td>25.0</td>\n",
       "    </tr>\n",
       "    <tr>\n",
       "      <th>3</th>\n",
       "      <td>1003</td>\n",
       "      <td>NaN</td>\n",
       "      <td>43.0</td>\n",
       "      <td>88.0</td>\n",
       "      <td>NaN</td>\n",
       "      <td>NaN</td>\n",
       "      <td>NaN</td>\n",
       "      <td>NaN</td>\n",
       "      <td>NaN</td>\n",
       "      <td>NaN</td>\n",
       "      <td>95.0</td>\n",
       "      <td>97.0</td>\n",
       "      <td>105.0</td>\n",
       "    </tr>\n",
       "    <tr>\n",
       "      <th>4</th>\n",
       "      <td>1004</td>\n",
       "      <td>NaN</td>\n",
       "      <td>18.0</td>\n",
       "      <td>15.0</td>\n",
       "      <td>NaN</td>\n",
       "      <td>NaN</td>\n",
       "      <td>20.0</td>\n",
       "      <td>25.0</td>\n",
       "      <td>NaN</td>\n",
       "      <td>7.0</td>\n",
       "      <td>15.0</td>\n",
       "      <td>21.0</td>\n",
       "      <td>18.0</td>\n",
       "    </tr>\n",
       "    <tr>\n",
       "      <th>...</th>\n",
       "      <td>...</td>\n",
       "      <td>...</td>\n",
       "      <td>...</td>\n",
       "      <td>...</td>\n",
       "      <td>...</td>\n",
       "      <td>...</td>\n",
       "      <td>...</td>\n",
       "      <td>...</td>\n",
       "      <td>...</td>\n",
       "      <td>...</td>\n",
       "      <td>...</td>\n",
       "      <td>...</td>\n",
       "      <td>...</td>\n",
       "    </tr>\n",
       "    <tr>\n",
       "      <th>487</th>\n",
       "      <td>1495</td>\n",
       "      <td>NaN</td>\n",
       "      <td>13.0</td>\n",
       "      <td>120.0</td>\n",
       "      <td>NaN</td>\n",
       "      <td>NaN</td>\n",
       "      <td>NaN</td>\n",
       "      <td>NaN</td>\n",
       "      <td>NaN</td>\n",
       "      <td>NaN</td>\n",
       "      <td>112.0</td>\n",
       "      <td>126.0</td>\n",
       "      <td>95.0</td>\n",
       "    </tr>\n",
       "    <tr>\n",
       "      <th>488</th>\n",
       "      <td>1496</td>\n",
       "      <td>52.0</td>\n",
       "      <td>62.0</td>\n",
       "      <td>65.0</td>\n",
       "      <td>65.0</td>\n",
       "      <td>6.0</td>\n",
       "      <td>63.0</td>\n",
       "      <td>57.0</td>\n",
       "      <td>67.0</td>\n",
       "      <td>50.0</td>\n",
       "      <td>66.0</td>\n",
       "      <td>56.0</td>\n",
       "      <td>58.0</td>\n",
       "    </tr>\n",
       "    <tr>\n",
       "      <th>489</th>\n",
       "      <td>1497</td>\n",
       "      <td>NaN</td>\n",
       "      <td>NaN</td>\n",
       "      <td>58.0</td>\n",
       "      <td>NaN</td>\n",
       "      <td>NaN</td>\n",
       "      <td>NaN</td>\n",
       "      <td>NaN</td>\n",
       "      <td>NaN</td>\n",
       "      <td>NaN</td>\n",
       "      <td>48.0</td>\n",
       "      <td>50.0</td>\n",
       "      <td>NaN</td>\n",
       "    </tr>\n",
       "    <tr>\n",
       "      <th>490</th>\n",
       "      <td>1498</td>\n",
       "      <td>NaN</td>\n",
       "      <td>43.0</td>\n",
       "      <td>NaN</td>\n",
       "      <td>NaN</td>\n",
       "      <td>NaN</td>\n",
       "      <td>20.0</td>\n",
       "      <td>NaN</td>\n",
       "      <td>NaN</td>\n",
       "      <td>NaN</td>\n",
       "      <td>NaN</td>\n",
       "      <td>30.0</td>\n",
       "      <td>53.0</td>\n",
       "    </tr>\n",
       "    <tr>\n",
       "      <th>491</th>\n",
       "      <td>1499</td>\n",
       "      <td>NaN</td>\n",
       "      <td>NaN</td>\n",
       "      <td>56.0</td>\n",
       "      <td>NaN</td>\n",
       "      <td>NaN</td>\n",
       "      <td>NaN</td>\n",
       "      <td>NaN</td>\n",
       "      <td>NaN</td>\n",
       "      <td>NaN</td>\n",
       "      <td>62.0</td>\n",
       "      <td>44.0</td>\n",
       "      <td>8.0</td>\n",
       "    </tr>\n",
       "  </tbody>\n",
       "</table>\n",
       "<p>492 rows × 13 columns</p>\n",
       "</div>"
      ],
      "text/plain": [
       "     user_id  calls_count_Jan  calls_count_Feb  calls_count_Mar  \\\n",
       "0       1000              NaN             42.0             38.0   \n",
       "1       1001              NaN              NaN             47.0   \n",
       "2       1002              NaN             37.0             27.0   \n",
       "3       1003              NaN             43.0             88.0   \n",
       "4       1004              NaN             18.0             15.0   \n",
       "..       ...              ...              ...              ...   \n",
       "487     1495              NaN             13.0            120.0   \n",
       "488     1496             52.0             62.0             65.0   \n",
       "489     1497              NaN              NaN             58.0   \n",
       "490     1498              NaN             43.0              NaN   \n",
       "491     1499              NaN              NaN             56.0   \n",
       "\n",
       "     calls_count_Apr  calls_count_May  calls_count_Jun  calls_count_Jul  \\\n",
       "0                NaN              NaN             41.0             28.0   \n",
       "1                NaN              NaN              NaN              NaN   \n",
       "2                NaN              NaN             21.0             14.0   \n",
       "3                NaN              NaN              NaN              NaN   \n",
       "4                NaN              NaN             20.0             25.0   \n",
       "..               ...              ...              ...              ...   \n",
       "487              NaN              NaN              NaN              NaN   \n",
       "488             65.0              6.0             63.0             57.0   \n",
       "489              NaN              NaN              NaN              NaN   \n",
       "490              NaN              NaN             20.0              NaN   \n",
       "491              NaN              NaN              NaN              NaN   \n",
       "\n",
       "     calls_count_Aug  calls_count_Sep  calls_count_Oct  calls_count_Nov  \\\n",
       "0                NaN             17.0             37.0             44.0   \n",
       "1                NaN              NaN             45.0              NaN   \n",
       "2                NaN              NaN             25.0             24.0   \n",
       "3                NaN              NaN             95.0             97.0   \n",
       "4                NaN              7.0             15.0             21.0   \n",
       "..               ...              ...              ...              ...   \n",
       "487              NaN              NaN            112.0            126.0   \n",
       "488             67.0             50.0             66.0             56.0   \n",
       "489              NaN              NaN             48.0             50.0   \n",
       "490              NaN              NaN              NaN             30.0   \n",
       "491              NaN              NaN             62.0             44.0   \n",
       "\n",
       "     calls_count_Dec  \n",
       "0               46.0  \n",
       "1                NaN  \n",
       "2               25.0  \n",
       "3              105.0  \n",
       "4               18.0  \n",
       "..               ...  \n",
       "487             95.0  \n",
       "488             58.0  \n",
       "489              NaN  \n",
       "490             53.0  \n",
       "491              8.0  \n",
       "\n",
       "[492 rows x 13 columns]"
      ]
     },
     "execution_count": 29,
     "metadata": {},
     "output_type": "execute_result"
    }
   ],
   "source": [
    "calls_count = calls.pivot_table(index='user_id', columns='month', values='id', aggfunc='count')\n",
    "calls_count.columns = ['calls_count_'+month for month in months]\n",
    "calls_count.reset_index()"
   ]
  },
  {
   "cell_type": "code",
   "execution_count": 30,
   "metadata": {},
   "outputs": [
    {
     "data": {
      "text/html": [
       "<div>\n",
       "<style scoped>\n",
       "    .dataframe tbody tr th:only-of-type {\n",
       "        vertical-align: middle;\n",
       "    }\n",
       "\n",
       "    .dataframe tbody tr th {\n",
       "        vertical-align: top;\n",
       "    }\n",
       "\n",
       "    .dataframe thead th {\n",
       "        text-align: right;\n",
       "    }\n",
       "</style>\n",
       "<table border=\"1\" class=\"dataframe\">\n",
       "  <thead>\n",
       "    <tr style=\"text-align: right;\">\n",
       "      <th></th>\n",
       "      <th>user_id</th>\n",
       "      <th>calls_duration_sum_Jan</th>\n",
       "      <th>calls_duration_sum_Feb</th>\n",
       "      <th>calls_duration_sum_Mar</th>\n",
       "      <th>calls_duration_sum_Apr</th>\n",
       "      <th>calls_duration_sum_May</th>\n",
       "      <th>calls_duration_sum_Jun</th>\n",
       "      <th>calls_duration_sum_Jul</th>\n",
       "      <th>calls_duration_sum_Aug</th>\n",
       "      <th>calls_duration_sum_Sep</th>\n",
       "      <th>calls_duration_sum_Oct</th>\n",
       "      <th>calls_duration_sum_Nov</th>\n",
       "      <th>calls_duration_sum_Dec</th>\n",
       "    </tr>\n",
       "  </thead>\n",
       "  <tbody>\n",
       "    <tr>\n",
       "      <th>0</th>\n",
       "      <td>1000</td>\n",
       "      <td>NaN</td>\n",
       "      <td>408.0</td>\n",
       "      <td>333.0</td>\n",
       "      <td>NaN</td>\n",
       "      <td>NaN</td>\n",
       "      <td>340.0</td>\n",
       "      <td>172.0</td>\n",
       "      <td>NaN</td>\n",
       "      <td>159.0</td>\n",
       "      <td>338.0</td>\n",
       "      <td>350.0</td>\n",
       "      <td>466.0</td>\n",
       "    </tr>\n",
       "    <tr>\n",
       "      <th>1</th>\n",
       "      <td>1001</td>\n",
       "      <td>NaN</td>\n",
       "      <td>NaN</td>\n",
       "      <td>414.0</td>\n",
       "      <td>NaN</td>\n",
       "      <td>NaN</td>\n",
       "      <td>NaN</td>\n",
       "      <td>NaN</td>\n",
       "      <td>NaN</td>\n",
       "      <td>NaN</td>\n",
       "      <td>430.0</td>\n",
       "      <td>NaN</td>\n",
       "      <td>NaN</td>\n",
       "    </tr>\n",
       "    <tr>\n",
       "      <th>2</th>\n",
       "      <td>1002</td>\n",
       "      <td>NaN</td>\n",
       "      <td>289.0</td>\n",
       "      <td>236.0</td>\n",
       "      <td>NaN</td>\n",
       "      <td>NaN</td>\n",
       "      <td>214.0</td>\n",
       "      <td>117.0</td>\n",
       "      <td>NaN</td>\n",
       "      <td>NaN</td>\n",
       "      <td>243.0</td>\n",
       "      <td>212.0</td>\n",
       "      <td>206.0</td>\n",
       "    </tr>\n",
       "    <tr>\n",
       "      <th>3</th>\n",
       "      <td>1003</td>\n",
       "      <td>NaN</td>\n",
       "      <td>380.0</td>\n",
       "      <td>802.0</td>\n",
       "      <td>NaN</td>\n",
       "      <td>NaN</td>\n",
       "      <td>NaN</td>\n",
       "      <td>NaN</td>\n",
       "      <td>NaN</td>\n",
       "      <td>NaN</td>\n",
       "      <td>824.0</td>\n",
       "      <td>855.0</td>\n",
       "      <td>961.0</td>\n",
       "    </tr>\n",
       "    <tr>\n",
       "      <th>4</th>\n",
       "      <td>1004</td>\n",
       "      <td>NaN</td>\n",
       "      <td>137.0</td>\n",
       "      <td>130.0</td>\n",
       "      <td>NaN</td>\n",
       "      <td>NaN</td>\n",
       "      <td>135.0</td>\n",
       "      <td>171.0</td>\n",
       "      <td>NaN</td>\n",
       "      <td>35.0</td>\n",
       "      <td>117.0</td>\n",
       "      <td>145.0</td>\n",
       "      <td>117.0</td>\n",
       "    </tr>\n",
       "    <tr>\n",
       "      <th>...</th>\n",
       "      <td>...</td>\n",
       "      <td>...</td>\n",
       "      <td>...</td>\n",
       "      <td>...</td>\n",
       "      <td>...</td>\n",
       "      <td>...</td>\n",
       "      <td>...</td>\n",
       "      <td>...</td>\n",
       "      <td>...</td>\n",
       "      <td>...</td>\n",
       "      <td>...</td>\n",
       "      <td>...</td>\n",
       "      <td>...</td>\n",
       "    </tr>\n",
       "    <tr>\n",
       "      <th>487</th>\n",
       "      <td>1495</td>\n",
       "      <td>NaN</td>\n",
       "      <td>92.0</td>\n",
       "      <td>1031.0</td>\n",
       "      <td>NaN</td>\n",
       "      <td>NaN</td>\n",
       "      <td>NaN</td>\n",
       "      <td>NaN</td>\n",
       "      <td>NaN</td>\n",
       "      <td>NaN</td>\n",
       "      <td>954.0</td>\n",
       "      <td>1030.0</td>\n",
       "      <td>813.0</td>\n",
       "    </tr>\n",
       "    <tr>\n",
       "      <th>488</th>\n",
       "      <td>1496</td>\n",
       "      <td>521.0</td>\n",
       "      <td>527.0</td>\n",
       "      <td>518.0</td>\n",
       "      <td>594.0</td>\n",
       "      <td>48.0</td>\n",
       "      <td>582.0</td>\n",
       "      <td>555.0</td>\n",
       "      <td>557.0</td>\n",
       "      <td>484.0</td>\n",
       "      <td>662.0</td>\n",
       "      <td>450.0</td>\n",
       "      <td>486.0</td>\n",
       "    </tr>\n",
       "    <tr>\n",
       "      <th>489</th>\n",
       "      <td>1497</td>\n",
       "      <td>NaN</td>\n",
       "      <td>NaN</td>\n",
       "      <td>545.0</td>\n",
       "      <td>NaN</td>\n",
       "      <td>NaN</td>\n",
       "      <td>NaN</td>\n",
       "      <td>NaN</td>\n",
       "      <td>NaN</td>\n",
       "      <td>NaN</td>\n",
       "      <td>371.0</td>\n",
       "      <td>490.0</td>\n",
       "      <td>NaN</td>\n",
       "    </tr>\n",
       "    <tr>\n",
       "      <th>490</th>\n",
       "      <td>1498</td>\n",
       "      <td>NaN</td>\n",
       "      <td>400.0</td>\n",
       "      <td>NaN</td>\n",
       "      <td>NaN</td>\n",
       "      <td>NaN</td>\n",
       "      <td>175.0</td>\n",
       "      <td>NaN</td>\n",
       "      <td>NaN</td>\n",
       "      <td>NaN</td>\n",
       "      <td>NaN</td>\n",
       "      <td>247.0</td>\n",
       "      <td>471.0</td>\n",
       "    </tr>\n",
       "    <tr>\n",
       "      <th>491</th>\n",
       "      <td>1499</td>\n",
       "      <td>NaN</td>\n",
       "      <td>NaN</td>\n",
       "      <td>492.0</td>\n",
       "      <td>NaN</td>\n",
       "      <td>NaN</td>\n",
       "      <td>NaN</td>\n",
       "      <td>NaN</td>\n",
       "      <td>NaN</td>\n",
       "      <td>NaN</td>\n",
       "      <td>612.0</td>\n",
       "      <td>449.0</td>\n",
       "      <td>70.0</td>\n",
       "    </tr>\n",
       "  </tbody>\n",
       "</table>\n",
       "<p>492 rows × 13 columns</p>\n",
       "</div>"
      ],
      "text/plain": [
       "     user_id  calls_duration_sum_Jan  calls_duration_sum_Feb  \\\n",
       "0       1000                     NaN                   408.0   \n",
       "1       1001                     NaN                     NaN   \n",
       "2       1002                     NaN                   289.0   \n",
       "3       1003                     NaN                   380.0   \n",
       "4       1004                     NaN                   137.0   \n",
       "..       ...                     ...                     ...   \n",
       "487     1495                     NaN                    92.0   \n",
       "488     1496                   521.0                   527.0   \n",
       "489     1497                     NaN                     NaN   \n",
       "490     1498                     NaN                   400.0   \n",
       "491     1499                     NaN                     NaN   \n",
       "\n",
       "     calls_duration_sum_Mar  calls_duration_sum_Apr  calls_duration_sum_May  \\\n",
       "0                     333.0                     NaN                     NaN   \n",
       "1                     414.0                     NaN                     NaN   \n",
       "2                     236.0                     NaN                     NaN   \n",
       "3                     802.0                     NaN                     NaN   \n",
       "4                     130.0                     NaN                     NaN   \n",
       "..                      ...                     ...                     ...   \n",
       "487                  1031.0                     NaN                     NaN   \n",
       "488                   518.0                   594.0                    48.0   \n",
       "489                   545.0                     NaN                     NaN   \n",
       "490                     NaN                     NaN                     NaN   \n",
       "491                   492.0                     NaN                     NaN   \n",
       "\n",
       "     calls_duration_sum_Jun  calls_duration_sum_Jul  calls_duration_sum_Aug  \\\n",
       "0                     340.0                   172.0                     NaN   \n",
       "1                       NaN                     NaN                     NaN   \n",
       "2                     214.0                   117.0                     NaN   \n",
       "3                       NaN                     NaN                     NaN   \n",
       "4                     135.0                   171.0                     NaN   \n",
       "..                      ...                     ...                     ...   \n",
       "487                     NaN                     NaN                     NaN   \n",
       "488                   582.0                   555.0                   557.0   \n",
       "489                     NaN                     NaN                     NaN   \n",
       "490                   175.0                     NaN                     NaN   \n",
       "491                     NaN                     NaN                     NaN   \n",
       "\n",
       "     calls_duration_sum_Sep  calls_duration_sum_Oct  calls_duration_sum_Nov  \\\n",
       "0                     159.0                   338.0                   350.0   \n",
       "1                       NaN                   430.0                     NaN   \n",
       "2                       NaN                   243.0                   212.0   \n",
       "3                       NaN                   824.0                   855.0   \n",
       "4                      35.0                   117.0                   145.0   \n",
       "..                      ...                     ...                     ...   \n",
       "487                     NaN                   954.0                  1030.0   \n",
       "488                   484.0                   662.0                   450.0   \n",
       "489                     NaN                   371.0                   490.0   \n",
       "490                     NaN                     NaN                   247.0   \n",
       "491                     NaN                   612.0                   449.0   \n",
       "\n",
       "     calls_duration_sum_Dec  \n",
       "0                     466.0  \n",
       "1                       NaN  \n",
       "2                     206.0  \n",
       "3                     961.0  \n",
       "4                     117.0  \n",
       "..                      ...  \n",
       "487                   813.0  \n",
       "488                   486.0  \n",
       "489                     NaN  \n",
       "490                   471.0  \n",
       "491                    70.0  \n",
       "\n",
       "[492 rows x 13 columns]"
      ]
     },
     "execution_count": 30,
     "metadata": {},
     "output_type": "execute_result"
    }
   ],
   "source": [
    "calls_duration_sum = calls.pivot_table(index='user_id', columns='month', values='duration', aggfunc='sum')\n",
    "calls_duration_sum.columns = ['calls_duration_sum_'+month for month in months]\n",
    "calls_duration_sum.reset_index()"
   ]
  },
  {
   "cell_type": "markdown",
   "metadata": {},
   "source": [
    "#### Количество отправленных сообщений"
   ]
  },
  {
   "cell_type": "code",
   "execution_count": 31,
   "metadata": {},
   "outputs": [],
   "source": [
    "messages['month'] = messages['message_date'].dt.month"
   ]
  },
  {
   "cell_type": "code",
   "execution_count": 32,
   "metadata": {},
   "outputs": [
    {
     "data": {
      "text/html": [
       "<div>\n",
       "<style scoped>\n",
       "    .dataframe tbody tr th:only-of-type {\n",
       "        vertical-align: middle;\n",
       "    }\n",
       "\n",
       "    .dataframe tbody tr th {\n",
       "        vertical-align: top;\n",
       "    }\n",
       "\n",
       "    .dataframe thead th {\n",
       "        text-align: right;\n",
       "    }\n",
       "</style>\n",
       "<table border=\"1\" class=\"dataframe\">\n",
       "  <thead>\n",
       "    <tr style=\"text-align: right;\">\n",
       "      <th></th>\n",
       "      <th>user_id</th>\n",
       "      <th>messages_count_Jan</th>\n",
       "      <th>messages_count_Feb</th>\n",
       "      <th>messages_count_Mar</th>\n",
       "      <th>messages_count_Apr</th>\n",
       "      <th>messages_count_May</th>\n",
       "      <th>messages_count_Jun</th>\n",
       "      <th>messages_count_Jul</th>\n",
       "      <th>messages_count_Aug</th>\n",
       "      <th>messages_count_Sep</th>\n",
       "      <th>messages_count_Oct</th>\n",
       "      <th>messages_count_Nov</th>\n",
       "      <th>messages_count_Dec</th>\n",
       "    </tr>\n",
       "  </thead>\n",
       "  <tbody>\n",
       "    <tr>\n",
       "      <th>0</th>\n",
       "      <td>1000</td>\n",
       "      <td>NaN</td>\n",
       "      <td>NaN</td>\n",
       "      <td>NaN</td>\n",
       "      <td>NaN</td>\n",
       "      <td>22.0</td>\n",
       "      <td>60.0</td>\n",
       "      <td>75.0</td>\n",
       "      <td>81.0</td>\n",
       "      <td>57.0</td>\n",
       "      <td>73.0</td>\n",
       "      <td>58.0</td>\n",
       "      <td>70.0</td>\n",
       "    </tr>\n",
       "    <tr>\n",
       "      <th>1</th>\n",
       "      <td>1002</td>\n",
       "      <td>NaN</td>\n",
       "      <td>NaN</td>\n",
       "      <td>NaN</td>\n",
       "      <td>NaN</td>\n",
       "      <td>NaN</td>\n",
       "      <td>4.0</td>\n",
       "      <td>11.0</td>\n",
       "      <td>13.0</td>\n",
       "      <td>4.0</td>\n",
       "      <td>10.0</td>\n",
       "      <td>16.0</td>\n",
       "      <td>12.0</td>\n",
       "    </tr>\n",
       "    <tr>\n",
       "      <th>2</th>\n",
       "      <td>1003</td>\n",
       "      <td>NaN</td>\n",
       "      <td>NaN</td>\n",
       "      <td>NaN</td>\n",
       "      <td>NaN</td>\n",
       "      <td>NaN</td>\n",
       "      <td>NaN</td>\n",
       "      <td>NaN</td>\n",
       "      <td>37.0</td>\n",
       "      <td>91.0</td>\n",
       "      <td>83.0</td>\n",
       "      <td>94.0</td>\n",
       "      <td>75.0</td>\n",
       "    </tr>\n",
       "    <tr>\n",
       "      <th>3</th>\n",
       "      <td>1004</td>\n",
       "      <td>NaN</td>\n",
       "      <td>NaN</td>\n",
       "      <td>NaN</td>\n",
       "      <td>NaN</td>\n",
       "      <td>95.0</td>\n",
       "      <td>134.0</td>\n",
       "      <td>181.0</td>\n",
       "      <td>151.0</td>\n",
       "      <td>146.0</td>\n",
       "      <td>165.0</td>\n",
       "      <td>158.0</td>\n",
       "      <td>162.0</td>\n",
       "    </tr>\n",
       "    <tr>\n",
       "      <th>4</th>\n",
       "      <td>1005</td>\n",
       "      <td>7.0</td>\n",
       "      <td>38.0</td>\n",
       "      <td>56.0</td>\n",
       "      <td>41.0</td>\n",
       "      <td>42.0</td>\n",
       "      <td>47.0</td>\n",
       "      <td>56.0</td>\n",
       "      <td>64.0</td>\n",
       "      <td>52.0</td>\n",
       "      <td>44.0</td>\n",
       "      <td>51.0</td>\n",
       "      <td>54.0</td>\n",
       "    </tr>\n",
       "    <tr>\n",
       "      <th>...</th>\n",
       "      <td>...</td>\n",
       "      <td>...</td>\n",
       "      <td>...</td>\n",
       "      <td>...</td>\n",
       "      <td>...</td>\n",
       "      <td>...</td>\n",
       "      <td>...</td>\n",
       "      <td>...</td>\n",
       "      <td>...</td>\n",
       "      <td>...</td>\n",
       "      <td>...</td>\n",
       "      <td>...</td>\n",
       "      <td>...</td>\n",
       "    </tr>\n",
       "    <tr>\n",
       "      <th>421</th>\n",
       "      <td>1495</td>\n",
       "      <td>NaN</td>\n",
       "      <td>NaN</td>\n",
       "      <td>NaN</td>\n",
       "      <td>NaN</td>\n",
       "      <td>NaN</td>\n",
       "      <td>NaN</td>\n",
       "      <td>NaN</td>\n",
       "      <td>13.0</td>\n",
       "      <td>82.0</td>\n",
       "      <td>82.0</td>\n",
       "      <td>79.0</td>\n",
       "      <td>84.0</td>\n",
       "    </tr>\n",
       "    <tr>\n",
       "      <th>422</th>\n",
       "      <td>1496</td>\n",
       "      <td>9.0</td>\n",
       "      <td>45.0</td>\n",
       "      <td>46.0</td>\n",
       "      <td>49.0</td>\n",
       "      <td>40.0</td>\n",
       "      <td>35.0</td>\n",
       "      <td>42.0</td>\n",
       "      <td>41.0</td>\n",
       "      <td>29.0</td>\n",
       "      <td>35.0</td>\n",
       "      <td>46.0</td>\n",
       "      <td>51.0</td>\n",
       "    </tr>\n",
       "    <tr>\n",
       "      <th>423</th>\n",
       "      <td>1497</td>\n",
       "      <td>NaN</td>\n",
       "      <td>NaN</td>\n",
       "      <td>NaN</td>\n",
       "      <td>NaN</td>\n",
       "      <td>NaN</td>\n",
       "      <td>NaN</td>\n",
       "      <td>NaN</td>\n",
       "      <td>NaN</td>\n",
       "      <td>NaN</td>\n",
       "      <td>20.0</td>\n",
       "      <td>14.0</td>\n",
       "      <td>17.0</td>\n",
       "    </tr>\n",
       "    <tr>\n",
       "      <th>424</th>\n",
       "      <td>1498</td>\n",
       "      <td>NaN</td>\n",
       "      <td>NaN</td>\n",
       "      <td>NaN</td>\n",
       "      <td>NaN</td>\n",
       "      <td>NaN</td>\n",
       "      <td>NaN</td>\n",
       "      <td>20.0</td>\n",
       "      <td>62.0</td>\n",
       "      <td>44.0</td>\n",
       "      <td>42.0</td>\n",
       "      <td>NaN</td>\n",
       "      <td>NaN</td>\n",
       "    </tr>\n",
       "    <tr>\n",
       "      <th>425</th>\n",
       "      <td>1499</td>\n",
       "      <td>NaN</td>\n",
       "      <td>NaN</td>\n",
       "      <td>NaN</td>\n",
       "      <td>NaN</td>\n",
       "      <td>NaN</td>\n",
       "      <td>NaN</td>\n",
       "      <td>NaN</td>\n",
       "      <td>NaN</td>\n",
       "      <td>11.0</td>\n",
       "      <td>48.0</td>\n",
       "      <td>59.0</td>\n",
       "      <td>66.0</td>\n",
       "    </tr>\n",
       "  </tbody>\n",
       "</table>\n",
       "<p>426 rows × 13 columns</p>\n",
       "</div>"
      ],
      "text/plain": [
       "     user_id  messages_count_Jan  messages_count_Feb  messages_count_Mar  \\\n",
       "0       1000                 NaN                 NaN                 NaN   \n",
       "1       1002                 NaN                 NaN                 NaN   \n",
       "2       1003                 NaN                 NaN                 NaN   \n",
       "3       1004                 NaN                 NaN                 NaN   \n",
       "4       1005                 7.0                38.0                56.0   \n",
       "..       ...                 ...                 ...                 ...   \n",
       "421     1495                 NaN                 NaN                 NaN   \n",
       "422     1496                 9.0                45.0                46.0   \n",
       "423     1497                 NaN                 NaN                 NaN   \n",
       "424     1498                 NaN                 NaN                 NaN   \n",
       "425     1499                 NaN                 NaN                 NaN   \n",
       "\n",
       "     messages_count_Apr  messages_count_May  messages_count_Jun  \\\n",
       "0                   NaN                22.0                60.0   \n",
       "1                   NaN                 NaN                 4.0   \n",
       "2                   NaN                 NaN                 NaN   \n",
       "3                   NaN                95.0               134.0   \n",
       "4                  41.0                42.0                47.0   \n",
       "..                  ...                 ...                 ...   \n",
       "421                 NaN                 NaN                 NaN   \n",
       "422                49.0                40.0                35.0   \n",
       "423                 NaN                 NaN                 NaN   \n",
       "424                 NaN                 NaN                 NaN   \n",
       "425                 NaN                 NaN                 NaN   \n",
       "\n",
       "     messages_count_Jul  messages_count_Aug  messages_count_Sep  \\\n",
       "0                  75.0                81.0                57.0   \n",
       "1                  11.0                13.0                 4.0   \n",
       "2                   NaN                37.0                91.0   \n",
       "3                 181.0               151.0               146.0   \n",
       "4                  56.0                64.0                52.0   \n",
       "..                  ...                 ...                 ...   \n",
       "421                 NaN                13.0                82.0   \n",
       "422                42.0                41.0                29.0   \n",
       "423                 NaN                 NaN                 NaN   \n",
       "424                20.0                62.0                44.0   \n",
       "425                 NaN                 NaN                11.0   \n",
       "\n",
       "     messages_count_Oct  messages_count_Nov  messages_count_Dec  \n",
       "0                  73.0                58.0                70.0  \n",
       "1                  10.0                16.0                12.0  \n",
       "2                  83.0                94.0                75.0  \n",
       "3                 165.0               158.0               162.0  \n",
       "4                  44.0                51.0                54.0  \n",
       "..                  ...                 ...                 ...  \n",
       "421                82.0                79.0                84.0  \n",
       "422                35.0                46.0                51.0  \n",
       "423                20.0                14.0                17.0  \n",
       "424                42.0                 NaN                 NaN  \n",
       "425                48.0                59.0                66.0  \n",
       "\n",
       "[426 rows x 13 columns]"
      ]
     },
     "execution_count": 32,
     "metadata": {},
     "output_type": "execute_result"
    }
   ],
   "source": [
    "messages_count = messages.pivot_table(index='user_id', columns='month', values='id', aggfunc='count')\n",
    "messages_count.columns = ['messages_count_'+month for month in months]\n",
    "messages_count.reset_index()"
   ]
  },
  {
   "cell_type": "markdown",
   "metadata": {},
   "source": [
    "#### Объем израсходованного интернет-трафика"
   ]
  },
  {
   "cell_type": "code",
   "execution_count": 33,
   "metadata": {},
   "outputs": [],
   "source": [
    "internet['month'] = internet['session_date'].dt.month"
   ]
  },
  {
   "cell_type": "code",
   "execution_count": 34,
   "metadata": {},
   "outputs": [
    {
     "data": {
      "text/html": [
       "<div>\n",
       "<style scoped>\n",
       "    .dataframe tbody tr th:only-of-type {\n",
       "        vertical-align: middle;\n",
       "    }\n",
       "\n",
       "    .dataframe tbody tr th {\n",
       "        vertical-align: top;\n",
       "    }\n",
       "\n",
       "    .dataframe thead th {\n",
       "        text-align: right;\n",
       "    }\n",
       "</style>\n",
       "<table border=\"1\" class=\"dataframe\">\n",
       "  <thead>\n",
       "    <tr style=\"text-align: right;\">\n",
       "      <th></th>\n",
       "      <th>user_id</th>\n",
       "      <th>internet_sum_Jan</th>\n",
       "      <th>internet_sum_Feb</th>\n",
       "      <th>internet_sum_Mar</th>\n",
       "      <th>internet_sum_Apr</th>\n",
       "      <th>internet_sum_May</th>\n",
       "      <th>internet_sum_Jun</th>\n",
       "      <th>internet_sum_Jul</th>\n",
       "      <th>internet_sum_Aug</th>\n",
       "      <th>internet_sum_Sep</th>\n",
       "      <th>internet_sum_Oct</th>\n",
       "      <th>internet_sum_Nov</th>\n",
       "      <th>internet_sum_Dec</th>\n",
       "    </tr>\n",
       "  </thead>\n",
       "  <tbody>\n",
       "    <tr>\n",
       "      <th>0</th>\n",
       "      <td>1000</td>\n",
       "      <td>NaN</td>\n",
       "      <td>NaN</td>\n",
       "      <td>NaN</td>\n",
       "      <td>NaN</td>\n",
       "      <td>2256.0</td>\n",
       "      <td>23257.0</td>\n",
       "      <td>14016.0</td>\n",
       "      <td>14070.0</td>\n",
       "      <td>14581.0</td>\n",
       "      <td>14717.0</td>\n",
       "      <td>14768.0</td>\n",
       "      <td>9827.0</td>\n",
       "    </tr>\n",
       "    <tr>\n",
       "      <th>1</th>\n",
       "      <td>1001</td>\n",
       "      <td>NaN</td>\n",
       "      <td>NaN</td>\n",
       "      <td>NaN</td>\n",
       "      <td>NaN</td>\n",
       "      <td>NaN</td>\n",
       "      <td>NaN</td>\n",
       "      <td>NaN</td>\n",
       "      <td>NaN</td>\n",
       "      <td>NaN</td>\n",
       "      <td>NaN</td>\n",
       "      <td>18452.0</td>\n",
       "      <td>14053.0</td>\n",
       "    </tr>\n",
       "    <tr>\n",
       "      <th>2</th>\n",
       "      <td>1002</td>\n",
       "      <td>NaN</td>\n",
       "      <td>NaN</td>\n",
       "      <td>NaN</td>\n",
       "      <td>NaN</td>\n",
       "      <td>NaN</td>\n",
       "      <td>10871.0</td>\n",
       "      <td>17601.0</td>\n",
       "      <td>20347.0</td>\n",
       "      <td>16712.0</td>\n",
       "      <td>13905.0</td>\n",
       "      <td>18610.0</td>\n",
       "      <td>18137.0</td>\n",
       "    </tr>\n",
       "    <tr>\n",
       "      <th>3</th>\n",
       "      <td>1003</td>\n",
       "      <td>NaN</td>\n",
       "      <td>NaN</td>\n",
       "      <td>NaN</td>\n",
       "      <td>NaN</td>\n",
       "      <td>NaN</td>\n",
       "      <td>NaN</td>\n",
       "      <td>NaN</td>\n",
       "      <td>8571.0</td>\n",
       "      <td>12479.0</td>\n",
       "      <td>14779.0</td>\n",
       "      <td>11368.0</td>\n",
       "      <td>10132.0</td>\n",
       "    </tr>\n",
       "    <tr>\n",
       "      <th>4</th>\n",
       "      <td>1004</td>\n",
       "      <td>NaN</td>\n",
       "      <td>NaN</td>\n",
       "      <td>NaN</td>\n",
       "      <td>NaN</td>\n",
       "      <td>13415.0</td>\n",
       "      <td>17619.0</td>\n",
       "      <td>22243.0</td>\n",
       "      <td>28607.0</td>\n",
       "      <td>15125.0</td>\n",
       "      <td>18494.0</td>\n",
       "      <td>15631.0</td>\n",
       "      <td>18038.0</td>\n",
       "    </tr>\n",
       "    <tr>\n",
       "      <th>...</th>\n",
       "      <td>...</td>\n",
       "      <td>...</td>\n",
       "      <td>...</td>\n",
       "      <td>...</td>\n",
       "      <td>...</td>\n",
       "      <td>...</td>\n",
       "      <td>...</td>\n",
       "      <td>...</td>\n",
       "      <td>...</td>\n",
       "      <td>...</td>\n",
       "      <td>...</td>\n",
       "      <td>...</td>\n",
       "      <td>...</td>\n",
       "    </tr>\n",
       "    <tr>\n",
       "      <th>492</th>\n",
       "      <td>1495</td>\n",
       "      <td>NaN</td>\n",
       "      <td>NaN</td>\n",
       "      <td>NaN</td>\n",
       "      <td>NaN</td>\n",
       "      <td>NaN</td>\n",
       "      <td>NaN</td>\n",
       "      <td>NaN</td>\n",
       "      <td>2616.0</td>\n",
       "      <td>33105.0</td>\n",
       "      <td>29393.0</td>\n",
       "      <td>38972.0</td>\n",
       "      <td>23450.0</td>\n",
       "    </tr>\n",
       "    <tr>\n",
       "      <th>493</th>\n",
       "      <td>1496</td>\n",
       "      <td>3766.0</td>\n",
       "      <td>28523.0</td>\n",
       "      <td>24990.0</td>\n",
       "      <td>21098.0</td>\n",
       "      <td>23740.0</td>\n",
       "      <td>20163.0</td>\n",
       "      <td>24395.0</td>\n",
       "      <td>23560.0</td>\n",
       "      <td>26970.0</td>\n",
       "      <td>28215.0</td>\n",
       "      <td>25092.0</td>\n",
       "      <td>20757.0</td>\n",
       "    </tr>\n",
       "    <tr>\n",
       "      <th>494</th>\n",
       "      <td>1497</td>\n",
       "      <td>NaN</td>\n",
       "      <td>NaN</td>\n",
       "      <td>NaN</td>\n",
       "      <td>NaN</td>\n",
       "      <td>NaN</td>\n",
       "      <td>NaN</td>\n",
       "      <td>NaN</td>\n",
       "      <td>NaN</td>\n",
       "      <td>NaN</td>\n",
       "      <td>11512.0</td>\n",
       "      <td>14174.0</td>\n",
       "      <td>19940.0</td>\n",
       "    </tr>\n",
       "    <tr>\n",
       "      <th>495</th>\n",
       "      <td>1498</td>\n",
       "      <td>NaN</td>\n",
       "      <td>NaN</td>\n",
       "      <td>NaN</td>\n",
       "      <td>NaN</td>\n",
       "      <td>NaN</td>\n",
       "      <td>NaN</td>\n",
       "      <td>7486.0</td>\n",
       "      <td>24270.0</td>\n",
       "      <td>22166.0</td>\n",
       "      <td>20604.0</td>\n",
       "      <td>NaN</td>\n",
       "      <td>NaN</td>\n",
       "    </tr>\n",
       "    <tr>\n",
       "      <th>496</th>\n",
       "      <td>1499</td>\n",
       "      <td>NaN</td>\n",
       "      <td>NaN</td>\n",
       "      <td>NaN</td>\n",
       "      <td>NaN</td>\n",
       "      <td>NaN</td>\n",
       "      <td>NaN</td>\n",
       "      <td>NaN</td>\n",
       "      <td>NaN</td>\n",
       "      <td>1848.0</td>\n",
       "      <td>17809.0</td>\n",
       "      <td>17984.0</td>\n",
       "      <td>13077.0</td>\n",
       "    </tr>\n",
       "  </tbody>\n",
       "</table>\n",
       "<p>497 rows × 13 columns</p>\n",
       "</div>"
      ],
      "text/plain": [
       "     user_id  internet_sum_Jan  internet_sum_Feb  internet_sum_Mar  \\\n",
       "0       1000               NaN               NaN               NaN   \n",
       "1       1001               NaN               NaN               NaN   \n",
       "2       1002               NaN               NaN               NaN   \n",
       "3       1003               NaN               NaN               NaN   \n",
       "4       1004               NaN               NaN               NaN   \n",
       "..       ...               ...               ...               ...   \n",
       "492     1495               NaN               NaN               NaN   \n",
       "493     1496            3766.0           28523.0           24990.0   \n",
       "494     1497               NaN               NaN               NaN   \n",
       "495     1498               NaN               NaN               NaN   \n",
       "496     1499               NaN               NaN               NaN   \n",
       "\n",
       "     internet_sum_Apr  internet_sum_May  internet_sum_Jun  internet_sum_Jul  \\\n",
       "0                 NaN            2256.0           23257.0           14016.0   \n",
       "1                 NaN               NaN               NaN               NaN   \n",
       "2                 NaN               NaN           10871.0           17601.0   \n",
       "3                 NaN               NaN               NaN               NaN   \n",
       "4                 NaN           13415.0           17619.0           22243.0   \n",
       "..                ...               ...               ...               ...   \n",
       "492               NaN               NaN               NaN               NaN   \n",
       "493           21098.0           23740.0           20163.0           24395.0   \n",
       "494               NaN               NaN               NaN               NaN   \n",
       "495               NaN               NaN               NaN            7486.0   \n",
       "496               NaN               NaN               NaN               NaN   \n",
       "\n",
       "     internet_sum_Aug  internet_sum_Sep  internet_sum_Oct  internet_sum_Nov  \\\n",
       "0             14070.0           14581.0           14717.0           14768.0   \n",
       "1                 NaN               NaN               NaN           18452.0   \n",
       "2             20347.0           16712.0           13905.0           18610.0   \n",
       "3              8571.0           12479.0           14779.0           11368.0   \n",
       "4             28607.0           15125.0           18494.0           15631.0   \n",
       "..                ...               ...               ...               ...   \n",
       "492            2616.0           33105.0           29393.0           38972.0   \n",
       "493           23560.0           26970.0           28215.0           25092.0   \n",
       "494               NaN               NaN           11512.0           14174.0   \n",
       "495           24270.0           22166.0           20604.0               NaN   \n",
       "496               NaN            1848.0           17809.0           17984.0   \n",
       "\n",
       "     internet_sum_Dec  \n",
       "0              9827.0  \n",
       "1             14053.0  \n",
       "2             18137.0  \n",
       "3             10132.0  \n",
       "4             18038.0  \n",
       "..                ...  \n",
       "492           23450.0  \n",
       "493           20757.0  \n",
       "494           19940.0  \n",
       "495               NaN  \n",
       "496           13077.0  \n",
       "\n",
       "[497 rows x 13 columns]"
      ]
     },
     "execution_count": 34,
     "metadata": {},
     "output_type": "execute_result"
    }
   ],
   "source": [
    "internet_sum = internet.pivot_table(index='user_id', columns='month', values='mb_used', aggfunc='sum')\n",
    "internet_sum.columns = ['internet_sum_'+month for month in months]\n",
    "internet_sum.reset_index()"
   ]
  },
  {
   "cell_type": "markdown",
   "metadata": {},
   "source": [
    "#### Помесячная выручка с каждого пользователя"
   ]
  },
  {
   "cell_type": "code",
   "execution_count": 76,
   "metadata": {},
   "outputs": [],
   "source": [
    "gain = internet_sum.merge(calls_duration_sum, on='user_id', how='outer')\n",
    "gain = gain.merge(messages_count, on='user_id', how='outer')\n",
    "gain = gain.merge(users[['user_id', 'tariff']], on='user_id', how='outer')"
   ]
  },
  {
   "cell_type": "code",
   "execution_count": 77,
   "metadata": {},
   "outputs": [],
   "source": [
    "limit = { # включено [message, internet, minute]\n",
    "    'smart': [50, 15360, 500],\n",
    "    'ultra': [1000, 30720, 3000]\n",
    "}\n",
    "\n",
    "prices = { # стоимость дополнительной услуги [message, internet, minute]\n",
    "    'smart': [3, (200/1024), 3],\n",
    "    'ultra': [1, (150/1024), 1]\n",
    "}\n",
    " \n",
    "fee = { # стоимость тарифа\n",
    "    'smart': 550,\n",
    "    'ultra': 3000\n",
    "}"
   ]
  },
  {
   "cell_type": "code",
   "execution_count": 78,
   "metadata": {},
   "outputs": [],
   "source": [
    "def montly_revenue(row):\n",
    "    \n",
    "    \"\"\"\n",
    "    Функция принимает на вход ряд из набора данных gain и возвращает выручку\n",
    "    для конкретного пользователя в конкретный месяц\n",
    "    \"\"\"\n",
    "    \n",
    "    user_tariff = row['tariff']\n",
    "    minutes = row['calls_duration_sum_'+month]\n",
    "    megabytes = row['internet_sum_'+month]\n",
    "    messages = row['messages_count_'+month]\n",
    "    gain = 0\n",
    "    \n",
    "    minutes_minus_limit_price = (minutes - limit[user_tariff][2])*prices[user_tariff][2]\n",
    "    if minutes_minus_limit_price < 0:\n",
    "        minutes_minus_limit_price = 0\n",
    "        \n",
    "    megabytes_minus_limit_price = (megabytes - limit[user_tariff][1])*prices[user_tariff][1]\n",
    "    if megabytes_minus_limit_price < 0:\n",
    "        megabytes_minus_limit_price = 0\n",
    "        \n",
    "    messages_minus_limit_price = (messages - limit[user_tariff][0])*prices[user_tariff][0]\n",
    "    if messages_minus_limit_price < 0:\n",
    "        messages_minus_limit_price = 0\n",
    "        \n",
    "    return minutes_minus_limit_price + megabytes_minus_limit_price + messages_minus_limit_price + fee[user_tariff]"
   ]
  },
  {
   "cell_type": "code",
   "execution_count": 79,
   "metadata": {},
   "outputs": [],
   "source": [
    "for month in months:\n",
    "    gain['revenue_'+month] = 0\n",
    "for month in months:\n",
    "    gain['revenue_'+month] = gain.apply(montly_revenue, axis=1)"
   ]
  },
  {
   "cell_type": "markdown",
   "metadata": {},
   "source": [
    "<a id='section3'></a>"
   ]
  },
  {
   "cell_type": "markdown",
   "metadata": {},
   "source": [
    "## Анализ данных"
   ]
  },
  {
   "cell_type": "markdown",
   "metadata": {},
   "source": [
    "___"
   ]
  },
  {
   "cell_type": "markdown",
   "metadata": {},
   "source": [
    "#### Распределение пользования пакетом интернета"
   ]
  },
  {
   "cell_type": "code",
   "execution_count": 39,
   "metadata": {},
   "outputs": [],
   "source": [
    "users_mb = users.merge(internet_sum, on='user_id', how='outer')\n",
    "ultra_mb = users_mb[users_mb.tariff == 'ultra']\n",
    "smart_mb = users_mb[users_mb.tariff == 'smart']"
   ]
  },
  {
   "cell_type": "code",
   "execution_count": 40,
   "metadata": {},
   "outputs": [
    {
     "data": {
      "image/png": "[encoded data removed]",
      "text/plain": [
       "<Figure size 1152x360 with 2 Axes>"
      ]
     },
     "metadata": {
      "needs_background": "light"
     },
     "output_type": "display_data"
    },
    {
     "name": "stdout",
     "output_type": "stream",
     "text": [
      "Среднее SMART: 16211.21349113584\n",
      "Дисперсия SMART: 12828074.80480589\n",
      "Стандартное отклонение SMART: 3581.6301881693325\n",
      "\n",
      "Среднее ULTRA: 19744.8859179747\n",
      "Дисперсия ULTRA: 66883936.373713896\n",
      "Стандартное отклонение ULTRA: 8178.259984477988\n"
     ]
    }
   ],
   "source": [
    "ultra_mb['mean_value'] = ultra_mb.loc[:, 'internet_sum_Jan':'internet_sum_Dec'].apply(lambda row: np.mean(row), axis=1)\n",
    "smart_mb['mean_value'] = smart_mb.loc[:, 'internet_sum_Jan':'internet_sum_Dec'].apply(lambda row: np.mean(row), axis=1)\n",
    "\n",
    "plt.figure(figsize=(16,5))\n",
    "plt.subplot2grid((1,2),(0,0))\n",
    "for month in months:\n",
    "    smart_mb['internet_sum_'+month].plot(kind='hist', alpha=0.3)\n",
    "plt.hist(smart_mb['mean_value'], alpha = 0.85)\n",
    "plt.xlabel('Число МБ')\n",
    "plt.ylabel('Частота')\n",
    "plt.title('Распределение интернет-трафика тарифа Smart')\n",
    "\n",
    "plt.subplot2grid((1,2),(0,1))\n",
    "for month in months:\n",
    "    ultra_mb['internet_sum_'+month].plot(kind='hist', alpha=0.3)\n",
    "plt.hist(ultra_mb['mean_value'], alpha = 0.85)\n",
    "plt.xlabel('Число МБ')\n",
    "plt.ylabel('Частота')\n",
    "plt.title('Распределение интернет-трафика тарифа Ultra')\n",
    "plt.show()\n",
    "\n",
    "print('Среднее SMART:', smart_mb.mean_value.mean())\n",
    "print('Дисперсия SMART:', smart_mb.mean_value.var())\n",
    "print('Стандартное отклонение SMART:', smart_mb.mean_value.std())\n",
    "\n",
    "print()\n",
    "\n",
    "print('Среднее ULTRA:', ultra_mb.mean_value.mean())\n",
    "print('Дисперсия ULTRA:', ultra_mb.mean_value.var())\n",
    "print('Стандартное отклонение ULTRA:', ultra_mb.mean_value.std())\n"
   ]
  },
  {
   "cell_type": "markdown",
   "metadata": {},
   "source": [
    "#### Распределение пользования пакетом минут"
   ]
  },
  {
   "cell_type": "code",
   "execution_count": 41,
   "metadata": {},
   "outputs": [],
   "source": [
    "users_calls = users.merge(calls_duration_sum, on='user_id', how='outer')\n",
    "ultra_calls = users_calls[users_calls.tariff == 'ultra']\n",
    "smart_calls = users_calls[users_calls.tariff == 'smart']"
   ]
  },
  {
   "cell_type": "code",
   "execution_count": 42,
   "metadata": {},
   "outputs": [],
   "source": [
    "ultra_calls['mean_value'] = ultra_calls.loc[:, 'calls_duration_sum_Jan':'calls_duration_sum_Dec'].apply(lambda row: np.mean(row), axis=1)\n",
    "smart_calls['mean_value'] = smart_calls.loc[:, 'calls_duration_sum_Jan':'calls_duration_sum_Dec'].apply(lambda row: np.mean(row), axis=1)"
   ]
  },
  {
   "cell_type": "code",
   "execution_count": 43,
   "metadata": {},
   "outputs": [
    {
     "data": {
      "image/png": "[encoded data removed]",
      "text/plain": [
       "<Figure size 1152x360 with 2 Axes>"
      ]
     },
     "metadata": {
      "needs_background": "light"
     },
     "output_type": "display_data"
    },
    {
     "name": "stdout",
     "output_type": "stream",
     "text": [
      "Среднее SMART: 420.8480194908566\n",
      "Дисперсия SMART: 20578.276241342694\n",
      "Стандартное отклонение SMART: 143.4513026826271\n",
      "\n",
      "Среднее ULTRA: 546.9984013461287\n",
      "Дисперсия ULTRA: 71872.06712691842\n",
      "Стандартное отклонение ULTRA: 268.0896624767886\n"
     ]
    }
   ],
   "source": [
    "plt.figure(figsize=(16,5))\n",
    "plt.subplot2grid((1,2),(0,0))\n",
    "for month in months:\n",
    "    smart_calls['calls_duration_sum_'+month].plot(kind='hist', alpha=0.3, bins=12)\n",
    "smart_calls['mean_value'].plot(kind='hist', alpha=0.8)\n",
    "plt.xlabel('Число минут')\n",
    "plt.ylabel('Частота')\n",
    "plt.title('Распределение пользования пакетом минут тарифа Smart')\n",
    "\n",
    "plt.subplot2grid((1,2),(0,1))\n",
    "for month in months:\n",
    "    ultra_calls['calls_duration_sum_'+month].plot(kind='hist', alpha=0.3, bins=12)\n",
    "ultra_calls['mean_value'].plot(kind='hist', alpha=0.8)\n",
    "plt.xlabel('Число минут')\n",
    "plt.ylabel('Частота')\n",
    "plt.title('Распределение пользования пакетом минут тарифа Ultra')\n",
    "plt.show()\n",
    "\n",
    "print('Среднее SMART:', smart_calls.mean_value.mean())\n",
    "print('Дисперсия SMART:', smart_calls.mean_value.var())\n",
    "print('Стандартное отклонение SMART:', smart_calls.mean_value.std())\n",
    "\n",
    "print()\n",
    "\n",
    "print('Среднее ULTRA:', ultra_calls.mean_value.mean())\n",
    "print('Дисперсия ULTRA:', ultra_calls.mean_value.var())\n",
    "print('Стандартное отклонение ULTRA:', ultra_calls.mean_value.std())"
   ]
  },
  {
   "cell_type": "markdown",
   "metadata": {},
   "source": [
    "#### Распределение пользования пакетом сообщений"
   ]
  },
  {
   "cell_type": "code",
   "execution_count": 44,
   "metadata": {},
   "outputs": [],
   "source": [
    "users_messages = users.merge(messages_count, on='user_id', how='outer')\n",
    "ultra_messages = users_messages[users_messages.tariff == 'ultra']\n",
    "smart_messages = users_messages[users_messages.tariff == 'smart']"
   ]
  },
  {
   "cell_type": "code",
   "execution_count": 45,
   "metadata": {},
   "outputs": [],
   "source": [
    "ultra_messages['mean_value'] = ultra_messages.loc[:, 'messages_count_Jan': 'messages_count_Dec'].apply(lambda row: np.mean(row), axis=1)\n",
    "smart_messages['mean_value'] = smart_messages.loc[:, 'messages_count_Jan': 'messages_count_Dec'].apply(lambda row: np.mean(row), axis=1)"
   ]
  },
  {
   "cell_type": "code",
   "execution_count": 46,
   "metadata": {},
   "outputs": [
    {
     "data": {
      "image/png": "[encoded data removed]",
      "text/plain": [
       "<Figure size 1152x360 with 2 Axes>"
      ]
     },
     "metadata": {
      "needs_background": "light"
     },
     "output_type": "display_data"
    },
    {
     "name": "stdout",
     "output_type": "stream",
     "text": [
      "Среднее SMART: 37.57560563057252\n",
      "Дисперсия SMART: 617.5094965861844\n",
      "Стандартное отклонение SMART: 24.849738360517687\n",
      "\n",
      "Среднее ULTRA: 64.55580197132616\n",
      "Дисперсия ULTRA: 1882.7452175564713\n",
      "Стандартное отклонение ULTRA: 43.390612090133864\n"
     ]
    }
   ],
   "source": [
    "plt.figure(figsize=(16,5))\n",
    "plt.subplot2grid((1,2),(0,0))\n",
    "for month in months:\n",
    "    smart_messages['messages_count_'+month].plot(kind='hist', alpha=0.3)\n",
    "smart_messages.mean_value.plot(kind='hist', alpha=0.8)\n",
    "plt.xlabel('Число сообщений')\n",
    "plt.ylabel('Частота')\n",
    "plt.title('Распределение пользования пакетом сообщений тарифа Smart')\n",
    "\n",
    "plt.subplot2grid((1,2),(0,1))\n",
    "for month in months:\n",
    "    ultra_messages['messages_count_'+month].plot(kind='hist', alpha=0.3)\n",
    "ultra_messages.mean_value.plot(kind='hist', alpha=0.8)\n",
    "plt.xlabel('Число сообщений')\n",
    "plt.ylabel('Частота')\n",
    "plt.title('Распределение пользования пакетом сообщений тарифа Ultra')\n",
    "plt.show()\n",
    "\n",
    "print('Среднее SMART:', smart_messages.mean_value.mean())\n",
    "print('Дисперсия SMART:', smart_messages.mean_value.var())\n",
    "print('Стандартное отклонение SMART:', smart_messages.mean_value.std())\n",
    "\n",
    "print()\n",
    "\n",
    "print('Среднее ULTRA:', ultra_messages.mean_value.mean())\n",
    "print('Дисперсия ULTRA:', ultra_messages.mean_value.var())\n",
    "print('Стандартное отклонение ULTRA:', ultra_messages.mean_value.std())"
   ]
  },
  {
   "cell_type": "markdown",
   "metadata": {},
   "source": [
    "> - Для пользователей тарифа смарт количетсво предоставляемых сообщений и минут оказались избыточными: люди в среднем расходуют 64 (+-43) сообщений из 1000 допустимых. И 550 +-270 минут из доступных 3000.\n",
    "- Большинству пользователей тарифа SMART не хватает интерент-трафика, так как они в среднем расходуют 16 МБ и больше. Это почти не отличается от пользователей тарифа ULTRA, которые в месяц тратят в среднем всего на 3 МБ больше.\n",
    "- Пользователи тарифа SMART гораздо чаще превышают лимит доступных услуг и, возможно, приносят компании больше выручки, чем люди, выбирающие более дорогой тариф. Данную гипотезу можно проверить."
   ]
  },
  {
   "cell_type": "markdown",
   "metadata": {},
   "source": [
    "<a id='section4'></a>"
   ]
  },
  {
   "cell_type": "markdown",
   "metadata": {},
   "source": [
    "## Проверка гипотез"
   ]
  },
  {
   "cell_type": "markdown",
   "metadata": {},
   "source": [
    "Подготовим данные: составим два датасета с выручкой от двух разных тарифов."
   ]
  },
  {
   "cell_type": "code",
   "execution_count": 50,
   "metadata": {},
   "outputs": [],
   "source": [
    "ultra_gain = gain[gain.tariff == 'ultra']\n",
    "smart_gain = gain[gain.tariff == 'smart']\n",
    "ultra_gain['av_revenue'] = ultra_gain.loc[:, 'revenue_Jan':'revenue_Dec'].apply(lambda row: np.mean(row), axis=1)\n",
    "smart_gain['av_revenue'] = smart_gain.loc[:, 'revenue_Jan':'revenue_Dec'].apply(lambda row: np.mean(row), axis=1)"
   ]
  },
  {
   "cell_type": "code",
   "execution_count": 95,
   "metadata": {},
   "outputs": [
    {
     "data": {
      "image/png": "[encoded data removed]",
      "text/plain": [
       "<Figure size 432x288 with 1 Axes>"
      ]
     },
     "metadata": {
      "needs_background": "light"
     },
     "output_type": "display_data"
    },
    {
     "name": "stdout",
     "output_type": "stream",
     "text": [
      "Средняя плата абонентов Smart: 1254.763424430536\n",
      "Средняя плата абонентов Ultra: 3112.403350515464\n"
     ]
    }
   ],
   "source": [
    "plt.hist(ultra_gain.av_revenue, histtype='step', lw=3, alpha=0.7)\n",
    "plt.hist(smart_gain.av_revenue, histtype='step', lw=3, alpha=0.7)\n",
    "plt.title('Распределение выручки от пользователей тарифа Smart и Ultra')\n",
    "plt.xlabel('Выручка, руб')\n",
    "plt.show()\n",
    "\n",
    "print(\"Средняя плата абонентов Smart:\", smart_gain.av_revenue.mean())\n",
    "print(\"Средняя плата абонентов Ultra:\", ultra_gain.av_revenue.mean())"
   ]
  },
  {
   "cell_type": "markdown",
   "metadata": {},
   "source": [
    "Плата пользователей тарифа Smart очень редко превышает 3000 рублей, на гистограмме видно, что распредление их абоненстких плат практически не пересекается. Так как это выборки, проверим гипотезу об их возможном отличии в генеральной совокупности."
   ]
  },
  {
   "cell_type": "markdown",
   "metadata": {},
   "source": [
    "##### Гипотеза:\n",
    "Абоненская плата пользователей тарифа Smart `отличается` от платы пользователей Ultra."
   ]
  },
  {
   "cell_type": "markdown",
   "metadata": {},
   "source": [
    "Таким образом, нулевая гипотеза H0 соответсвует утверждению о том, что стоимость их услуг равна, а альтернативная H1 - не равна. Проверка гипотезы - проверка средних генеральной совокупности."
   ]
  },
  {
   "cell_type": "code",
   "execution_count": 85,
   "metadata": {},
   "outputs": [
    {
     "name": "stdout",
     "output_type": "stream",
     "text": [
      "Значение p-value: 1.2676779000367562e-129\n",
      "Отвергаем нулевую гипотезу\n"
     ]
    }
   ],
   "source": [
    "alpha = 0.05\n",
    "\n",
    "results = st.ttest_ind(smart_gain.av_revenue.dropna(), ultra_gain.av_revenue.dropna(), equal_var=False)\n",
    "\n",
    "print('Значение p-value:', results.pvalue)\n",
    "\n",
    "if results.pvalue < alpha:\n",
    "    print('Отвергаем нулевую гипотезу')\n",
    "else:\n",
    "    print('Не получилось отвегнуть нулевую гипотезу')"
   ]
  },
  {
   "cell_type": "markdown",
   "metadata": {},
   "source": [
    " > Следовательно, наша гипотеза о том, что выручка отличается подтвердиалсь. Используя тариф Smart абонент трати гораздо меньше, чем абонент Ultra."
   ]
  },
  {
   "cell_type": "markdown",
   "metadata": {},
   "source": [
    "##### Гипотеза 2\n",
    "Выручка пользоваетлей Москвы отличается от выручки жителей других городов.\n",
    "- H0 - выручка не отличается \n",
    "- H1 - выручка отличается"
   ]
  },
  {
   "cell_type": "code",
   "execution_count": 80,
   "metadata": {},
   "outputs": [],
   "source": [
    "gain = gain.merge(users[['city', 'user_id']], on='user_id', how='outer')\n",
    "gain_moscow = gain[gain.city == 'Moscow']\n",
    "gain_other = gain[gain.city != 'Moscow']"
   ]
  },
  {
   "cell_type": "code",
   "execution_count": 82,
   "metadata": {},
   "outputs": [],
   "source": [
    "gain['av_revenue'] = gain.loc[:, 'revenue_Jan':'revenue_Dec'].apply(lambda row: np.mean(row), axis=1)"
   ]
  },
  {
   "cell_type": "code",
   "execution_count": 93,
   "metadata": {},
   "outputs": [
    {
     "name": "stdout",
     "output_type": "stream",
     "text": [
      "Значение p-value: 0.13936403445559842\n",
      "Не получилось отвегнуть нулевую гипотезу\n"
     ]
    }
   ],
   "source": [
    "aplha = .05\n",
    "\n",
    "results = st.ttest_ind(gain_moscow.av_revenue.dropna(), gain_other.av_revenue.dropna(), equal_var=False)\n",
    "\n",
    "print('Значение p-value:', results.pvalue)\n",
    "\n",
    "if results.pvalue < alpha:\n",
    "    print('Отвергаем нулевую гипотезу')\n",
    "else:\n",
    "    print('Не получилось отвегнуть нулевую гипотезу')"
   ]
  },
  {
   "cell_type": "markdown",
   "metadata": {},
   "source": [
    "> Получается, москвичи тратят на связь в среднем столько же, сколько и жители остальной России."
   ]
  },
  {
   "cell_type": "markdown",
   "metadata": {},
   "source": [
    "## Заключение"
   ]
  },
  {
   "cell_type": "markdown",
   "metadata": {},
   "source": [
    "В проекте я рассмотрела пользователей двух тарифов Smart и Ultra. По гистограммам распределения можно сделать вывод, что на свзяь (звонки, сообщения и интернет) они тратят значительно отличающуюся плату: 1250 Smart и 3100 за Ultra и при этом используют сопоставимое количество услуг. Исходя из анализа, `тариф Smart гораздо выгоднее`, так как предлагает расширить пакет за дополнительную невысокую плату, тогда как тариф Ultra предлагает пакет услуг, которые пользователи зачастую не используют даже наполовину."
   ]
  },
  {
   "cell_type": "markdown",
   "metadata": {},
   "source": [
    "Было проверено две гипотезы, которые подтвердили утверждения:\n",
    "- 1. Средняя выручка пользователей тарифов Smart Ultra отличается\n",
    "- 2. Поведение пользователей разных городов России в целом схоже: их траты на связь практически не отличаются."
   ]
  }
 ],
 "metadata": {
  "kernelspec": {
   "display_name": "Python 3",
   "language": "python",
   "name": "python3"
  },
  "language_info": {
   "codemirror_mode": {
    "name": "ipython",
    "version": 3
   },
   "file_extension": ".py",
   "mimetype": "text/x-python",
   "name": "python",
   "nbconvert_exporter": "python",
   "pygments_lexer": "ipython3",
   "version": "3.7.6"
  }
 },
 "nbformat": 4,
 "nbformat_minor": 4
}
